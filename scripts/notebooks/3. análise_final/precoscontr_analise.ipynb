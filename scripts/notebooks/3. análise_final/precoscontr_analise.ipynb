{
 "cells": [
  {
   "cell_type": "markdown",
   "id": "dea25cca-ef63-4e1b-b120-2b2b68af2798",
   "metadata": {},
   "source": [
    "# Preço Contratual VS Preço Total Efetivo\n",
    "\n",
    "Estudo da questão dos preços contratuais e preço total efetivo\n",
    "\n",
    "Existem contratos em que o preço contratual é demasiado baixo, no valor de alguns cêntimos apenas. Este, normalmente, é o valor por quantidade, km ou outra unidade qualquer. Quando o preço contratual é de alguns cêntimos/euros, o preço total efetivo é o valor total pago pela entidade contratante à contratada.\n",
    "\n",
    "O objetivo é fazer uma representação gráfica dos preços contratuais de modo a averiguar se existem várias modas para, posteriormente, fazer uma classificação/ construir diferentes intervalos de preços.\n",
    "\n",
    "Contudo, é preciso excluir todos os preços contratuais que tomam valores nulos ou muito baixos. \n",
    "\n",
    "O array dos preços contratuais vai ser construído da seguinte forma : \n",
    "\n",
    "- consideram-se todos os valores de preço contratual\n",
    "- substituem-se todos os preços contratuais pelo preço total efetivo nos casos em que o último campo esteja preenchido"
   ]
  },
  {
   "cell_type": "code",
   "execution_count": 1,
   "id": "f2b727dd-b2fe-4787-85da-edb983928024",
   "metadata": {},
   "outputs": [],
   "source": [
    "import psycopg2\n",
    "from psycopg2 import OperationalError\n",
    "from psycopg2 import sql\n",
    "\n",
    "import pandas as pd\n",
    "import numpy as np\n",
    "import matplotlib.pylab as plt\n",
    "import seaborn as sns\n",
    "from scipy import stats as st\n",
    "\n",
    "from datetime import datetime, timedelta\n",
    "\n",
    "import os\n",
    "from dotenv import load_dotenv\n",
    "dotenv_path = os.path.expanduser('~/.pwds.env')\n",
    "load_dotenv(dotenv_path)\n",
    "\n",
    "\n",
    "\n",
    "# Conexão à base de dados\n",
    "db_host = os.getenv('DB_HOST')\n",
    "db_port = os.getenv('DB_PORT')\n",
    "db_user = os.getenv('DB_USER')\n",
    "db_password = os.getenv('DB_PASSWORD')\n",
    "\n",
    "\n",
    "conn = psycopg2.connect(\n",
    "                host = db_host,\n",
    "                port = db_port,\n",
    "                user = db_user,\n",
    "                password = db_password\n",
    "        )"
   ]
  },
  {
   "cell_type": "code",
   "execution_count": 2,
   "id": "85f7bb63-b8db-4bc2-ba50-d8a4000e890c",
   "metadata": {},
   "outputs": [],
   "source": [
    "cur = conn.cursor()\n",
    "cur.execute('''\n",
    "            SELECT preco_contratual, contratos_basegov.\"totalEffectivePrice\"\n",
    "            FROM contratos_basegov\n",
    "            WHERE tipo_procedimento = 'Concurso público' AND preco_contratual >= 0;\n",
    "            ''')\n",
    "\n",
    "pc = pd.DataFrame(cur.fetchall())"
   ]
  },
  {
   "cell_type": "code",
   "execution_count": 3,
   "id": "adec0975-5801-4492-9ebf-f22d7a92bd8b",
   "metadata": {
    "scrolled": true
   },
   "outputs": [
    {
     "data": {
      "text/html": [
       "<div>\n",
       "<style scoped>\n",
       "    .dataframe tbody tr th:only-of-type {\n",
       "        vertical-align: middle;\n",
       "    }\n",
       "\n",
       "    .dataframe tbody tr th {\n",
       "        vertical-align: top;\n",
       "    }\n",
       "\n",
       "    .dataframe thead th {\n",
       "        text-align: right;\n",
       "    }\n",
       "</style>\n",
       "<table border=\"1\" class=\"dataframe\">\n",
       "  <thead>\n",
       "    <tr style=\"text-align: right;\">\n",
       "      <th></th>\n",
       "      <th>0</th>\n",
       "      <th>1</th>\n",
       "    </tr>\n",
       "  </thead>\n",
       "  <tbody>\n",
       "    <tr>\n",
       "      <th>0</th>\n",
       "      <td>102300.00</td>\n",
       "      <td>102300.0</td>\n",
       "    </tr>\n",
       "    <tr>\n",
       "      <th>1</th>\n",
       "      <td>9000.00</td>\n",
       "      <td>NaN</td>\n",
       "    </tr>\n",
       "    <tr>\n",
       "      <th>2</th>\n",
       "      <td>11850.00</td>\n",
       "      <td>NaN</td>\n",
       "    </tr>\n",
       "    <tr>\n",
       "      <th>3</th>\n",
       "      <td>6500.00</td>\n",
       "      <td>NaN</td>\n",
       "    </tr>\n",
       "    <tr>\n",
       "      <th>4</th>\n",
       "      <td>11100.00</td>\n",
       "      <td>NaN</td>\n",
       "    </tr>\n",
       "    <tr>\n",
       "      <th>...</th>\n",
       "      <td>...</td>\n",
       "      <td>...</td>\n",
       "    </tr>\n",
       "    <tr>\n",
       "      <th>123288</th>\n",
       "      <td>6225.00</td>\n",
       "      <td>NaN</td>\n",
       "    </tr>\n",
       "    <tr>\n",
       "      <th>123289</th>\n",
       "      <td>1342818.24</td>\n",
       "      <td>NaN</td>\n",
       "    </tr>\n",
       "    <tr>\n",
       "      <th>123290</th>\n",
       "      <td>67229.04</td>\n",
       "      <td>NaN</td>\n",
       "    </tr>\n",
       "    <tr>\n",
       "      <th>123291</th>\n",
       "      <td>2880.00</td>\n",
       "      <td>NaN</td>\n",
       "    </tr>\n",
       "    <tr>\n",
       "      <th>123292</th>\n",
       "      <td>8608.00</td>\n",
       "      <td>NaN</td>\n",
       "    </tr>\n",
       "  </tbody>\n",
       "</table>\n",
       "<p>123293 rows × 2 columns</p>\n",
       "</div>"
      ],
      "text/plain": [
       "                 0         1\n",
       "0        102300.00  102300.0\n",
       "1          9000.00       NaN\n",
       "2         11850.00       NaN\n",
       "3          6500.00       NaN\n",
       "4         11100.00       NaN\n",
       "...            ...       ...\n",
       "123288     6225.00       NaN\n",
       "123289  1342818.24       NaN\n",
       "123290    67229.04       NaN\n",
       "123291     2880.00       NaN\n",
       "123292     8608.00       NaN\n",
       "\n",
       "[123293 rows x 2 columns]"
      ]
     },
     "execution_count": 3,
     "metadata": {},
     "output_type": "execute_result"
    }
   ],
   "source": [
    "pc"
   ]
  },
  {
   "cell_type": "code",
   "execution_count": 4,
   "id": "f688aabf-6f6c-4ab0-b77a-1e0ecce3cdb5",
   "metadata": {},
   "outputs": [],
   "source": [
    "# Lista de todos os índices da dataframe\n",
    "all_index = pc.index.values"
   ]
  },
  {
   "cell_type": "code",
   "execution_count": 5,
   "id": "181db76e-271d-4db2-a473-b59cd96bded6",
   "metadata": {},
   "outputs": [],
   "source": [
    "# Índices dos contratos com preço total efetivo preenchido\n",
    "notnan = np.where(pc.iloc[:,1] >= 0)[0]"
   ]
  },
  {
   "cell_type": "code",
   "execution_count": 6,
   "id": "11d14604-3799-4d88-92f0-793e9bd33bdb",
   "metadata": {},
   "outputs": [],
   "source": [
    "# Preço total efetivo\n",
    "pte = pc.iloc[notnan,1]"
   ]
  },
  {
   "cell_type": "code",
   "execution_count": 7,
   "id": "9771a182-813a-4155-9ca2-19a3e6eae914",
   "metadata": {},
   "outputs": [],
   "source": [
    "# Índices dos contratos com preço total efetivo não preenchido.\n",
    "other_index = np.setdiff1d(all_index, notnan)"
   ]
  },
  {
   "cell_type": "code",
   "execution_count": 8,
   "id": "b92bfe01-fa52-478b-943d-f1f907df4183",
   "metadata": {},
   "outputs": [],
   "source": [
    "# Os casos em que o preço total efetivo não está preenchido e o preço contatual é nulo, seguramente, devem-se a erros de preenchimento na plataforma\n",
    "# Preços contratuais para contratos com preço total efetivo não preenchido\n",
    "pcontr = pc.iloc[other_index,0]"
   ]
  },
  {
   "cell_type": "code",
   "execution_count": 9,
   "id": "bd3477b6-98a7-4f95-ba02-7937fd344c85",
   "metadata": {},
   "outputs": [],
   "source": [
    "# Junção dos dois arrays\n",
    "# É preciso excluir os valores nulos que ainda se encontram em pcontr (???)\n",
    "prices = np.concatenate((pte,pcontr))"
   ]
  },
  {
   "cell_type": "code",
   "execution_count": 10,
   "id": "85701e74-a67c-4aa8-9e0e-913a187a6af9",
   "metadata": {},
   "outputs": [],
   "source": [
    "prices = prices[np.where(prices != 0)[0]]"
   ]
  },
  {
   "cell_type": "code",
   "execution_count": 12,
   "id": "456bbc3e-eaae-442e-a823-89378a6de0c7",
   "metadata": {},
   "outputs": [],
   "source": [
    "coiso = np.where(np.logical_and(prices < 400_000, prices > 500))[0]"
   ]
  },
  {
   "cell_type": "code",
   "execution_count": null,
   "id": "0d398d40-831b-42d8-a4bb-971fff420aef",
   "metadata": {},
   "outputs": [],
   "source": [
    "plt.hist(prices[coiso], bins = 5000)\n",
    "plt.show()"
   ]
  },
  {
   "cell_type": "code",
   "execution_count": 201,
   "id": "84c8db3b-26e4-4f3e-8cdc-6c23021ef46f",
   "metadata": {},
   "outputs": [
    {
     "data": {
      "text/plain": [
       "<Axes: >"
      ]
     },
     "execution_count": 201,
     "metadata": {},
     "output_type": "execute_result"
    },
    {
     "data": {
      "image/png": "[encoded data removed]",
      "text/plain": [
       "<Figure size 640x480 with 1 Axes>"
      ]
     },
     "metadata": {},
     "output_type": "display_data"
    }
   ],
   "source": [
    "sns.boxplot(prices, showfliers=False)"
   ]
  },
  {
   "cell_type": "code",
   "execution_count": 198,
   "id": "f8bd13d9-5b71-4cda-b88c-bb459a276445",
   "metadata": {},
   "outputs": [
    {
     "name": "stdout",
     "output_type": "stream",
     "text": [
      "600.0 52\n",
      "1500.0 51\n",
      "3000.0 149\n",
      "6000.0 60\n",
      "9000.0 56\n",
      "10000.0 73\n",
      "12000.0 71\n",
      "15000.0 113\n",
      "18000.0 77\n",
      "20000.0 150\n",
      "24000.0 64\n",
      "25000.0 92\n",
      "30000.0 188\n",
      "35000.0 109\n",
      "36000.0 62\n",
      "40000.0 99\n",
      "45000.0 110\n",
      "48000.0 51\n",
      "50000.0 159\n",
      "54000.0 51\n",
      "55000.0 70\n",
      "60000.0 154\n",
      "70000.0 109\n",
      "72000.0 56\n",
      "75000.0 139\n",
      "80000.0 88\n",
      "85000.0 51\n",
      "90000.0 145\n",
      "95000.0 51\n",
      "100000.0 168\n",
      "110000.0 54\n",
      "120000.0 144\n",
      "130000.0 62\n",
      "135000.0 63\n",
      "140000.0 51\n",
      "150000.0 159\n",
      "180000.0 82\n",
      "200000.0 117\n",
      "210000.0 82\n",
      "250000.0 54\n",
      "300000.0 52\n"
     ]
    }
   ],
   "source": [
    "unique_values, counts = np.unique(prices, return_counts=True)\n",
    "\n",
    "ind = np.where(counts > 50)[0]\n",
    "\n",
    "for i in ind:\n",
    "    print(unique_values[i], counts[i])"
   ]
  },
  {
   "cell_type": "code",
   "execution_count": 18,
   "id": "8b493ab5-36e1-424a-94f4-7fc5c3cf585d",
   "metadata": {},
   "outputs": [
    {
     "name": "stderr",
     "output_type": "stream",
     "text": [
      "/tmp/ipykernel_16051/3633659184.py:1: UserWarning: \n",
      "\n",
      "`distplot` is a deprecated function and will be removed in seaborn v0.14.0.\n",
      "\n",
      "Please adapt your code to use either `displot` (a figure-level function with\n",
      "similar flexibility) or `histplot` (an axes-level function for histograms).\n",
      "\n",
      "For a guide to updating your code to use the new functions, please see\n",
      "https://gist.github.com/mwaskom/de44147ed2974457ad6372750bbe5751\n",
      "\n",
      "  sns.distplot(prices[coiso], hist=True, kde=False,\n"
     ]
    },
    {
     "data": {
      "text/plain": [
       "<Axes: >"
      ]
     },
     "execution_count": 18,
     "metadata": {},
     "output_type": "execute_result"
    },
    {
     "data": {
      "image/png": "[encoded data removed]",
      "text/plain": [
       "<Figure size 640x480 with 1 Axes>"
      ]
     },
     "metadata": {},
     "output_type": "display_data"
    }
   ],
   "source": [
    "sns.distplot(prices[coiso], hist=True, kde=False, \n",
    "             bins=2500, color = 'darkblue')"
   ]
  },
  {
   "cell_type": "code",
   "execution_count": 19,
   "id": "8e354279-38c4-463b-8caa-ab2dcbe4ea77",
   "metadata": {},
   "outputs": [
    {
     "data": {
      "text/plain": [
       "397191013.95"
      ]
     },
     "execution_count": 19,
     "metadata": {},
     "output_type": "execute_result"
    }
   ],
   "source": [
    "np.max(pcontr)"
   ]
  },
  {
   "cell_type": "code",
   "execution_count": null,
   "id": "fcb7ee4e-8124-4313-824a-c907477f30fc",
   "metadata": {},
   "outputs": [],
   "source": []
  }
 ],
 "metadata": {
  "kernelspec": {
   "display_name": "Python 3 (ipykernel)",
   "language": "python",
   "name": "python3"
  },
  "language_info": {
   "codemirror_mode": {
    "name": "ipython",
    "version": 3
   },
   "file_extension": ".py",
   "mimetype": "text/x-python",
   "name": "python",
   "nbconvert_exporter": "python",
   "pygments_lexer": "ipython3",
   "version": "3.11.7"
  }
 },
 "nbformat": 4,
 "nbformat_minor": 5
}
