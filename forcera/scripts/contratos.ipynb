{
 "cells": [
  {
   "cell_type": "code",
   "execution_count": 174,
   "id": "ef433acb-381b-429e-94aa-82448e893c50",
   "metadata": {},
   "outputs": [],
   "source": [
    "import psycopg2\n",
    "from psycopg2 import OperationalError\n",
    "import pandas as pd\n",
    "import numpy as np\n",
    "from IPython.display import HTML"
   ]
  },
  {
   "cell_type": "markdown",
   "id": "bbe14772-070d-41a5-87f2-516415900c07",
   "metadata": {},
   "source": [
    "**Executar este comando quando ocorre um erro ao tentar realizar uma query**"
   ]
  },
  {
   "cell_type": "code",
   "execution_count": 118,
   "id": "999bd862-de97-4e07-ba5a-efb66d4b6ee6",
   "metadata": {},
   "outputs": [],
   "source": [
    "cur.execute('''ROLLBACK;''')"
   ]
  },
  {
   "cell_type": "markdown",
   "id": "8485a2d9-764a-4690-8ce2-bf3f04aec56a",
   "metadata": {},
   "source": [
    "**Criar a ligação com a database**"
   ]
  },
  {
   "cell_type": "code",
   "execution_count": 119,
   "id": "a5c90281-a79e-4530-b0e4-d9cf26e93eec",
   "metadata": {},
   "outputs": [],
   "source": [
    "# def create_connection(db_name, db_user, db_password, db_host, db_port):\n",
    "#     connection = None\n",
    "#     try:\n",
    "#         connection = psycopg2.connect(\n",
    "#             database=db_name,\n",
    "#             user=db_user,\n",
    "#             password=db_password,\n",
    "#             host=db_host,\n",
    "#             port=db_port,\n",
    "#         )\n",
    "#         print(\"Connection to PostgreSQL DB successful\")\n",
    "#     except OperationalError as e:\n",
    "#         print(f\"The error '{e}' occurred\")\n",
    "#     return connection\n",
    "# \n",
    "# connection = create_connection(\"aim4ps\", \"myuser\", \"1234\", \"localhost\", \"5434\")\n",
    "\n",
    "conn = psycopg2.connect(\n",
    "    host=\"localhost\",\n",
    "    port = 5434,\n",
    "    database=\"aim4ps\",\n",
    "    user=\"myuser\",\n",
    "    password=\"1234\")\n",
    "\n",
    "cur = conn.cursor()"
   ]
  },
  {
   "cell_type": "markdown",
   "id": "b9fadc3a-0984-4bda-8de1-0e8dfdb888ed",
   "metadata": {},
   "source": [
    "<br>\n",
    "\n",
    "**Selecionar nomes das colunas**"
   ]
  },
  {
   "cell_type": "code",
   "execution_count": 120,
   "id": "16effa26-52f9-4c9a-8191-a7a9ee76363b",
   "metadata": {},
   "outputs": [
    {
     "name": "stdout",
     "output_type": "stream",
     "text": [
      "[('data_celebracao',), ('preco_contratual',), ('prazo_execucao',), ('criterios_ambientais',), ('data_publicacao',), ('entidade_adjudicante',), ('fundamentacao',), ('entidades_concorrentes',), ('url_entidades_concorrente',), ('url_anuncio',), ('url_peças_procedimento',), ('url_documentos',), ('idcontrato',), ('cpv',), ('n_anuncio',), ('tipo_procedimento',), ('objecto_contrato',), ('nif_entidade_adjudicante',)]\n"
     ]
    }
   ],
   "source": [
    "cur.execute('''\n",
    "    SELECT column_name\n",
    "    FROM information_schema.columns\n",
    "    WHERE table_name = 'CONTRACTS';\n",
    "''');\n",
    "\n",
    "print(cur.fetchall())"
   ]
  },
  {
   "cell_type": "markdown",
   "id": "4cd5600a-8669-4b2b-8cb7-d1633367c383",
   "metadata": {},
   "source": [
    "<br>\n",
    "\n",
    "**Número de contratos total**"
   ]
  },
  {
   "cell_type": "code",
   "execution_count": 121,
   "id": "4e63521f-c22d-4c66-87d7-bdf42a5c947d",
   "metadata": {},
   "outputs": [
    {
     "name": "stdout",
     "output_type": "stream",
     "text": [
      "Número de contratos : \n"
     ]
    },
    {
     "data": {
      "text/plain": [
       "(338312,)"
      ]
     },
     "execution_count": 121,
     "metadata": {},
     "output_type": "execute_result"
    }
   ],
   "source": [
    "cur.execute('''\n",
    "    SELECT COUNT(*) FROM \"public\".\"CONTRACTS\";\n",
    "''')\n",
    "\n",
    "print(\"Número de contratos : \")\n",
    "cur.fetchone()"
   ]
  },
  {
   "cell_type": "markdown",
   "id": "5982043b-9f28-48a9-bcae-9b874556aa34",
   "metadata": {},
   "source": [
    "<br>\n",
    "\n",
    "**Imprimir um contrato da tabela CONTRACTS**"
   ]
  },
  {
   "cell_type": "code",
   "execution_count": 122,
   "id": "8512bdd1-3896-4a7c-9950-599c9976c4ce",
   "metadata": {},
   "outputs": [
    {
     "name": "stdout",
     "output_type": "stream",
     "text": [
      "[('8584386', 'None', 'Consulta Prévia', 'Serviços de manutenção de espaços verdes 2022: incluindo o corte de relva, manutenção do sistema de rede de rega, adubagem, pesticidas e inseticidas, podas de árvores e arbustos, o fornecimento de mão de obra necessária, assim como a maquinaria, transportes, materiais, ferramentas e outros equipamentos e produtos necessários ao correto desenvolvimento dos trabalhos', datetime.date(2022, 1, 2), datetime.date(2022, 1, 2), 7163.16, 364, '510837778', 'União das Freguesias de Margaride (Santa Eulália), Várzea, Lagares, Varziela e Moure', 'Artigo 20.º, n.º 1, alínea c) do Código dos Contratos Públicos', 'José Costa Teixeira (-)|||JARDINAGEM - Miguel Ricardo de Melo Moreira (-)|||Enfeites Prometidos, Jardinagem Unipessoal, Lda. (513718117)', 'https://www.base.gov.pt/Base4/pt/detalhe/?type=entidades&id=561696', 'None', 'None', 'https://www.base.gov.pt/Base4/pt/resultados/?type=doc_documentos&id=1491947&ext=.pdf', False, '77311000-3')]\n"
     ]
    }
   ],
   "source": [
    "cur.execute('''\n",
    "    TABLE \"CONTRACTS\";\n",
    "''')\n",
    "\n",
    "print(cur.fetchmany(1))"
   ]
  },
  {
   "cell_type": "markdown",
   "id": "7dcdc217-4978-4a08-9b5c-ae4757981e95",
   "metadata": {},
   "source": [
    "<br>\n",
    "\n",
    "**Ordenar tipo de procedimentos por ordem decrescente de contratos realizados**"
   ]
  },
  {
   "cell_type": "code",
   "execution_count": 175,
   "id": "37cf73bc-065c-49f8-901f-65522c3bf951",
   "metadata": {},
   "outputs": [
    {
     "data": {
      "text/html": [
       "<table border=\"1\" class=\"dataframe\">\n",
       "  <thead>\n",
       "    <tr style=\"text-align: right;\">\n",
       "      <th>0</th>\n",
       "      <th>1</th>\n",
       "    </tr>\n",
       "  </thead>\n",
       "  <tbody>\n",
       "    <tr>\n",
       "      <td>Ajuste Direto Regime Geral</td>\n",
       "      <td>180328</td>\n",
       "    </tr>\n",
       "    <tr>\n",
       "      <td>Consulta Prévia</td>\n",
       "      <td>71791</td>\n",
       "    </tr>\n",
       "    <tr>\n",
       "      <td>Concurso público</td>\n",
       "      <td>41578</td>\n",
       "    </tr>\n",
       "    <tr>\n",
       "      <td>Ao abrigo de acordo-quadro (art.º 259.º)</td>\n",
       "      <td>34498</td>\n",
       "    </tr>\n",
       "    <tr>\n",
       "      <td>Ao abrigo de acordo-quadro (art.º 258.º)</td>\n",
       "      <td>9137</td>\n",
       "    </tr>\n",
       "    <tr>\n",
       "      <td>Concurso limitado por prévia qualificação</td>\n",
       "      <td>582</td>\n",
       "    </tr>\n",
       "    <tr>\n",
       "      <td>Consulta Prévia Simplificada</td>\n",
       "      <td>347</td>\n",
       "    </tr>\n",
       "    <tr>\n",
       "      <td>Procedimento de negociação</td>\n",
       "      <td>17</td>\n",
       "    </tr>\n",
       "    <tr>\n",
       "      <td>Concurso público simplificado</td>\n",
       "      <td>13</td>\n",
       "    </tr>\n",
       "    <tr>\n",
       "      <td>Consulta prévia ao abrigo do artigo 7º da Lei n.º 30/2021, de 21.05</td>\n",
       "      <td>13</td>\n",
       "    </tr>\n",
       "    <tr>\n",
       "      <td>Ajuste Direto Regime Geral ao abrigo do artigo 7º da Lei n.º 30/2021, de 21.05</td>\n",
       "      <td>6</td>\n",
       "    </tr>\n",
       "    <tr>\n",
       "      <td>Parceria para a inovação</td>\n",
       "      <td>1</td>\n",
       "    </tr>\n",
       "    <tr>\n",
       "      <td>Serviços sociais e outros serviços específicos</td>\n",
       "      <td>1</td>\n",
       "    </tr>\n",
       "  </tbody>\n",
       "</table>"
      ],
      "text/plain": [
       "<IPython.core.display.HTML object>"
      ]
     },
     "execution_count": 175,
     "metadata": {},
     "output_type": "execute_result"
    }
   ],
   "source": [
    "cur = conn.cursor()\n",
    "cur.execute('''\n",
    "        SELECT tipo_procedimento, COUNT (tipo_procedimento)\n",
    "        FROM \"CONTRACTS\"\n",
    "        GROUP BY \"tipo_procedimento\"\n",
    "        ORDER BY COUNT(tipo_procedimento) DESC;;''')\n",
    "\n",
    "df = (pd.DataFrame(cur.fetchall()))\n",
    "HTML(df.to_html(index=False))"
   ]
  },
  {
   "cell_type": "markdown",
   "id": "465ce6ba-7028-49f4-985b-9fd27513349f",
   "metadata": {},
   "source": [
    "<br>\n",
    "\n",
    "**Criar uma tabela apenas com os Ajustes Diretos em Regime Geral**"
   ]
  },
  {
   "cell_type": "code",
   "execution_count": 124,
   "id": "b2b8ac64-dea4-4cf0-87ce-7b835da4f305",
   "metadata": {},
   "outputs": [
    {
     "ename": "DuplicateTable",
     "evalue": "relation \"ajustes_diretos\" already exists\n",
     "output_type": "error",
     "traceback": [
      "\u001b[0;31m---------------------------------------------------------------------------\u001b[0m",
      "\u001b[0;31mDuplicateTable\u001b[0m                            Traceback (most recent call last)",
      "Cell \u001b[0;32mIn[124], line 2\u001b[0m\n\u001b[1;32m      1\u001b[0m cur \u001b[38;5;241m=\u001b[39m conn\u001b[38;5;241m.\u001b[39mcursor()\n\u001b[0;32m----> 2\u001b[0m \u001b[43mcur\u001b[49m\u001b[38;5;241;43m.\u001b[39;49m\u001b[43mexecute\u001b[49m\u001b[43m(\u001b[49m\u001b[38;5;124;43m'''\u001b[39;49m\n\u001b[1;32m      3\u001b[0m \u001b[38;5;124;43m        CREATE TABLE ajustes_diretos AS\u001b[39;49m\n\u001b[1;32m      4\u001b[0m \u001b[38;5;124;43m        SELECT * \u001b[39;49m\n\u001b[1;32m      5\u001b[0m \u001b[38;5;124;43m        FROM \u001b[39;49m\u001b[38;5;124;43m\"\u001b[39;49m\u001b[38;5;124;43mCONTRACTS\u001b[39;49m\u001b[38;5;124;43m\"\u001b[39;49m\n\u001b[1;32m      6\u001b[0m \u001b[38;5;124;43m        WHERE tipo_procedimento = \u001b[39;49m\u001b[38;5;124;43m'\u001b[39;49m\u001b[38;5;124;43mAjuste Direto Regime Geral\u001b[39;49m\u001b[38;5;124;43m'\u001b[39;49m\u001b[38;5;124;43m;\u001b[39;49m\n\u001b[1;32m      7\u001b[0m \u001b[38;5;124;43m'''\u001b[39;49m\u001b[43m)\u001b[49m\n",
      "\u001b[0;31mDuplicateTable\u001b[0m: relation \"ajustes_diretos\" already exists\n"
     ]
    }
   ],
   "source": [
    "cur = conn.cursor()\n",
    "cur.execute('''\n",
    "        CREATE TABLE ajustes_diretos AS\n",
    "        SELECT * \n",
    "        FROM \"CONTRACTS\"\n",
    "        WHERE tipo_procedimento = 'Ajuste Direto Regime Geral';\n",
    "''')"
   ]
  },
  {
   "cell_type": "markdown",
   "id": "cb518316-80d2-4b45-b0ff-72216576287d",
   "metadata": {},
   "source": [
    "<br>\n",
    "\n",
    "**Selecionar apenas um dos contratos da tabela criada acima**"
   ]
  },
  {
   "cell_type": "code",
   "execution_count": 125,
   "id": "f507df69-fe0c-4fe4-907c-6cc95c4291c3",
   "metadata": {},
   "outputs": [
    {
     "data": {
      "text/html": [
       "<div>\n",
       "<style scoped>\n",
       "    .dataframe tbody tr th:only-of-type {\n",
       "        vertical-align: middle;\n",
       "    }\n",
       "\n",
       "    .dataframe tbody tr th {\n",
       "        vertical-align: top;\n",
       "    }\n",
       "\n",
       "    .dataframe thead th {\n",
       "        text-align: right;\n",
       "    }\n",
       "</style>\n",
       "<table border=\"1\" class=\"dataframe\">\n",
       "  <thead>\n",
       "    <tr style=\"text-align: right;\">\n",
       "      <th></th>\n",
       "      <th>0</th>\n",
       "      <th>1</th>\n",
       "      <th>2</th>\n",
       "      <th>3</th>\n",
       "      <th>4</th>\n",
       "      <th>5</th>\n",
       "      <th>6</th>\n",
       "      <th>7</th>\n",
       "      <th>8</th>\n",
       "      <th>9</th>\n",
       "      <th>10</th>\n",
       "      <th>11</th>\n",
       "      <th>12</th>\n",
       "      <th>13</th>\n",
       "      <th>14</th>\n",
       "      <th>15</th>\n",
       "      <th>16</th>\n",
       "      <th>17</th>\n",
       "    </tr>\n",
       "  </thead>\n",
       "  <tbody>\n",
       "    <tr>\n",
       "      <th>0</th>\n",
       "      <td>8584389</td>\n",
       "      <td>None</td>\n",
       "      <td>Ajuste Direto Regime Geral</td>\n",
       "      <td>Serviços no âmbito da Ação Social: Sinalizar i...</td>\n",
       "      <td>2022-01-02</td>\n",
       "      <td>2022-01-02</td>\n",
       "      <td>10800.0</td>\n",
       "      <td>364</td>\n",
       "      <td>506970892</td>\n",
       "      <td>Freguesia de Ronfe</td>\n",
       "      <td>Artigo 20.º, n.º 1, alínea d) do Código dos Co...</td>\n",
       "      <td>Joana Maria de Sousa Ferreira Lima de Freitas (-)</td>\n",
       "      <td>https://www.base.gov.pt/Base4/pt/detalhe/?type...</td>\n",
       "      <td>None</td>\n",
       "      <td>None</td>\n",
       "      <td>https://www.base.gov.pt/Base4/pt/resultados/?t...</td>\n",
       "      <td>False</td>\n",
       "      <td>85322000-2</td>\n",
       "    </tr>\n",
       "  </tbody>\n",
       "</table>\n",
       "</div>"
      ],
      "text/plain": [
       "        0     1                           2   \\\n",
       "0  8584389  None  Ajuste Direto Regime Geral   \n",
       "\n",
       "                                                  3           4           5   \\\n",
       "0  Serviços no âmbito da Ação Social: Sinalizar i...  2022-01-02  2022-01-02   \n",
       "\n",
       "        6    7          8                   9   \\\n",
       "0  10800.0  364  506970892  Freguesia de Ronfe   \n",
       "\n",
       "                                                  10  \\\n",
       "0  Artigo 20.º, n.º 1, alínea d) do Código dos Co...   \n",
       "\n",
       "                                                  11  \\\n",
       "0  Joana Maria de Sousa Ferreira Lima de Freitas (-)   \n",
       "\n",
       "                                                  12    13    14  \\\n",
       "0  https://www.base.gov.pt/Base4/pt/detalhe/?type...  None  None   \n",
       "\n",
       "                                                  15     16          17  \n",
       "0  https://www.base.gov.pt/Base4/pt/resultados/?t...  False  85322000-2  "
      ]
     },
     "execution_count": 125,
     "metadata": {},
     "output_type": "execute_result"
    }
   ],
   "source": [
    "cur.execute('''\n",
    "    TABLE \"ajustes_diretos\";\n",
    "''')\n",
    "\n",
    "pd.DataFrame(cur.fetchmany(1))"
   ]
  },
  {
   "cell_type": "markdown",
   "id": "1784b4b9-3f34-4219-9ff2-757ac8f3164e",
   "metadata": {},
   "source": [
    "<br>\n",
    "\n",
    "**Ordenar, por ordem decrescente, as empresas com mais ajustes diretos realizados**"
   ]
  },
  {
   "cell_type": "code",
   "execution_count": 177,
   "id": "fe8be359-9f59-49c0-8b8d-e7f3fd39bd0f",
   "metadata": {},
   "outputs": [
    {
     "data": {
      "text/html": [
       "<table border=\"1\" class=\"dataframe\">\n",
       "  <thead>\n",
       "    <tr style=\"text-align: right;\">\n",
       "      <th>0</th>\n",
       "      <th>1</th>\n",
       "    </tr>\n",
       "  </thead>\n",
       "  <tbody>\n",
       "    <tr>\n",
       "      <td>Instituto Português de Oncologia do Porto Francisco Gentil, E. P. E.</td>\n",
       "      <td>22829</td>\n",
       "    </tr>\n",
       "    <tr>\n",
       "      <td>Marinha</td>\n",
       "      <td>4828</td>\n",
       "    </tr>\n",
       "    <tr>\n",
       "      <td>Centro Hospitalar Universitário de Lisboa Norte, E. P. E.</td>\n",
       "      <td>3872</td>\n",
       "    </tr>\n",
       "    <tr>\n",
       "      <td>Centro Hospitalar de Tondela - Viseu, E.P.E.</td>\n",
       "      <td>3559</td>\n",
       "    </tr>\n",
       "    <tr>\n",
       "      <td>Centro Hospitalar e Universitário de Coimbra, E. P. E.</td>\n",
       "      <td>3004</td>\n",
       "    </tr>\n",
       "    <tr>\n",
       "      <td>MARINHA - Direção de Navios</td>\n",
       "      <td>2636</td>\n",
       "    </tr>\n",
       "    <tr>\n",
       "      <td>Estado-Maior-General das Forças Armadas (EMGFA)</td>\n",
       "      <td>2612</td>\n",
       "    </tr>\n",
       "    <tr>\n",
       "      <td>Centro Hospitalar Tondela-Viseu, E. P. E.</td>\n",
       "      <td>2477</td>\n",
       "    </tr>\n",
       "    <tr>\n",
       "      <td>Instituto Português de Oncologia de Lisboa Francisco Gentil, E. P. E.</td>\n",
       "      <td>2476</td>\n",
       "    </tr>\n",
       "    <tr>\n",
       "      <td>Hospital Garcia de Orta, E.P.E.</td>\n",
       "      <td>2436</td>\n",
       "    </tr>\n",
       "  </tbody>\n",
       "</table>"
      ],
      "text/plain": [
       "<IPython.core.display.HTML object>"
      ]
     },
     "execution_count": 177,
     "metadata": {},
     "output_type": "execute_result"
    }
   ],
   "source": [
    "cur = conn.cursor()\n",
    "cur.execute('''\n",
    "        SELECT entidade_adjudicante, COUNT (entidade_adjudicante)\n",
    "        FROM \"CONTRACTS\"\n",
    "        WHERE tipo_procedimento = 'Ajuste Direto Regime Geral'\n",
    "        GROUP BY \"entidade_adjudicante\"\n",
    "        ORDER BY COUNT(entidade_adjudicante) DESC;''')\n",
    "\n",
    "HTML(pd.DataFrame(cur.fetchmany(10)).to_html(index=False))"
   ]
  },
  {
   "cell_type": "markdown",
   "id": "e90a9df4-be8e-4858-b7ba-c96bf27b6979",
   "metadata": {},
   "source": [
    "<br>\n",
    "\n",
    "**Selecionar todos os contratos realizados pela mesma entidade adjudicante**"
   ]
  },
  {
   "cell_type": "code",
   "execution_count": 185,
   "id": "e5256557-5ab5-42ab-b61b-371c3175f8b4",
   "metadata": {},
   "outputs": [
    {
     "data": {
      "text/html": [
       "<table border=\"1\" class=\"dataframe\">\n",
       "  <thead>\n",
       "    <tr style=\"text-align: right;\">\n",
       "      <th>0</th>\n",
       "      <th>1</th>\n",
       "      <th>2</th>\n",
       "      <th>3</th>\n",
       "      <th>4</th>\n",
       "      <th>5</th>\n",
       "      <th>6</th>\n",
       "      <th>7</th>\n",
       "      <th>8</th>\n",
       "      <th>9</th>\n",
       "      <th>10</th>\n",
       "      <th>11</th>\n",
       "      <th>12</th>\n",
       "      <th>13</th>\n",
       "      <th>14</th>\n",
       "      <th>15</th>\n",
       "      <th>16</th>\n",
       "      <th>17</th>\n",
       "    </tr>\n",
       "  </thead>\n",
       "  <tbody>\n",
       "    <tr>\n",
       "      <td>8584389</td>\n",
       "      <td>None</td>\n",
       "      <td>Ajuste Direto Regime Geral</td>\n",
       "      <td>Serviços no âmbito da Ação Social: Sinalizar idosos em situações de isolamento/fragilidade sem acesso a respostas sociais e articular o encaminhamento para as respetivas respostas sociais disponíveis. Diagnosticar a rede de suporte familiar e social e desenvolver estratégias de intervenção. Avaliar a situação socioeconómica do idoso e informar e apoiar no acesso a subsídios ou prestações da Segurança Social. Articular com as IPSS, nas diferentes respostas sociais existentes, com a USF e com a família e/ou cuidadores informais, no sentido de estabelecer parcerias no cuidado ao idoso. Avaliações psicológicas e avaliações cognitivas</td>\n",
       "      <td>2022-01-02</td>\n",
       "      <td>2022-01-02</td>\n",
       "      <td>10800.00</td>\n",
       "      <td>364</td>\n",
       "      <td>506970892</td>\n",
       "      <td>Freguesia de Ronfe</td>\n",
       "      <td>Artigo 20.º, n.º 1, alínea d) do Código dos Contratos Públicos</td>\n",
       "      <td>Joana Maria de Sousa Ferreira Lima de Freitas (-)</td>\n",
       "      <td>https://www.base.gov.pt/Base4/pt/detalhe/?type=entidades&amp;id=4011442</td>\n",
       "      <td>None</td>\n",
       "      <td>None</td>\n",
       "      <td>https://www.base.gov.pt/Base4/pt/resultados/?type=doc_documentos&amp;id=1491950&amp;ext=.pdf</td>\n",
       "      <td>False</td>\n",
       "      <td>85322000-2</td>\n",
       "    </tr>\n",
       "    <tr>\n",
       "      <td>8584391</td>\n",
       "      <td>None</td>\n",
       "      <td>Consulta Prévia</td>\n",
       "      <td>Serviços no âmbito administrativo, nomeadamente, coordenação e execução de tarefas relacionadas com o Posto dos CTT e serviços administrativos</td>\n",
       "      <td>2022-01-02</td>\n",
       "      <td>2022-01-02</td>\n",
       "      <td>8460.00</td>\n",
       "      <td>364</td>\n",
       "      <td>506970892</td>\n",
       "      <td>Freguesia de Ronfe</td>\n",
       "      <td>Artigo 20.º, n.º 1, alínea c) do Código dos Contratos Públicos</td>\n",
       "      <td>Olga Alice Mendes Ferreira Mota (-)|||Fernando Eleutério Carvalho Martins Fernandes (-)|||Victor Miguel  Ferreira de Castro (-)</td>\n",
       "      <td>https://www.base.gov.pt/Base4/pt/detalhe/?type=entidades&amp;id=1688939</td>\n",
       "      <td>None</td>\n",
       "      <td>None</td>\n",
       "      <td>https://www.base.gov.pt/Base4/pt/resultados/?type=doc_documentos&amp;id=1491952&amp;ext=.pdf</td>\n",
       "      <td>False</td>\n",
       "      <td>75110000-0</td>\n",
       "    </tr>\n",
       "    <tr>\n",
       "      <td>8584385</td>\n",
       "      <td>None</td>\n",
       "      <td>Consulta Prévia</td>\n",
       "      <td>Serviços de limpeza e manutenção de bermas de ruas - 2022: Limpeza de bermas, valetas e manutenção de espaços públicos. Manter sem vegetação selvagem as valetas de todas as ruas e caminhos da Freguesia de Ronfe, no Concelho de Guimarães. Por vegetação selvagem compreende-se toda a vegetação rasteira que cresce nos caminhos, ruas e bermas, bem como arbustos até 1,5 metros de altura. Utilização de herbicidas não tóxicos autorizados pelas normas comunitárias e ainda o uso de mecanismos de corte que considere necessário. Remoção dos detritos que resultem do exercício dos serviços prestados</td>\n",
       "      <td>2022-01-02</td>\n",
       "      <td>2022-01-02</td>\n",
       "      <td>14400.00</td>\n",
       "      <td>364</td>\n",
       "      <td>506970892</td>\n",
       "      <td>Freguesia de Ronfe</td>\n",
       "      <td>Artigo 20.º, n.º 1, alínea c) do Código dos Contratos Públicos</td>\n",
       "      <td>Ambicalendario Unipessoal Lda (508725895)|||GKBWS CHEMICAL, LDA. (513760067)|||Augusto Manuel Gonçalves Martins (-)</td>\n",
       "      <td>https://www.base.gov.pt/Base4/pt/detalhe/?type=entidades&amp;id=207366</td>\n",
       "      <td>None</td>\n",
       "      <td>None</td>\n",
       "      <td>https://www.base.gov.pt/Base4/pt/resultados/?type=doc_documentos&amp;id=1491946&amp;ext=.pdf</td>\n",
       "      <td>False</td>\n",
       "      <td>90611000-3</td>\n",
       "    </tr>\n",
       "    <tr>\n",
       "      <td>9619478</td>\n",
       "      <td>None</td>\n",
       "      <td>Ajuste Direto Regime Geral</td>\n",
       "      <td>Pavimentação da Travessa de Repiade em betuminoso, com caraterísticas de desgaste, numa área de 570m2\\n</td>\n",
       "      <td>2022-12-14</td>\n",
       "      <td>2022-12-12</td>\n",
       "      <td>19545.00</td>\n",
       "      <td>20</td>\n",
       "      <td>506970892</td>\n",
       "      <td>Freguesia de Ronfe</td>\n",
       "      <td>Artigo 19.º, alínea d) do Código dos Contratos Públicos</td>\n",
       "      <td>Guardizeltrans - Transportes, Lda (505521970)</td>\n",
       "      <td>https://www.base.gov.pt/Base4/pt/detalhe/?type=entidades&amp;id=44294</td>\n",
       "      <td>None</td>\n",
       "      <td>None</td>\n",
       "      <td>https://www.base.gov.pt/Base4/pt/resultados/?type=doc_documentos&amp;id=1922997&amp;ext=.pdf</td>\n",
       "      <td>False</td>\n",
       "      <td>45233252-0</td>\n",
       "    </tr>\n",
       "    <tr>\n",
       "      <td>7419863</td>\n",
       "      <td>None</td>\n",
       "      <td>Consulta Prévia</td>\n",
       "      <td>Prestação de serviços de limpeza e manutenção de bermas de ruas - 2021: Limpeza de bermas, valetas e manutenção de espaços públicos; Manter sem vegetação selvagem as valetas de todas as ruas e caminhos da Freguesia de Ronfe, no Concelho de Guimarães; Por vegetação selvagem compreende-se toda a vegetação rasteira que cresce nos caminhos, ruas e bermas, bem como arbustos até 1,5 metros de altura; Utilização de herbicidas não tóxicos autorizados pelas normas comunitárias e ainda o uso de mecanismos de corte que considere necessário; Remoção dos detritos que resultem do exercício dos serviços prestados.</td>\n",
       "      <td>2021-02-01</td>\n",
       "      <td>2021-02-01</td>\n",
       "      <td>11550.00</td>\n",
       "      <td>334</td>\n",
       "      <td>506970892</td>\n",
       "      <td>Freguesia de Ronfe</td>\n",
       "      <td>Artigo 20.º, n.º 1, alínea c) do Código dos Contratos Públicos</td>\n",
       "      <td>Ambicalendário - Unipessoal, Lda (508725895)|||Malvalunar - Unipessoal, Lda. (514717610)|||Teoriacasual Unipessoal, Lda (515447277)</td>\n",
       "      <td>https://www.base.gov.pt/Base4/pt/detalhe/?type=entidades&amp;id=207366</td>\n",
       "      <td>None</td>\n",
       "      <td>None</td>\n",
       "      <td>https://www.base.gov.pt/Base4/pt/resultados/?type=doc_documentos&amp;id=932434&amp;ext=.pdf</td>\n",
       "      <td>False</td>\n",
       "      <td>90611000-3</td>\n",
       "    </tr>\n",
       "    <tr>\n",
       "      <td>7419901</td>\n",
       "      <td>None</td>\n",
       "      <td>Consulta Prévia</td>\n",
       "      <td>Prestação de serviços no âmbito administrativo, nomeadamente, coordenação e execução de tarefas relacionadas com o Posto dos CTT e serviços administrativos.</td>\n",
       "      <td>2021-02-01</td>\n",
       "      <td>2021-02-01</td>\n",
       "      <td>7315.00</td>\n",
       "      <td>334</td>\n",
       "      <td>506970892</td>\n",
       "      <td>Freguesia de Ronfe</td>\n",
       "      <td>Artigo 20.º, n.º 1, alínea c) do Código dos Contratos Públicos</td>\n",
       "      <td>Olga Alice Mendes Ferreira Mota (-)|||Fernando Eleutério Carvalho Martins Fernandes (-)|||Victor Miguel  Ferreira de Castro (-)</td>\n",
       "      <td>https://www.base.gov.pt/Base4/pt/detalhe/?type=entidades&amp;id=1688939</td>\n",
       "      <td>None</td>\n",
       "      <td>None</td>\n",
       "      <td>https://www.base.gov.pt/Base4/pt/resultados/?type=doc_documentos&amp;id=1301468&amp;ext=.pdf</td>\n",
       "      <td>False</td>\n",
       "      <td>75110000-0</td>\n",
       "    </tr>\n",
       "    <tr>\n",
       "      <td>8485695</td>\n",
       "      <td>None</td>\n",
       "      <td>Consulta Prévia</td>\n",
       "      <td>Aquisição de dois conjuntos acoplados pré-fabricados para bar e sanitário: Um conjunto acoplado pré-fabricado com 12,00x4,88x2,87m para bar, revestido a madeira de pinho tratado, com montagem incluída. Um conjunto acoplado pré-fabricado com 12,00x2,44x2,87m para sanitário, revestidos a madeira de pinho tratado, com montagem incluída. Bases em betão e bloco para os dois conjuntos.</td>\n",
       "      <td>2021-12-10</td>\n",
       "      <td>2021-11-17</td>\n",
       "      <td>47610.00</td>\n",
       "      <td>60</td>\n",
       "      <td>506970892</td>\n",
       "      <td>Freguesia de Ronfe</td>\n",
       "      <td>Artigo 20.º, n.º 1, alínea c) do Código dos Contratos Públicos</td>\n",
       "      <td>Serralharia Carvalho, Lda (501703616)|||FECOMAR - REPARAÇÃO DE CONTENTORES E TRANSPORTES, LDA. (502590068)|||CMP - Construções Modulares Pré - Fabricadas, Lda (501971521)</td>\n",
       "      <td>https://www.base.gov.pt/Base4/pt/detalhe/?type=entidades&amp;id=114366</td>\n",
       "      <td>None</td>\n",
       "      <td>None</td>\n",
       "      <td>https://www.base.gov.pt/Base4/pt/resultados/?type=doc_documentos&amp;id=1447659&amp;ext=.pdf</td>\n",
       "      <td>False</td>\n",
       "      <td>44211000-2</td>\n",
       "    </tr>\n",
       "    <tr>\n",
       "      <td>9137408</td>\n",
       "      <td>None</td>\n",
       "      <td>Ajuste Direto Regime Geral</td>\n",
       "      <td>Prestação de serviços no âmbito da Ação Social: Sinalizar idosos em situações de isolamento/fragilidade sem acesso a respostas sociais e articular o encaminhamento para as respetivas respostas sociais disponíveis; Diagnosticar a rede de suporte familiar e social e desenvolver estratégias de intervenção; Avaliar a situação sócio-económica do idoso e informar e apoiar no acesso a subsídios ou prestações da Segurança Social; Articular com as IPSS, nas diferentes respostas sociais existentes, com a USF e com a família e/ou cuidadores informais, no sentido de estabelecer parcerias no cuidado ao idoso.</td>\n",
       "      <td>2022-03-22</td>\n",
       "      <td>2022-03-15</td>\n",
       "      <td>4275.00</td>\n",
       "      <td>292</td>\n",
       "      <td>506970892</td>\n",
       "      <td>Freguesia de Ronfe</td>\n",
       "      <td>Artigo 20.º, n.º 1, alínea d) do Código dos Contratos Públicos</td>\n",
       "      <td>Ana Rita Freitas de Azevedo (-)</td>\n",
       "      <td>https://www.base.gov.pt/Base4/pt/detalhe/?type=entidades&amp;id=4488587</td>\n",
       "      <td>None</td>\n",
       "      <td>None</td>\n",
       "      <td>https://www.base.gov.pt/Base4/pt/resultados/?type=doc_documentos&amp;id=1786978&amp;ext=.pdf</td>\n",
       "      <td>False</td>\n",
       "      <td>85322000-2</td>\n",
       "    </tr>\n",
       "    <tr>\n",
       "      <td>9482410</td>\n",
       "      <td>None</td>\n",
       "      <td>Ajuste Direto Regime Geral</td>\n",
       "      <td>Drenagem de águas pluviais Rua Manuel Ribeiro Faria, execução de nove caixas de visita e assentamento de tubo em 220ml e demais trabalhos necessários à reposição do pavimento.</td>\n",
       "      <td>2022-10-03</td>\n",
       "      <td>2022-10-03</td>\n",
       "      <td>12107.50</td>\n",
       "      <td>15</td>\n",
       "      <td>506970892</td>\n",
       "      <td>Freguesia de Ronfe</td>\n",
       "      <td>Artigo 19.º, alínea d) do Código dos Contratos Públicos</td>\n",
       "      <td>Guardizeltrans - Transportes, Lda. (505521970)</td>\n",
       "      <td>https://www.base.gov.pt/Base4/pt/detalhe/?type=entidades&amp;id=44294</td>\n",
       "      <td>None</td>\n",
       "      <td>None</td>\n",
       "      <td>None</td>\n",
       "      <td>False</td>\n",
       "      <td>45232130-2</td>\n",
       "    </tr>\n",
       "    <tr>\n",
       "      <td>7419921</td>\n",
       "      <td>None</td>\n",
       "      <td>Consulta Prévia</td>\n",
       "      <td>Prestação de serviços de Nutricionista: Serviços de nutrição no âmbito da Intervenção Local - Promoção da Qualidade de Vida</td>\n",
       "      <td>2021-02-01</td>\n",
       "      <td>2021-02-01</td>\n",
       "      <td>8415.00</td>\n",
       "      <td>334</td>\n",
       "      <td>506970892</td>\n",
       "      <td>Freguesia de Ronfe</td>\n",
       "      <td>Artigo 20.º, n.º 1, alínea c) do Código dos Contratos Públicos</td>\n",
       "      <td>Ana Cláudia Gomes Pereira Gonçalves (-)|||Catarina Alexandra Moura Barbosa (-)|||Pedro Miguel Fernandes Pimenta (-)</td>\n",
       "      <td>https://www.base.gov.pt/Base4/pt/detalhe/?type=entidades&amp;id=2358507</td>\n",
       "      <td>None</td>\n",
       "      <td>None</td>\n",
       "      <td>https://www.base.gov.pt/Base4/pt/resultados/?type=doc_documentos&amp;id=1301466&amp;ext=.pdf</td>\n",
       "      <td>False</td>\n",
       "      <td>85322000-2</td>\n",
       "    </tr>\n",
       "    <tr>\n",
       "      <td>7510308</td>\n",
       "      <td>None</td>\n",
       "      <td>Ajuste Direto Regime Geral</td>\n",
       "      <td>Prestação de serviços no âmbito da Ação Social: Sinalizar idosos em situações de isolamento/fragilidade sem acesso a respostas sociais e articular o encaminhamento para as respetivas respostas sociais disponíveis; Diagnosticar a rede de suporte familiar e social e desenvolver estratégias de intervenção; Avaliar a situação sócio-económica do idoso e informar e apoiar no acesso a subsídios ou prestações da Segurança Social; Articular com as IPSS, nas diferentes respostas sociais existentes, com a USF e com a família e/ou cuidadores informais, no sentido de estabelecer parcerias no cuidado ao idoso. Avaliações psicológicas e avaliações cognitivas.</td>\n",
       "      <td>2021-03-03</td>\n",
       "      <td>2021-03-01</td>\n",
       "      <td>8330.00</td>\n",
       "      <td>306</td>\n",
       "      <td>506970892</td>\n",
       "      <td>Freguesia de Ronfe</td>\n",
       "      <td>Artigo 20.º, n.º 1, alínea d) do Código dos Contratos Públicos</td>\n",
       "      <td>Joana Maria de Sousa Ferreira Lima de Freitas (-)</td>\n",
       "      <td>https://www.base.gov.pt/Base4/pt/detalhe/?type=entidades&amp;id=4011442</td>\n",
       "      <td>None</td>\n",
       "      <td>None</td>\n",
       "      <td>https://www.base.gov.pt/Base4/pt/resultados/?type=doc_documentos&amp;id=1301464&amp;ext=.pdf</td>\n",
       "      <td>False</td>\n",
       "      <td>85322000-2</td>\n",
       "    </tr>\n",
       "    <tr>\n",
       "      <td>7700455</td>\n",
       "      <td>None</td>\n",
       "      <td>Ajuste Direto Regime Geral</td>\n",
       "      <td>Aquisição de carrinha de nove lugares, em estado de uso, a gasóleo, cilindrada mínima de 1500 cm3.</td>\n",
       "      <td>2021-06-08</td>\n",
       "      <td>2021-06-08</td>\n",
       "      <td>15853.66</td>\n",
       "      <td>10</td>\n",
       "      <td>506970892</td>\n",
       "      <td>Freguesia de Ronfe</td>\n",
       "      <td>Artigo 20.º, n.º 1, alínea d) do Código dos Contratos Públicos</td>\n",
       "      <td>Marco Silva Moreira Unipessoal, Lda. (510974295)</td>\n",
       "      <td>https://www.base.gov.pt/Base4/pt/detalhe/?type=entidades&amp;id=1334391</td>\n",
       "      <td>None</td>\n",
       "      <td>None</td>\n",
       "      <td>https://www.base.gov.pt/Base4/pt/resultados/?type=doc_documentos&amp;id=1027044&amp;ext=.pdf</td>\n",
       "      <td>False</td>\n",
       "      <td>34115300-9</td>\n",
       "    </tr>\n",
       "    <tr>\n",
       "      <td>9334053</td>\n",
       "      <td>None</td>\n",
       "      <td>Ajuste Direto Regime Geral</td>\n",
       "      <td>Serviços no âmbito da Ação Social: Sinalizar idosos em situações de isolamento/fragilidade sem acesso a respostas sociais e articular o encaminhamento para as respetivas respostas sociais disponíveis. Diagnosticar a rede de suporte familiar e social e desenvolver estratégias de intervenção. Avaliar a situação socioeconómica do idoso e informar e apoiar no acesso a subsídios ou prestações da Segurança Social. Articular com as IPSS, nas diferentes respostas sociais existentes, com a USF e com a família e/ou cuidadores informais, no sentido de estabelecer parcerias no cuidado ao idoso</td>\n",
       "      <td>2022-07-01</td>\n",
       "      <td>2022-06-16</td>\n",
       "      <td>5850.00</td>\n",
       "      <td>199</td>\n",
       "      <td>506970892</td>\n",
       "      <td>Freguesia de Ronfe</td>\n",
       "      <td>Artigo 20.º, n.º 1, alínea d) do Código dos Contratos Públicos</td>\n",
       "      <td>Ana Isabel da Costa Atilano (-)</td>\n",
       "      <td>https://www.base.gov.pt/Base4/pt/detalhe/?type=entidades&amp;id=4551525</td>\n",
       "      <td>None</td>\n",
       "      <td>None</td>\n",
       "      <td>https://www.base.gov.pt/Base4/pt/resultados/?type=doc_documentos&amp;id=1858605&amp;ext=.pdf</td>\n",
       "      <td>False</td>\n",
       "      <td>85322000-2</td>\n",
       "    </tr>\n",
       "  </tbody>\n",
       "</table>"
      ],
      "text/plain": [
       "<IPython.core.display.HTML object>"
      ]
     },
     "execution_count": 185,
     "metadata": {},
     "output_type": "execute_result"
    }
   ],
   "source": [
    "cur = conn.cursor()\n",
    "\n",
    "cur.execute('''\n",
    "        SELECT *\n",
    "        FROM \"CONTRACTS\"\n",
    "        WHERE nif_entidade_adjudicante = '506970892';''')\n",
    "\n",
    "HTML(pd.DataFrame(cur.fetchall()).to_html(index=False))\n",
    "\n",
    "# data_celebracao  preco_contratual  prazo_execucao  criterios_ambientais  data_publicacao  entidade_adjudicante  fundamentacao  entidades_concorrentes  url_entidades_concorrente \n",
    "# url_anuncio  url_peças_procedimento  url_documentos  idcontrato  cpv  n_anuncio  tipo_procedimento  objecto_contrato  nif_entidade_adjudicante"
   ]
  },
  {
   "cell_type": "markdown",
   "id": "981ab822-ff82-4705-806a-010e25eeae5e",
   "metadata": {},
   "source": [
    "***"
   ]
  },
  {
   "cell_type": "markdown",
   "id": "f55d0efa-b28f-44cd-a1f6-1a72c6c07c01",
   "metadata": {},
   "source": [
    "<br>\n",
    "\n",
    "# Funções "
   ]
  },
  {
   "cell_type": "code",
   "execution_count": 217,
   "id": "f980d022-8993-487f-be53-07fa624d669d",
   "metadata": {},
   "outputs": [
    {
     "data": {
      "text/plain": [
       "array([10800.])"
      ]
     },
     "execution_count": 217,
     "metadata": {},
     "output_type": "execute_result"
    }
   ],
   "source": [
    "def preco_contrato(id_anuncio):\n",
    "    \n",
    "    '''\n",
    "    Função que retorna preço contratual a partir do id do anúncio\n",
    "    '''\n",
    "\n",
    "    cur = conn.cursor()\n",
    "\n",
    "    cur.execute('''\n",
    "        SELECT preco_contratual\n",
    "        FROM \"CONTRACTS\"\n",
    "        WHERE idcontrato = %s; ''', (id_anuncio,))\n",
    "\n",
    "    return np.asarray(cur.fetchall())[0]\n",
    "\n",
    "\n",
    "(preco_contrato('8584389'))"
   ]
  },
  {
   "cell_type": "code",
   "execution_count": 206,
   "id": "a78e60fb-6866-49c2-931b-705467ff96a3",
   "metadata": {},
   "outputs": [],
   "source": [
    "def all_ids():\n",
    "    '''\n",
    "    Função que retorna todos os ids dos contratos\n",
    "    '''\n",
    "    cur = conn.cursor()\n",
    "    cur.execute(''' \n",
    "                SELECT idcontrato\n",
    "                FROM \"CONTRACTS\";\n",
    "                ''')\n",
    "    return (cur.fetchall())\n",
    "\n",
    "ids = all_ids()"
   ]
  },
  {
   "cell_type": "code",
   "execution_count": 213,
   "id": "1d00eba0-65fe-49e9-9263-8aeb8db1d87c",
   "metadata": {},
   "outputs": [
    {
     "ename": "TypeError",
     "evalue": "not all arguments converted during string formatting",
     "output_type": "error",
     "traceback": [
      "\u001b[0;31m---------------------------------------------------------------------------\u001b[0m",
      "\u001b[0;31mTypeError\u001b[0m                                 Traceback (most recent call last)",
      "Cell \u001b[0;32mIn[213], line 1\u001b[0m\n\u001b[0;32m----> 1\u001b[0m \u001b[43mpreco_contrato\u001b[49m\u001b[43m(\u001b[49m\u001b[43mids\u001b[49m\u001b[43m)\u001b[49m\n",
      "Cell \u001b[0;32mIn[212], line 9\u001b[0m, in \u001b[0;36mpreco_contrato\u001b[0;34m(id_anuncio)\u001b[0m\n\u001b[1;32m      3\u001b[0m \u001b[38;5;250m\u001b[39m\u001b[38;5;124;03m'''\u001b[39;00m\n\u001b[1;32m      4\u001b[0m \u001b[38;5;124;03mFunção que retorna preço contratual a partir do id do anúncio\u001b[39;00m\n\u001b[1;32m      5\u001b[0m \u001b[38;5;124;03m'''\u001b[39;00m\n\u001b[1;32m      7\u001b[0m cur \u001b[38;5;241m=\u001b[39m conn\u001b[38;5;241m.\u001b[39mcursor()\n\u001b[0;32m----> 9\u001b[0m \u001b[43mcur\u001b[49m\u001b[38;5;241;43m.\u001b[39;49m\u001b[43mexecute\u001b[49m\u001b[43m(\u001b[49m\u001b[38;5;124;43m'''\u001b[39;49m\n\u001b[1;32m     10\u001b[0m \u001b[38;5;124;43m    SELECT preco_contratual\u001b[39;49m\n\u001b[1;32m     11\u001b[0m \u001b[38;5;124;43m    FROM \u001b[39;49m\u001b[38;5;124;43m\"\u001b[39;49m\u001b[38;5;124;43mCONTRACTS\u001b[39;49m\u001b[38;5;124;43m\"\u001b[39;49m\n\u001b[1;32m     12\u001b[0m \u001b[38;5;124;43m    WHERE idcontrato = \u001b[39;49m\u001b[38;5;132;43;01m%s\u001b[39;49;00m\u001b[38;5;124;43m; \u001b[39;49m\u001b[38;5;124;43m'''\u001b[39;49m\u001b[43m,\u001b[49m\u001b[43m \u001b[49m\u001b[38;5;28;43mtuple\u001b[39;49m\u001b[43m(\u001b[49m\u001b[43mid_anuncio\u001b[49m\u001b[43m)\u001b[49m\u001b[43m,\u001b[49m\u001b[43m)\u001b[49m\n\u001b[1;32m     14\u001b[0m \u001b[38;5;28;01mreturn\u001b[39;00m np\u001b[38;5;241m.\u001b[39masarray(cur\u001b[38;5;241m.\u001b[39mfetchall())[\u001b[38;5;241m0\u001b[39m]\n",
      "\u001b[0;31mTypeError\u001b[0m: not all arguments converted during string formatting"
     ]
    }
   ],
   "source": [
    "preco_contrato(ids)"
   ]
  },
  {
   "cell_type": "code",
   "execution_count": null,
   "id": "5aeaf1cb-3f5c-43fc-8aec-ae819637330b",
   "metadata": {},
   "outputs": [],
   "source": []
  }
 ],
 "metadata": {
  "kernelspec": {
   "display_name": "Python 3 (ipykernel)",
   "language": "python",
   "name": "python3"
  },
  "language_info": {
   "codemirror_mode": {
    "name": "ipython",
    "version": 3
   },
   "file_extension": ".py",
   "mimetype": "text/x-python",
   "name": "python",
   "nbconvert_exporter": "python",
   "pygments_lexer": "ipython3",
   "version": "3.11.5"
  }
 },
 "nbformat": 4,
 "nbformat_minor": 5
}
