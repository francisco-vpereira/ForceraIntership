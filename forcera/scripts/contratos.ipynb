{
 "cells": [
  {
   "cell_type": "code",
   "execution_count": 1,
   "id": "ef433acb-381b-429e-94aa-82448e893c50",
   "metadata": {},
   "outputs": [],
   "source": [
    "import psycopg2\n",
    "from psycopg2 import OperationalError\n",
    "import pandas as pd\n",
    "import numpy as np\n",
    "from IPython.display import HTML"
   ]
  },
  {
   "cell_type": "markdown",
   "id": "bbe14772-070d-41a5-87f2-516415900c07",
   "metadata": {},
   "source": [
    "**Executar este comando quando ocorre um erro ao tentar realizar uma query**"
   ]
  },
  {
   "cell_type": "code",
   "execution_count": 9,
   "id": "999bd862-de97-4e07-ba5a-efb66d4b6ee6",
   "metadata": {},
   "outputs": [],
   "source": [
    "cur.execute('''ROLLBACK;''')"
   ]
  },
  {
   "cell_type": "markdown",
   "id": "8485a2d9-764a-4690-8ce2-bf3f04aec56a",
   "metadata": {},
   "source": [
    "**Criar a ligação com a database**"
   ]
  },
  {
   "cell_type": "code",
   "execution_count": 2,
   "id": "a5c90281-a79e-4530-b0e4-d9cf26e93eec",
   "metadata": {},
   "outputs": [],
   "source": [
    "# def create_connection(db_name, db_user, db_password, db_host, db_port):\n",
    "#     connection = None\n",
    "#     try:\n",
    "#         connection = psycopg2.connect(\n",
    "#             database=db_name,\n",
    "#             user=db_user,\n",
    "#             password=db_password,\n",
    "#             host=db_host,\n",
    "#             port=db_port,\n",
    "#         )\n",
    "#         print(\"Connection to PostgreSQL DB successful\")\n",
    "#     except OperationalError as e:\n",
    "#         print(f\"The error '{e}' occurred\")\n",
    "#     return connection\n",
    "# \n",
    "# connection = create_connection(\"aim4ps\", \"myuser\", \"1234\", \"localhost\", \"5434\")\n",
    "\n",
    "conn = psycopg2.connect(\n",
    "    host=\"localhost\",\n",
    "    port = 5434,\n",
    "    database=\"aim4ps\",\n",
    "    user=\"myuser\",\n",
    "    password=\"1234\")\n",
    "\n",
    "cur = conn.cursor()"
   ]
  },
  {
   "cell_type": "markdown",
   "id": "b9fadc3a-0984-4bda-8de1-0e8dfdb888ed",
   "metadata": {},
   "source": [
    "<br>\n",
    "\n",
    "**Selecionar nomes das colunas**"
   ]
  },
  {
   "cell_type": "code",
   "execution_count": 3,
   "id": "16effa26-52f9-4c9a-8191-a7a9ee76363b",
   "metadata": {},
   "outputs": [
    {
     "name": "stdout",
     "output_type": "stream",
     "text": [
      "[('data_celebracao',), ('preco_contratual',), ('prazo_execucao',), ('criterios_ambientais',), ('data_publicacao',), ('entidade_adjudicante',), ('fundamentacao',), ('entidades_concorrentes',), ('url_entidades_concorrente',), ('url_anuncio',), ('url_peças_procedimento',), ('url_documentos',), ('idcontrato',), ('cpv',), ('n_anuncio',), ('tipo_procedimento',), ('objecto_contrato',), ('nif_entidade_adjudicante',)]\n"
     ]
    }
   ],
   "source": [
    "cur.execute('''\n",
    "    SELECT column_name\n",
    "    FROM information_schema.columns\n",
    "    WHERE table_name = 'CONTRACTS';\n",
    "''');\n",
    "\n",
    "print(cur.fetchall())"
   ]
  },
  {
   "cell_type": "markdown",
   "id": "4cd5600a-8669-4b2b-8cb7-d1633367c383",
   "metadata": {},
   "source": [
    "<br>\n",
    "\n",
    "**Número de contratos total**"
   ]
  },
  {
   "cell_type": "code",
   "execution_count": 22,
   "id": "4e63521f-c22d-4c66-87d7-bdf42a5c947d",
   "metadata": {},
   "outputs": [
    {
     "name": "stdout",
     "output_type": "stream",
     "text": [
      "Número de contratos :  338312\n"
     ]
    }
   ],
   "source": [
    "cur.execute('''\n",
    "    SELECT COUNT(*) FROM \"public\".\"CONTRACTS\";\n",
    "''')\n",
    "\n",
    "print(\"Número de contratos : \", cur.fetchone()[0])"
   ]
  },
  {
   "cell_type": "markdown",
   "id": "5982043b-9f28-48a9-bcae-9b874556aa34",
   "metadata": {},
   "source": [
    "<br>\n",
    "\n",
    "**Imprimir um contrato da tabela CONTRACTS**"
   ]
  },
  {
   "cell_type": "code",
   "execution_count": 122,
   "id": "8512bdd1-3896-4a7c-9950-599c9976c4ce",
   "metadata": {},
   "outputs": [
    {
     "name": "stdout",
     "output_type": "stream",
     "text": [
      "[('8584386', 'None', 'Consulta Prévia', 'Serviços de manutenção de espaços verdes 2022: incluindo o corte de relva, manutenção do sistema de rede de rega, adubagem, pesticidas e inseticidas, podas de árvores e arbustos, o fornecimento de mão de obra necessária, assim como a maquinaria, transportes, materiais, ferramentas e outros equipamentos e produtos necessários ao correto desenvolvimento dos trabalhos', datetime.date(2022, 1, 2), datetime.date(2022, 1, 2), 7163.16, 364, '510837778', 'União das Freguesias de Margaride (Santa Eulália), Várzea, Lagares, Varziela e Moure', 'Artigo 20.º, n.º 1, alínea c) do Código dos Contratos Públicos', 'José Costa Teixeira (-)|||JARDINAGEM - Miguel Ricardo de Melo Moreira (-)|||Enfeites Prometidos, Jardinagem Unipessoal, Lda. (513718117)', 'https://www.base.gov.pt/Base4/pt/detalhe/?type=entidades&id=561696', 'None', 'None', 'https://www.base.gov.pt/Base4/pt/resultados/?type=doc_documentos&id=1491947&ext=.pdf', False, '77311000-3')]\n"
     ]
    }
   ],
   "source": [
    "cur.execute('''\n",
    "    TABLE \"CONTRACTS\";\n",
    "''')\n",
    "\n",
    "print(cur.fetchmany(1))"
   ]
  },
  {
   "cell_type": "markdown",
   "id": "7dcdc217-4978-4a08-9b5c-ae4757981e95",
   "metadata": {},
   "source": [
    "<br>\n",
    "\n",
    "**Ordenar tipo de procedimentos por ordem decrescente de contratos realizados**"
   ]
  },
  {
   "cell_type": "code",
   "execution_count": 175,
   "id": "37cf73bc-065c-49f8-901f-65522c3bf951",
   "metadata": {},
   "outputs": [
    {
     "data": {
      "text/html": [
       "<table border=\"1\" class=\"dataframe\">\n",
       "  <thead>\n",
       "    <tr style=\"text-align: right;\">\n",
       "      <th>0</th>\n",
       "      <th>1</th>\n",
       "    </tr>\n",
       "  </thead>\n",
       "  <tbody>\n",
       "    <tr>\n",
       "      <td>Ajuste Direto Regime Geral</td>\n",
       "      <td>180328</td>\n",
       "    </tr>\n",
       "    <tr>\n",
       "      <td>Consulta Prévia</td>\n",
       "      <td>71791</td>\n",
       "    </tr>\n",
       "    <tr>\n",
       "      <td>Concurso público</td>\n",
       "      <td>41578</td>\n",
       "    </tr>\n",
       "    <tr>\n",
       "      <td>Ao abrigo de acordo-quadro (art.º 259.º)</td>\n",
       "      <td>34498</td>\n",
       "    </tr>\n",
       "    <tr>\n",
       "      <td>Ao abrigo de acordo-quadro (art.º 258.º)</td>\n",
       "      <td>9137</td>\n",
       "    </tr>\n",
       "    <tr>\n",
       "      <td>Concurso limitado por prévia qualificação</td>\n",
       "      <td>582</td>\n",
       "    </tr>\n",
       "    <tr>\n",
       "      <td>Consulta Prévia Simplificada</td>\n",
       "      <td>347</td>\n",
       "    </tr>\n",
       "    <tr>\n",
       "      <td>Procedimento de negociação</td>\n",
       "      <td>17</td>\n",
       "    </tr>\n",
       "    <tr>\n",
       "      <td>Concurso público simplificado</td>\n",
       "      <td>13</td>\n",
       "    </tr>\n",
       "    <tr>\n",
       "      <td>Consulta prévia ao abrigo do artigo 7º da Lei n.º 30/2021, de 21.05</td>\n",
       "      <td>13</td>\n",
       "    </tr>\n",
       "    <tr>\n",
       "      <td>Ajuste Direto Regime Geral ao abrigo do artigo 7º da Lei n.º 30/2021, de 21.05</td>\n",
       "      <td>6</td>\n",
       "    </tr>\n",
       "    <tr>\n",
       "      <td>Parceria para a inovação</td>\n",
       "      <td>1</td>\n",
       "    </tr>\n",
       "    <tr>\n",
       "      <td>Serviços sociais e outros serviços específicos</td>\n",
       "      <td>1</td>\n",
       "    </tr>\n",
       "  </tbody>\n",
       "</table>"
      ],
      "text/plain": [
       "<IPython.core.display.HTML object>"
      ]
     },
     "execution_count": 175,
     "metadata": {},
     "output_type": "execute_result"
    }
   ],
   "source": [
    "cur = conn.cursor()\n",
    "cur.execute('''\n",
    "        SELECT tipo_procedimento, COUNT (tipo_procedimento)\n",
    "        FROM \"CONTRACTS\"\n",
    "        GROUP BY \"tipo_procedimento\"\n",
    "        ORDER BY COUNT(tipo_procedimento) DESC;;''')\n",
    "\n",
    "df = (pd.DataFrame(cur.fetchall()))\n",
    "HTML(df.to_html(index=False))"
   ]
  },
  {
   "cell_type": "markdown",
   "id": "465ce6ba-7028-49f4-985b-9fd27513349f",
   "metadata": {},
   "source": [
    "<br>\n",
    "\n",
    "**Criar uma tabela apenas com os Ajustes Diretos em Regime Geral**"
   ]
  },
  {
   "cell_type": "code",
   "execution_count": 124,
   "id": "b2b8ac64-dea4-4cf0-87ce-7b835da4f305",
   "metadata": {},
   "outputs": [
    {
     "ename": "DuplicateTable",
     "evalue": "relation \"ajustes_diretos\" already exists\n",
     "output_type": "error",
     "traceback": [
      "\u001b[0;31m---------------------------------------------------------------------------\u001b[0m",
      "\u001b[0;31mDuplicateTable\u001b[0m                            Traceback (most recent call last)",
      "Cell \u001b[0;32mIn[124], line 2\u001b[0m\n\u001b[1;32m      1\u001b[0m cur \u001b[38;5;241m=\u001b[39m conn\u001b[38;5;241m.\u001b[39mcursor()\n\u001b[0;32m----> 2\u001b[0m \u001b[43mcur\u001b[49m\u001b[38;5;241;43m.\u001b[39;49m\u001b[43mexecute\u001b[49m\u001b[43m(\u001b[49m\u001b[38;5;124;43m'''\u001b[39;49m\n\u001b[1;32m      3\u001b[0m \u001b[38;5;124;43m        CREATE TABLE ajustes_diretos AS\u001b[39;49m\n\u001b[1;32m      4\u001b[0m \u001b[38;5;124;43m        SELECT * \u001b[39;49m\n\u001b[1;32m      5\u001b[0m \u001b[38;5;124;43m        FROM \u001b[39;49m\u001b[38;5;124;43m\"\u001b[39;49m\u001b[38;5;124;43mCONTRACTS\u001b[39;49m\u001b[38;5;124;43m\"\u001b[39;49m\n\u001b[1;32m      6\u001b[0m \u001b[38;5;124;43m        WHERE tipo_procedimento = \u001b[39;49m\u001b[38;5;124;43m'\u001b[39;49m\u001b[38;5;124;43mAjuste Direto Regime Geral\u001b[39;49m\u001b[38;5;124;43m'\u001b[39;49m\u001b[38;5;124;43m;\u001b[39;49m\n\u001b[1;32m      7\u001b[0m \u001b[38;5;124;43m'''\u001b[39;49m\u001b[43m)\u001b[49m\n",
      "\u001b[0;31mDuplicateTable\u001b[0m: relation \"ajustes_diretos\" already exists\n"
     ]
    }
   ],
   "source": [
    "cur = conn.cursor()\n",
    "cur.execute('''\n",
    "        CREATE TABLE ajustes_diretos AS\n",
    "        SELECT * \n",
    "        FROM \"CONTRACTS\"\n",
    "        WHERE tipo_procedimento = 'Ajuste Direto Regime Geral';\n",
    "''')"
   ]
  },
  {
   "cell_type": "markdown",
   "id": "cb518316-80d2-4b45-b0ff-72216576287d",
   "metadata": {},
   "source": [
    "<br>\n",
    "\n",
    "**Selecionar apenas um dos contratos da tabela criada acima**"
   ]
  },
  {
   "cell_type": "code",
   "execution_count": 4,
   "id": "f507df69-fe0c-4fe4-907c-6cc95c4291c3",
   "metadata": {},
   "outputs": [
    {
     "data": {
      "text/html": [
       "<div>\n",
       "<style scoped>\n",
       "    .dataframe tbody tr th:only-of-type {\n",
       "        vertical-align: middle;\n",
       "    }\n",
       "\n",
       "    .dataframe tbody tr th {\n",
       "        vertical-align: top;\n",
       "    }\n",
       "\n",
       "    .dataframe thead th {\n",
       "        text-align: right;\n",
       "    }\n",
       "</style>\n",
       "<table border=\"1\" class=\"dataframe\">\n",
       "  <thead>\n",
       "    <tr style=\"text-align: right;\">\n",
       "      <th></th>\n",
       "      <th>0</th>\n",
       "      <th>1</th>\n",
       "      <th>2</th>\n",
       "      <th>3</th>\n",
       "      <th>4</th>\n",
       "      <th>5</th>\n",
       "      <th>6</th>\n",
       "      <th>7</th>\n",
       "      <th>8</th>\n",
       "      <th>9</th>\n",
       "      <th>10</th>\n",
       "      <th>11</th>\n",
       "      <th>12</th>\n",
       "      <th>13</th>\n",
       "      <th>14</th>\n",
       "      <th>15</th>\n",
       "      <th>16</th>\n",
       "      <th>17</th>\n",
       "    </tr>\n",
       "  </thead>\n",
       "  <tbody>\n",
       "    <tr>\n",
       "      <th>0</th>\n",
       "      <td>8584389</td>\n",
       "      <td>None</td>\n",
       "      <td>Ajuste Direto Regime Geral</td>\n",
       "      <td>Serviços no âmbito da Ação Social: Sinalizar i...</td>\n",
       "      <td>2022-01-02</td>\n",
       "      <td>2022-01-02</td>\n",
       "      <td>10800.0</td>\n",
       "      <td>364</td>\n",
       "      <td>506970892</td>\n",
       "      <td>Freguesia de Ronfe</td>\n",
       "      <td>Artigo 20.º, n.º 1, alínea d) do Código dos Co...</td>\n",
       "      <td>Joana Maria de Sousa Ferreira Lima de Freitas (-)</td>\n",
       "      <td>https://www.base.gov.pt/Base4/pt/detalhe/?type...</td>\n",
       "      <td>None</td>\n",
       "      <td>None</td>\n",
       "      <td>https://www.base.gov.pt/Base4/pt/resultados/?t...</td>\n",
       "      <td>False</td>\n",
       "      <td>85322000-2</td>\n",
       "    </tr>\n",
       "  </tbody>\n",
       "</table>\n",
       "</div>"
      ],
      "text/plain": [
       "        0     1                           2   \\\n",
       "0  8584389  None  Ajuste Direto Regime Geral   \n",
       "\n",
       "                                                  3           4           5   \\\n",
       "0  Serviços no âmbito da Ação Social: Sinalizar i...  2022-01-02  2022-01-02   \n",
       "\n",
       "        6    7          8                   9   \\\n",
       "0  10800.0  364  506970892  Freguesia de Ronfe   \n",
       "\n",
       "                                                  10  \\\n",
       "0  Artigo 20.º, n.º 1, alínea d) do Código dos Co...   \n",
       "\n",
       "                                                  11  \\\n",
       "0  Joana Maria de Sousa Ferreira Lima de Freitas (-)   \n",
       "\n",
       "                                                  12    13    14  \\\n",
       "0  https://www.base.gov.pt/Base4/pt/detalhe/?type...  None  None   \n",
       "\n",
       "                                                  15     16          17  \n",
       "0  https://www.base.gov.pt/Base4/pt/resultados/?t...  False  85322000-2  "
      ]
     },
     "execution_count": 4,
     "metadata": {},
     "output_type": "execute_result"
    }
   ],
   "source": [
    "cur.execute('''\n",
    "    TABLE \"ajustes_diretos\";\n",
    "''')\n",
    "\n",
    "pd.DataFrame(cur.fetchmany(1))"
   ]
  },
  {
   "cell_type": "markdown",
   "id": "1784b4b9-3f34-4219-9ff2-757ac8f3164e",
   "metadata": {},
   "source": [
    "<br>\n",
    "\n",
    "**Ordenar, por ordem decrescente, as empresas com mais ajustes diretos realizados**"
   ]
  },
  {
   "cell_type": "code",
   "execution_count": 46,
   "id": "fe8be359-9f59-49c0-8b8d-e7f3fd39bd0f",
   "metadata": {},
   "outputs": [
    {
     "name": "stdout",
     "output_type": "stream",
     "text": [
      "\n",
      " Ajustes Diretos\n"
     ]
    },
    {
     "data": {
      "text/html": [
       "<table border=\"1\" class=\"dataframe\">\n",
       "  <thead>\n",
       "    <tr style=\"text-align: right;\">\n",
       "      <th>0</th>\n",
       "      <th>1</th>\n",
       "    </tr>\n",
       "  </thead>\n",
       "  <tbody>\n",
       "    <tr>\n",
       "      <td>Instituto Português de Oncologia do Porto Francisco Gentil, E. P. E.</td>\n",
       "      <td>22829</td>\n",
       "    </tr>\n",
       "    <tr>\n",
       "      <td>Marinha</td>\n",
       "      <td>4828</td>\n",
       "    </tr>\n",
       "    <tr>\n",
       "      <td>Centro Hospitalar Universitário de Lisboa Norte, E. P. E.</td>\n",
       "      <td>3872</td>\n",
       "    </tr>\n",
       "    <tr>\n",
       "      <td>Centro Hospitalar de Tondela - Viseu, E.P.E.</td>\n",
       "      <td>3559</td>\n",
       "    </tr>\n",
       "    <tr>\n",
       "      <td>Centro Hospitalar e Universitário de Coimbra, E. P. E.</td>\n",
       "      <td>3004</td>\n",
       "    </tr>\n",
       "    <tr>\n",
       "      <td>MARINHA - Direção de Navios</td>\n",
       "      <td>2636</td>\n",
       "    </tr>\n",
       "    <tr>\n",
       "      <td>Estado-Maior-General das Forças Armadas (EMGFA)</td>\n",
       "      <td>2612</td>\n",
       "    </tr>\n",
       "    <tr>\n",
       "      <td>Centro Hospitalar Tondela-Viseu, E. P. E.</td>\n",
       "      <td>2477</td>\n",
       "    </tr>\n",
       "    <tr>\n",
       "      <td>Instituto Português de Oncologia de Lisboa Francisco Gentil, E. P. E.</td>\n",
       "      <td>2476</td>\n",
       "    </tr>\n",
       "    <tr>\n",
       "      <td>Hospital Garcia de Orta, E.P.E.</td>\n",
       "      <td>2436</td>\n",
       "    </tr>\n",
       "    <tr>\n",
       "      <td>Estado Maior General das Forças Armadas (EMGFA)</td>\n",
       "      <td>2312</td>\n",
       "    </tr>\n",
       "    <tr>\n",
       "      <td>Unidade Local de Saúde do Norte Alentejano, E. P. E.</td>\n",
       "      <td>1749</td>\n",
       "    </tr>\n",
       "    <tr>\n",
       "      <td>Unidade Local de Saúde do N. Alentejano,EPE(ULSNA)</td>\n",
       "      <td>1619</td>\n",
       "    </tr>\n",
       "    <tr>\n",
       "      <td>Centro Hospitalar Vila Nova de Gaia - Espinho, E. P. E.</td>\n",
       "      <td>1577</td>\n",
       "    </tr>\n",
       "    <tr>\n",
       "      <td>Município de Lisboa</td>\n",
       "      <td>1540</td>\n",
       "    </tr>\n",
       "    <tr>\n",
       "      <td>Centro Hospitalar Universitário do Algarve, E.P.E.</td>\n",
       "      <td>1485</td>\n",
       "    </tr>\n",
       "    <tr>\n",
       "      <td>Centro Hospitalar Universitário do Algarve, E. P. E.</td>\n",
       "      <td>1276</td>\n",
       "    </tr>\n",
       "    <tr>\n",
       "      <td>Instituto Nacional de Emergência Médica, I. P.</td>\n",
       "      <td>1137</td>\n",
       "    </tr>\n",
       "    <tr>\n",
       "      <td>Unidade Local de Saúde do Baixo Alentejo, E. P. E.</td>\n",
       "      <td>1011</td>\n",
       "    </tr>\n",
       "    <tr>\n",
       "      <td>Município de Oeiras</td>\n",
       "      <td>827</td>\n",
       "    </tr>\n",
       "  </tbody>\n",
       "</table>"
      ],
      "text/plain": [
       "<IPython.core.display.HTML object>"
      ]
     },
     "execution_count": 46,
     "metadata": {},
     "output_type": "execute_result"
    }
   ],
   "source": [
    "cur = conn.cursor()\n",
    "cur.execute('''\n",
    "        SELECT entidade_adjudicante, COUNT (entidade_adjudicante)\n",
    "        FROM \"CONTRACTS\"\n",
    "        WHERE tipo_procedimento = 'Ajuste Direto Regime Geral'\n",
    "        GROUP BY \"entidade_adjudicante\"\n",
    "        ORDER BY COUNT(entidade_adjudicante) DESC;''')\n",
    "\n",
    "print(\"\\n Ajustes Diretos\")\n",
    "HTML(pd.DataFrame(cur.fetchmany(20)).to_html(index=False))"
   ]
  },
  {
   "cell_type": "markdown",
   "id": "481d7397-d513-4d36-b44e-d8cce3fbcfb1",
   "metadata": {},
   "source": [
    "<br>\n",
    "\n",
    "**Ordenar, por ordem decrescente, as empresas com mais concursos públicos realizados**"
   ]
  },
  {
   "cell_type": "code",
   "execution_count": 47,
   "id": "489c33a0-d230-483c-80ad-f688e66aa5fc",
   "metadata": {},
   "outputs": [
    {
     "name": "stdout",
     "output_type": "stream",
     "text": [
      "\n",
      " Concursos Públicos\n"
     ]
    },
    {
     "data": {
      "text/html": [
       "<table border=\"1\" class=\"dataframe\">\n",
       "  <thead>\n",
       "    <tr style=\"text-align: right;\">\n",
       "      <th>0</th>\n",
       "      <th>1</th>\n",
       "    </tr>\n",
       "  </thead>\n",
       "  <tbody>\n",
       "    <tr>\n",
       "      <td>Santa Casa da Misericórdia de Lisboa</td>\n",
       "      <td>1401</td>\n",
       "    </tr>\n",
       "    <tr>\n",
       "      <td>Centro Hospitalar Universitário de Lisboa Norte, E. P. E.</td>\n",
       "      <td>668</td>\n",
       "    </tr>\n",
       "    <tr>\n",
       "      <td>Instituto Português de Oncologia de Lisboa Francisco Gentil, E. P. E.</td>\n",
       "      <td>558</td>\n",
       "    </tr>\n",
       "    <tr>\n",
       "      <td>Águas do Norte, S. A.</td>\n",
       "      <td>551</td>\n",
       "    </tr>\n",
       "    <tr>\n",
       "      <td>Centro Hospitalar Universitário de Lisboa Central, E.P.E. (CHULC)</td>\n",
       "      <td>439</td>\n",
       "    </tr>\n",
       "    <tr>\n",
       "      <td>Serviço de Saúde da Região Autónoma da Madeira, EPE-RAM</td>\n",
       "      <td>422</td>\n",
       "    </tr>\n",
       "    <tr>\n",
       "      <td>Município de Sintra</td>\n",
       "      <td>416</td>\n",
       "    </tr>\n",
       "    <tr>\n",
       "      <td>Centro Hospitalar Barreiro Montijo, E. P. E.</td>\n",
       "      <td>404</td>\n",
       "    </tr>\n",
       "    <tr>\n",
       "      <td>Centro Hospitalar Universitário do Algarve, E.P.E.</td>\n",
       "      <td>399</td>\n",
       "    </tr>\n",
       "    <tr>\n",
       "      <td>MARINHA - Direção de Navios</td>\n",
       "      <td>389</td>\n",
       "    </tr>\n",
       "    <tr>\n",
       "      <td>Guarda Nacional Republicana</td>\n",
       "      <td>367</td>\n",
       "    </tr>\n",
       "    <tr>\n",
       "      <td>Fundação INATEL</td>\n",
       "      <td>362</td>\n",
       "    </tr>\n",
       "    <tr>\n",
       "      <td>Município de Oeiras</td>\n",
       "      <td>335</td>\n",
       "    </tr>\n",
       "    <tr>\n",
       "      <td>Marinha</td>\n",
       "      <td>334</td>\n",
       "    </tr>\n",
       "    <tr>\n",
       "      <td>Centro Hospitalar de Lisboa Ocidental, EPE (CHLO)</td>\n",
       "      <td>333</td>\n",
       "    </tr>\n",
       "    <tr>\n",
       "      <td>Infraestruturas de Portugal, S. A.</td>\n",
       "      <td>328</td>\n",
       "    </tr>\n",
       "    <tr>\n",
       "      <td>Estado-Maior do Exército</td>\n",
       "      <td>310</td>\n",
       "    </tr>\n",
       "    <tr>\n",
       "      <td>Unidade Local de Saúde do Alto Minho, E. P. E.</td>\n",
       "      <td>282</td>\n",
       "    </tr>\n",
       "    <tr>\n",
       "      <td>Unidade Local de Saúde do Baixo Alentejo, E. P. E.</td>\n",
       "      <td>268</td>\n",
       "    </tr>\n",
       "    <tr>\n",
       "      <td>Centro Hospitalar de Entre o Douro e Vouga, E.P.E.</td>\n",
       "      <td>266</td>\n",
       "    </tr>\n",
       "  </tbody>\n",
       "</table>"
      ],
      "text/plain": [
       "<IPython.core.display.HTML object>"
      ]
     },
     "execution_count": 47,
     "metadata": {},
     "output_type": "execute_result"
    }
   ],
   "source": [
    "cur = conn.cursor()\n",
    "cur.execute('''\n",
    "        SELECT entidade_adjudicante, COUNT (entidade_adjudicante)\n",
    "        FROM \"CONTRACTS\"\n",
    "        WHERE tipo_procedimento = 'Concurso público'\n",
    "        GROUP BY \"entidade_adjudicante\"\n",
    "        ORDER BY COUNT(entidade_adjudicante) DESC;''')\n",
    "\n",
    "print(\"\\n Concursos Públicos\")\n",
    "HTML(pd.DataFrame(cur.fetchmany(20)).to_html(index=False))"
   ]
  },
  {
   "cell_type": "markdown",
   "id": "fe20adf9-3c89-4ab2-84f6-87460a8d8126",
   "metadata": {},
   "source": [
    "<br>\n",
    "\n",
    "**Ordenar, por ordem decrescente, as empresas com mais consultas prévias realizados**"
   ]
  },
  {
   "cell_type": "code",
   "execution_count": 48,
   "id": "528242f5-a246-417d-bb29-d92508a99237",
   "metadata": {},
   "outputs": [
    {
     "name": "stdout",
     "output_type": "stream",
     "text": [
      "\n",
      " Consultas Prévias\n"
     ]
    },
    {
     "data": {
      "text/html": [
       "<table border=\"1\" class=\"dataframe\">\n",
       "  <thead>\n",
       "    <tr style=\"text-align: right;\">\n",
       "      <th>0</th>\n",
       "      <th>1</th>\n",
       "    </tr>\n",
       "  </thead>\n",
       "  <tbody>\n",
       "    <tr>\n",
       "      <td>Serviço de Saúde da Região Autónoma da Madeira, EPE-RAM</td>\n",
       "      <td>1204</td>\n",
       "    </tr>\n",
       "    <tr>\n",
       "      <td>Marinha</td>\n",
       "      <td>1014</td>\n",
       "    </tr>\n",
       "    <tr>\n",
       "      <td>Centro Hospitalar Universitário de Lisboa Norte, E. P. E.</td>\n",
       "      <td>976</td>\n",
       "    </tr>\n",
       "    <tr>\n",
       "      <td>MARINHA - Direção de Navios</td>\n",
       "      <td>737</td>\n",
       "    </tr>\n",
       "    <tr>\n",
       "      <td>Centro Hospitalar e Universitário de Coimbra, E. P. E.</td>\n",
       "      <td>565</td>\n",
       "    </tr>\n",
       "    <tr>\n",
       "      <td>Município de Oeiras</td>\n",
       "      <td>488</td>\n",
       "    </tr>\n",
       "    <tr>\n",
       "      <td>Município de Lisboa</td>\n",
       "      <td>404</td>\n",
       "    </tr>\n",
       "    <tr>\n",
       "      <td>Município de Sintra</td>\n",
       "      <td>391</td>\n",
       "    </tr>\n",
       "    <tr>\n",
       "      <td>Centro Hospitalar de Lisboa Ocidental, EPE (CHLO)</td>\n",
       "      <td>368</td>\n",
       "    </tr>\n",
       "    <tr>\n",
       "      <td>Universidade do Porto</td>\n",
       "      <td>360</td>\n",
       "    </tr>\n",
       "    <tr>\n",
       "      <td>Instituto Politécnico do Porto</td>\n",
       "      <td>355</td>\n",
       "    </tr>\n",
       "    <tr>\n",
       "      <td>MUNICÍPIO DE SETÚBAL</td>\n",
       "      <td>349</td>\n",
       "    </tr>\n",
       "    <tr>\n",
       "      <td>Direção-Geral de Reinserção e Serviços Prisionais</td>\n",
       "      <td>336</td>\n",
       "    </tr>\n",
       "    <tr>\n",
       "      <td>Instituto Português de Oncologia de Lisboa Francisco Gentil, E. P. E.</td>\n",
       "      <td>308</td>\n",
       "    </tr>\n",
       "    <tr>\n",
       "      <td>Feira Viva - Cultura e Desporto, E. M.</td>\n",
       "      <td>298</td>\n",
       "    </tr>\n",
       "    <tr>\n",
       "      <td>Município da Figueira da Foz</td>\n",
       "      <td>294</td>\n",
       "    </tr>\n",
       "    <tr>\n",
       "      <td>Município de Vila Nova de Famalicão</td>\n",
       "      <td>279</td>\n",
       "    </tr>\n",
       "    <tr>\n",
       "      <td>Município de Coimbra</td>\n",
       "      <td>268</td>\n",
       "    </tr>\n",
       "    <tr>\n",
       "      <td>Município de Odivelas</td>\n",
       "      <td>263</td>\n",
       "    </tr>\n",
       "    <tr>\n",
       "      <td>Município de Valongo</td>\n",
       "      <td>258</td>\n",
       "    </tr>\n",
       "  </tbody>\n",
       "</table>"
      ],
      "text/plain": [
       "<IPython.core.display.HTML object>"
      ]
     },
     "execution_count": 48,
     "metadata": {},
     "output_type": "execute_result"
    }
   ],
   "source": [
    "cur = conn.cursor()\n",
    "cur.execute('''\n",
    "        SELECT entidade_adjudicante, COUNT (entidade_adjudicante)\n",
    "        FROM \"CONTRACTS\"\n",
    "        WHERE tipo_procedimento = 'Consulta Prévia'\n",
    "        GROUP BY \"entidade_adjudicante\"\n",
    "        ORDER BY COUNT(entidade_adjudicante) DESC;''')\n",
    "\n",
    "print(\"\\n Consultas Prévias\")\n",
    "HTML(pd.DataFrame(cur.fetchmany(20)).to_html(index=False))"
   ]
  },
  {
   "cell_type": "markdown",
   "id": "63ef9d18-77fe-4f0d-98d9-bfeb8660ea0d",
   "metadata": {},
   "source": [
    "<br>\n",
    "\n",
    "***\n",
    "\n",
    "<br>\n",
    "\n",
    "<h2><center> Forças Armadas</center></h2>\n",
    "\n",
    "**Marinha**\n",
    "\n",
    "NIF Marinha : 600012662"
   ]
  },
  {
   "cell_type": "code",
   "execution_count": 18,
   "id": "0d841150-b374-46aa-a3d2-5d7a98b97d52",
   "metadata": {},
   "outputs": [
    {
     "data": {
      "text/html": [
       "<table border=\"1\" class=\"dataframe\">\n",
       "  <thead>\n",
       "    <tr style=\"text-align: right;\">\n",
       "      <th>0</th>\n",
       "      <th>1</th>\n",
       "      <th>2</th>\n",
       "      <th>3</th>\n",
       "      <th>4</th>\n",
       "      <th>5</th>\n",
       "      <th>6</th>\n",
       "      <th>7</th>\n",
       "      <th>8</th>\n",
       "      <th>9</th>\n",
       "      <th>10</th>\n",
       "      <th>11</th>\n",
       "      <th>12</th>\n",
       "      <th>13</th>\n",
       "      <th>14</th>\n",
       "      <th>15</th>\n",
       "      <th>16</th>\n",
       "      <th>17</th>\n",
       "    </tr>\n",
       "  </thead>\n",
       "  <tbody>\n",
       "    <tr>\n",
       "      <td>7687933</td>\n",
       "      <td>None</td>\n",
       "      <td>Ajuste Direto Regime Geral</td>\n",
       "      <td>3021000517 - Fornecimento de Bens - Carne Diversa</td>\n",
       "      <td>2021-05-29</td>\n",
       "      <td>2021-01-11</td>\n",
       "      <td>250.33</td>\n",
       "      <td>1</td>\n",
       "      <td>600012662</td>\n",
       "      <td>Marinha</td>\n",
       "      <td>Artigo 24.º, n.º 1, alínea c) do Código dos Contratos Públicos</td>\n",
       "      <td>António José dos Santos Valada (-)</td>\n",
       "      <td>https://www.base.gov.pt/Base4/pt/detalhe/?type=entidades&amp;id=4097517</td>\n",
       "      <td>None</td>\n",
       "      <td>None</td>\n",
       "      <td>None</td>\n",
       "      <td>False</td>\n",
       "      <td>15119000-5</td>\n",
       "    </tr>\n",
       "  </tbody>\n",
       "</table>"
      ],
      "text/plain": [
       "<IPython.core.display.HTML object>"
      ]
     },
     "execution_count": 18,
     "metadata": {},
     "output_type": "execute_result"
    }
   ],
   "source": [
    "cur = conn.cursor()\n",
    "\n",
    "cur.execute('''\n",
    "        SELECT *\n",
    "        FROM \"CONTRACTS\"\n",
    "        WHERE entidade_adjudicante = 'Marinha';''')\n",
    "\n",
    "HTML(pd.DataFrame(cur.fetchmany(1)).to_html(index=False))"
   ]
  },
  {
   "cell_type": "code",
   "execution_count": 19,
   "id": "9ca82ced-88d1-45ae-9242-ecfad75d9212",
   "metadata": {},
   "outputs": [
    {
     "data": {
      "text/html": [
       "<table border=\"1\" class=\"dataframe\">\n",
       "  <thead>\n",
       "    <tr style=\"text-align: right;\">\n",
       "      <th>0</th>\n",
       "      <th>1</th>\n",
       "      <th>2</th>\n",
       "      <th>3</th>\n",
       "      <th>4</th>\n",
       "      <th>5</th>\n",
       "      <th>6</th>\n",
       "      <th>7</th>\n",
       "      <th>8</th>\n",
       "      <th>9</th>\n",
       "      <th>10</th>\n",
       "      <th>11</th>\n",
       "      <th>12</th>\n",
       "      <th>13</th>\n",
       "      <th>14</th>\n",
       "      <th>15</th>\n",
       "      <th>16</th>\n",
       "      <th>17</th>\n",
       "    </tr>\n",
       "  </thead>\n",
       "  <tbody>\n",
       "    <tr>\n",
       "      <td>8602531</td>\n",
       "      <td>None</td>\n",
       "      <td>Ajuste Direto Regime Geral</td>\n",
       "      <td>3021026969/Fornecimento de Sobressalentes - Juntas para o N.R.P. Figueira da Foz</td>\n",
       "      <td>2022-01-04</td>\n",
       "      <td>2022-01-03</td>\n",
       "      <td>2809.6</td>\n",
       "      <td>105</td>\n",
       "      <td>600012662</td>\n",
       "      <td>MARINHA - Direção de Navios</td>\n",
       "      <td>Artigo 24.º, n.º 1, alínea e), subalínea ii) do Código dos Contratos Públicos</td>\n",
       "      <td>Auto-Sueco portugal - Veiculos Pesados, SA (505051931)|||AUTO-SUECO PORTUGAL - VEÍCULOS PESADOS, S.A. (505051931)</td>\n",
       "      <td>https://www.base.gov.pt/Base4/pt/detalhe/?type=entidades&amp;id=2944932</td>\n",
       "      <td>None</td>\n",
       "      <td>https://www.acingov.pt/acingovprod/2/index.php/zonaPublica/zona_publica_c/donwloadProcedurePiece/NTI3MzIz</td>\n",
       "      <td>None</td>\n",
       "      <td>False</td>\n",
       "      <td>35520000-5</td>\n",
       "    </tr>\n",
       "  </tbody>\n",
       "</table>"
      ],
      "text/plain": [
       "<IPython.core.display.HTML object>"
      ]
     },
     "execution_count": 19,
     "metadata": {},
     "output_type": "execute_result"
    }
   ],
   "source": [
    "cur.execute('''\n",
    "        SELECT *\n",
    "        FROM \"CONTRACTS\"\n",
    "        WHERE entidade_adjudicante = 'MARINHA - Direção de Navios';''')\n",
    "\n",
    "HTML(pd.DataFrame(cur.fetchmany(1)).to_html(index=False))"
   ]
  },
  {
   "cell_type": "code",
   "execution_count": 45,
   "id": "88d464ea-df55-42ad-8505-7953b4fda9f2",
   "metadata": {},
   "outputs": [
    {
     "data": {
      "text/html": [
       "<table border=\"1\" class=\"dataframe\">\n",
       "  <thead>\n",
       "    <tr style=\"text-align: right;\">\n",
       "      <th>0</th>\n",
       "      <th>1</th>\n",
       "    </tr>\n",
       "  </thead>\n",
       "  <tbody>\n",
       "    <tr>\n",
       "      <td>Marinha</td>\n",
       "      <td>6350</td>\n",
       "    </tr>\n",
       "    <tr>\n",
       "      <td>MARINHA - Direção de Navios</td>\n",
       "      <td>3809</td>\n",
       "    </tr>\n",
       "    <tr>\n",
       "      <td>Ministério da Defesa Nacional - Marinha</td>\n",
       "      <td>5</td>\n",
       "    </tr>\n",
       "  </tbody>\n",
       "</table>"
      ],
      "text/plain": [
       "<IPython.core.display.HTML object>"
      ]
     },
     "execution_count": 45,
     "metadata": {},
     "output_type": "execute_result"
    }
   ],
   "source": [
    "cur = conn.cursor()\n",
    "\n",
    "cur.execute('''\n",
    "      SELECT entidade_adjudicante, COUNT (entidade_adjudicante)\n",
    "      FROM \"CONTRACTS\"\n",
    "      WHERE nif_entidade_adjudicante = '600012662'\n",
    "      GROUP BY \"entidade_adjudicante\" \n",
    "      ORDER BY COUNT(entidade_adjudicante) DESC;''')\n",
    "\n",
    "HTML(pd.DataFrame(cur.fetchall()).to_html(index=False))"
   ]
  },
  {
   "cell_type": "code",
   "execution_count": 44,
   "id": "f8f0e742-087e-4e23-a9a8-643045df8d17",
   "metadata": {},
   "outputs": [
    {
     "data": {
      "text/html": [
       "<table border=\"1\" class=\"dataframe\">\n",
       "  <thead>\n",
       "    <tr style=\"text-align: right;\">\n",
       "      <th>0</th>\n",
       "      <th>1</th>\n",
       "      <th>2</th>\n",
       "    </tr>\n",
       "  </thead>\n",
       "  <tbody>\n",
       "    <tr>\n",
       "      <td>Marinha</td>\n",
       "      <td>Ajuste Direto Regime Geral</td>\n",
       "      <td>4828</td>\n",
       "    </tr>\n",
       "    <tr>\n",
       "      <td>Marinha</td>\n",
       "      <td>Ao abrigo de acordo-quadro (art.º 258.º)</td>\n",
       "      <td>158</td>\n",
       "    </tr>\n",
       "    <tr>\n",
       "      <td>Marinha</td>\n",
       "      <td>Ao abrigo de acordo-quadro (art.º 259.º)</td>\n",
       "      <td>16</td>\n",
       "    </tr>\n",
       "    <tr>\n",
       "      <td>Marinha</td>\n",
       "      <td>Concurso público</td>\n",
       "      <td>334</td>\n",
       "    </tr>\n",
       "    <tr>\n",
       "      <td>Marinha</td>\n",
       "      <td>Consulta Prévia</td>\n",
       "      <td>1014</td>\n",
       "    </tr>\n",
       "    <tr>\n",
       "      <td>MARINHA - Direção de Navios</td>\n",
       "      <td>Ajuste Direto Regime Geral</td>\n",
       "      <td>2636</td>\n",
       "    </tr>\n",
       "    <tr>\n",
       "      <td>MARINHA - Direção de Navios</td>\n",
       "      <td>Ao abrigo de acordo-quadro (art.º 258.º)</td>\n",
       "      <td>24</td>\n",
       "    </tr>\n",
       "    <tr>\n",
       "      <td>MARINHA - Direção de Navios</td>\n",
       "      <td>Ao abrigo de acordo-quadro (art.º 259.º)</td>\n",
       "      <td>20</td>\n",
       "    </tr>\n",
       "    <tr>\n",
       "      <td>MARINHA - Direção de Navios</td>\n",
       "      <td>Concurso público</td>\n",
       "      <td>389</td>\n",
       "    </tr>\n",
       "    <tr>\n",
       "      <td>MARINHA - Direção de Navios</td>\n",
       "      <td>Consulta Prévia</td>\n",
       "      <td>737</td>\n",
       "    </tr>\n",
       "    <tr>\n",
       "      <td>MARINHA - Direção de Navios</td>\n",
       "      <td>Procedimento de negociação</td>\n",
       "      <td>3</td>\n",
       "    </tr>\n",
       "    <tr>\n",
       "      <td>Ministério da Defesa Nacional - Marinha</td>\n",
       "      <td>Ao abrigo de acordo-quadro (art.º 259.º)</td>\n",
       "      <td>3</td>\n",
       "    </tr>\n",
       "    <tr>\n",
       "      <td>Ministério da Defesa Nacional - Marinha</td>\n",
       "      <td>Concurso público</td>\n",
       "      <td>2</td>\n",
       "    </tr>\n",
       "  </tbody>\n",
       "</table>"
      ],
      "text/plain": [
       "<IPython.core.display.HTML object>"
      ]
     },
     "execution_count": 44,
     "metadata": {},
     "output_type": "execute_result"
    }
   ],
   "source": [
    "cur = conn.cursor()\n",
    "\n",
    "cur.execute('''\n",
    "    SELECT entidade_adjudicante, tipo_procedimento, COUNT(*) as count\n",
    "    FROM \"CONTRACTS\"\n",
    "    WHERE nif_entidade_adjudicante = '600012662'\n",
    "    GROUP BY entidade_adjudicante, tipo_procedimento\n",
    "    ORDER BY entidade_adjudicante;''')\n",
    "\n",
    "\n",
    "HTML(pd.DataFrame(cur.fetchall()).to_html(index=False))"
   ]
  },
  {
   "cell_type": "code",
   "execution_count": 61,
   "id": "8e601f37-f80e-434a-8528-6fc03fedac77",
   "metadata": {},
   "outputs": [
    {
     "data": {
      "text/html": [
       "<table border=\"1\" class=\"dataframe\">\n",
       "  <thead>\n",
       "    <tr style=\"text-align: right;\">\n",
       "      <th>0</th>\n",
       "      <th>1</th>\n",
       "      <th>2</th>\n",
       "    </tr>\n",
       "  </thead>\n",
       "  <tbody>\n",
       "    <tr>\n",
       "      <td>Marinha</td>\n",
       "      <td>Gartécnica - Paulo Sérgio Correia Garcia  (-)</td>\n",
       "      <td>121</td>\n",
       "    </tr>\n",
       "    <tr>\n",
       "      <td>Marinha</td>\n",
       "      <td>Vodafone Portugal - Comunicações Pessoais, S.A. (502544180)</td>\n",
       "      <td>111</td>\n",
       "    </tr>\n",
       "    <tr>\n",
       "      <td>Marinha</td>\n",
       "      <td>Worldparts , comércio de Equipamentos eléctricos Lda  (506047385)</td>\n",
       "      <td>73</td>\n",
       "    </tr>\n",
       "    <tr>\n",
       "      <td>Marinha</td>\n",
       "      <td>PEQUIPMAR - PEÇAS E EQUIPAMENTOS MARÍTIMOS, LDA  (505192942)</td>\n",
       "      <td>70</td>\n",
       "    </tr>\n",
       "    <tr>\n",
       "      <td>Marinha</td>\n",
       "      <td>Guerreiro &amp;amp; Mendes - Equipamentos Hoteleiros e Artigos Eléctricos, Lda (508566037)</td>\n",
       "      <td>68</td>\n",
       "    </tr>\n",
       "    <tr>\n",
       "      <td>Marinha</td>\n",
       "      <td>NUNO MIGUEL DOS SANTOS PIMENTEL (-)</td>\n",
       "      <td>61</td>\n",
       "    </tr>\n",
       "    <tr>\n",
       "      <td>Marinha</td>\n",
       "      <td>WORLDPARTS - COMÉRCIO (506047385)</td>\n",
       "      <td>61</td>\n",
       "    </tr>\n",
       "    <tr>\n",
       "      <td>Marinha</td>\n",
       "      <td>Curiosa Tradição Lda (513597832)</td>\n",
       "      <td>60</td>\n",
       "    </tr>\n",
       "    <tr>\n",
       "      <td>Marinha</td>\n",
       "      <td>PARTSUL - Comercio e Serviços, Lda (509590616)</td>\n",
       "      <td>58</td>\n",
       "    </tr>\n",
       "    <tr>\n",
       "      <td>Marinha</td>\n",
       "      <td>FRIMAT - EQUIPAMENTOS (501397221)</td>\n",
       "      <td>56</td>\n",
       "    </tr>\n",
       "    <tr>\n",
       "      <td>MARINHA - Direção de Navios</td>\n",
       "      <td>Worldparts , comércio de Equipamentos eléctricos Lda  (506047385)</td>\n",
       "      <td>54</td>\n",
       "    </tr>\n",
       "    <tr>\n",
       "      <td>Marinha</td>\n",
       "      <td>PARUNICO LDA  (515884499)</td>\n",
       "      <td>53</td>\n",
       "    </tr>\n",
       "    <tr>\n",
       "      <td>MARINHA - Direção de Navios</td>\n",
       "      <td>PEQUIPMAR - PEÇAS E EQUIPAMENTOS MARÍTIMOS, LDA  (505192942)</td>\n",
       "      <td>52</td>\n",
       "    </tr>\n",
       "    <tr>\n",
       "      <td>Marinha</td>\n",
       "      <td>Adocequipa - Equipamentos Hoteleiros e Ar Condicionado, Lda (504725360)</td>\n",
       "      <td>51</td>\n",
       "    </tr>\n",
       "    <tr>\n",
       "      <td>Marinha</td>\n",
       "      <td>Nautiradar (504652885)</td>\n",
       "      <td>51</td>\n",
       "    </tr>\n",
       "    <tr>\n",
       "      <td>Marinha</td>\n",
       "      <td>VODAFONE PORTUGAL - Comunicações Pessoais, S.A. (502544180)</td>\n",
       "      <td>49</td>\n",
       "    </tr>\n",
       "    <tr>\n",
       "      <td>Marinha</td>\n",
       "      <td>PEQUIPMAR-PEÇAS EQUIPAMENTOS MARÍTIMOS LDª (505192942)</td>\n",
       "      <td>49</td>\n",
       "    </tr>\n",
       "    <tr>\n",
       "      <td>Marinha</td>\n",
       "      <td>Nativimpulso Unipessoal, Lda (514943670)</td>\n",
       "      <td>49</td>\n",
       "    </tr>\n",
       "    <tr>\n",
       "      <td>Marinha</td>\n",
       "      <td>Marques &amp;amp; Abrantes lda (500134120)</td>\n",
       "      <td>48</td>\n",
       "    </tr>\n",
       "    <tr>\n",
       "      <td>Marinha</td>\n",
       "      <td>Armando Costa Oliveira Fonseca (-)</td>\n",
       "      <td>47</td>\n",
       "    </tr>\n",
       "  </tbody>\n",
       "</table>"
      ],
      "text/plain": [
       "<IPython.core.display.HTML object>"
      ]
     },
     "execution_count": 61,
     "metadata": {},
     "output_type": "execute_result"
    }
   ],
   "source": [
    "cur = conn.cursor()\n",
    "\n",
    "cur.execute('''\n",
    "    SELECT entidade_adjudicante, entidades_concorrentes, COUNT(*) as count\n",
    "    FROM \"CONTRACTS\"\n",
    "    WHERE nif_entidade_adjudicante = '600012662'\n",
    "    GROUP BY entidade_adjudicante, entidades_concorrentes\n",
    "    ORDER BY COUNT(entidades_concorrentes) DESC;''')\n",
    "\n",
    "\n",
    "HTML(pd.DataFrame(cur.fetchmany(20)).to_html(index=False))"
   ]
  },
  {
   "cell_type": "code",
   "execution_count": null,
   "id": "392a40b7-b819-49f9-b87d-089b14910e04",
   "metadata": {},
   "outputs": [],
   "source": []
  },
  {
   "cell_type": "markdown",
   "id": "0e45ac0e-4e7d-4f36-b66f-5e5325de12b0",
   "metadata": {},
   "source": [
    "<br>\n",
    "\n",
    "<br>\n",
    "\n",
    "<br>\n",
    "\n",
    "<br>\n",
    "\n",
    "<br>\n",
    "\n",
    "<br>\n",
    "\n",
    "<br>\n",
    "\n",
    "<br>"
   ]
  },
  {
   "cell_type": "markdown",
   "id": "e90a9df4-be8e-4858-b7ba-c96bf27b6979",
   "metadata": {},
   "source": [
    "<br>\n",
    "\n",
    "<br>\n",
    "\n",
    "**Selecionar todos os contratos realizados pela mesma entidade adjudicante**"
   ]
  },
  {
   "cell_type": "code",
   "execution_count": 29,
   "id": "e5256557-5ab5-42ab-b61b-371c3175f8b4",
   "metadata": {},
   "outputs": [
    {
     "data": {
      "text/html": [
       "<table border=\"1\" class=\"dataframe\">\n",
       "  <thead>\n",
       "    <tr style=\"text-align: right;\">\n",
       "      <th>0</th>\n",
       "      <th>1</th>\n",
       "      <th>2</th>\n",
       "      <th>3</th>\n",
       "      <th>4</th>\n",
       "      <th>5</th>\n",
       "      <th>6</th>\n",
       "      <th>7</th>\n",
       "      <th>8</th>\n",
       "      <th>9</th>\n",
       "      <th>10</th>\n",
       "      <th>11</th>\n",
       "      <th>12</th>\n",
       "      <th>13</th>\n",
       "      <th>14</th>\n",
       "      <th>15</th>\n",
       "      <th>16</th>\n",
       "      <th>17</th>\n",
       "    </tr>\n",
       "  </thead>\n",
       "  <tbody>\n",
       "    <tr>\n",
       "      <td>8584389</td>\n",
       "      <td>None</td>\n",
       "      <td>Ajuste Direto Regime Geral</td>\n",
       "      <td>Serviços no âmbito da Ação Social: Sinalizar idosos em situações de isolamento/fragilidade sem acesso a respostas sociais e articular o encaminhamento para as respetivas respostas sociais disponíveis. Diagnosticar a rede de suporte familiar e social e desenvolver estratégias de intervenção. Avaliar a situação socioeconómica do idoso e informar e apoiar no acesso a subsídios ou prestações da Segurança Social. Articular com as IPSS, nas diferentes respostas sociais existentes, com a USF e com a família e/ou cuidadores informais, no sentido de estabelecer parcerias no cuidado ao idoso. Avaliações psicológicas e avaliações cognitivas</td>\n",
       "      <td>2022-01-02</td>\n",
       "      <td>2022-01-02</td>\n",
       "      <td>10800.0</td>\n",
       "      <td>364</td>\n",
       "      <td>506970892</td>\n",
       "      <td>Freguesia de Ronfe</td>\n",
       "      <td>Artigo 20.º, n.º 1, alínea d) do Código dos Contratos Públicos</td>\n",
       "      <td>Joana Maria de Sousa Ferreira Lima de Freitas (-)</td>\n",
       "      <td>https://www.base.gov.pt/Base4/pt/detalhe/?type=entidades&amp;id=4011442</td>\n",
       "      <td>None</td>\n",
       "      <td>None</td>\n",
       "      <td>https://www.base.gov.pt/Base4/pt/resultados/?type=doc_documentos&amp;id=1491950&amp;ext=.pdf</td>\n",
       "      <td>False</td>\n",
       "      <td>85322000-2</td>\n",
       "    </tr>\n",
       "    <tr>\n",
       "      <td>8584391</td>\n",
       "      <td>None</td>\n",
       "      <td>Consulta Prévia</td>\n",
       "      <td>Serviços no âmbito administrativo, nomeadamente, coordenação e execução de tarefas relacionadas com o Posto dos CTT e serviços administrativos</td>\n",
       "      <td>2022-01-02</td>\n",
       "      <td>2022-01-02</td>\n",
       "      <td>8460.0</td>\n",
       "      <td>364</td>\n",
       "      <td>506970892</td>\n",
       "      <td>Freguesia de Ronfe</td>\n",
       "      <td>Artigo 20.º, n.º 1, alínea c) do Código dos Contratos Públicos</td>\n",
       "      <td>Olga Alice Mendes Ferreira Mota (-)|||Fernando Eleutério Carvalho Martins Fernandes (-)|||Victor Miguel  Ferreira de Castro (-)</td>\n",
       "      <td>https://www.base.gov.pt/Base4/pt/detalhe/?type=entidades&amp;id=1688939</td>\n",
       "      <td>None</td>\n",
       "      <td>None</td>\n",
       "      <td>https://www.base.gov.pt/Base4/pt/resultados/?type=doc_documentos&amp;id=1491952&amp;ext=.pdf</td>\n",
       "      <td>False</td>\n",
       "      <td>75110000-0</td>\n",
       "    </tr>\n",
       "  </tbody>\n",
       "</table>"
      ],
      "text/plain": [
       "<IPython.core.display.HTML object>"
      ]
     },
     "execution_count": 29,
     "metadata": {},
     "output_type": "execute_result"
    }
   ],
   "source": [
    "cur = conn.cursor()\n",
    "\n",
    "cur.execute('''\n",
    "        SELECT *\n",
    "        FROM \"CONTRACTS\"\n",
    "        WHERE nif_entidade_adjudicante = '506970892';''')\n",
    "\n",
    "HTML(pd.DataFrame(cur.fetchmany(2)).to_html(index=False))\n",
    "\n",
    "# data_celebracao  preco_contratual  prazo_execucao  criterios_ambientais  data_publicacao  entidade_adjudicante  fundamentacao  entidades_concorrentes  url_entidades_concorrente \n",
    "# url_anuncio  url_peças_procedimento  url_documentos  idcontrato  cpv  n_anuncio  tipo_procedimento  objecto_contrato  nif_entidade_adjudicante"
   ]
  },
  {
   "cell_type": "markdown",
   "id": "f55d0efa-b28f-44cd-a1f6-1a72c6c07c01",
   "metadata": {},
   "source": [
    "***\n",
    "\n",
    "<br>\n",
    "\n",
    "# Funções "
   ]
  },
  {
   "cell_type": "code",
   "execution_count": 101,
   "id": "f980d022-8993-487f-be53-07fa624d669d",
   "metadata": {},
   "outputs": [
    {
     "data": {
      "text/plain": [
       "array([[10800.]])"
      ]
     },
     "execution_count": 101,
     "metadata": {},
     "output_type": "execute_result"
    }
   ],
   "source": [
    "def preco_contrato(id_anuncio):\n",
    "    \n",
    "    '''\n",
    "    Função que retorna preço contratual a partir do id do anúncio\n",
    "    '''\n",
    "    cur.execute('''\n",
    "        SELECT preco_contratual\n",
    "        FROM \"CONTRACTS\"\n",
    "        WHERE idcontrato = %s; ''', (id_anuncio,))\n",
    "\n",
    "    \n",
    "    return np.asarray(cur.fetchall())\n",
    "\n",
    "\n",
    "(preco_contrato('8584389'))"
   ]
  },
  {
   "cell_type": "code",
   "execution_count": 118,
   "id": "d87b9b80-b77e-4fca-b404-10dde490c237",
   "metadata": {},
   "outputs": [],
   "source": [
    "def preco_contrato1(id_anuncio):\n",
    "    \n",
    "    '''\n",
    "    Função que retorna preço contratual a partir de uma lista de ids de anúncios\n",
    "    '''\n",
    "    \n",
    "    cur.execute('''\n",
    "        SELECT preco_contratual\n",
    "        FROM \"CONTRACTS\"\n",
    "        WHERE idcontrato IN %s; ''', (tuple(id_anuncio),))\n",
    "    \n",
    "    return np.asarray(cur.fetchall())"
   ]
  },
  {
   "cell_type": "code",
   "execution_count": 116,
   "id": "a78e60fb-6866-49c2-931b-705467ff96a3",
   "metadata": {},
   "outputs": [],
   "source": [
    "def all_ids(): \n",
    "    '''\n",
    "    Função que retorna todos os ids dos contratos\n",
    "    '''\n",
    "    cur = conn.cursor()\n",
    "    cur.execute(''' \n",
    "                SELECT idcontrato\n",
    "                FROM \"CONTRACTS\";\n",
    "                ''')\n",
    "    return (cur.fetchall())\n",
    "\n",
    "ids = all_ids()"
   ]
  },
  {
   "cell_type": "code",
   "execution_count": 117,
   "id": "1d00eba0-65fe-49e9-9263-8aeb8db1d87c",
   "metadata": {},
   "outputs": [
    {
     "data": {
      "text/plain": [
       "array([[  7163.16],\n",
       "       [ 11261.16],\n",
       "       [ 10800.  ],\n",
       "       ...,\n",
       "       [153612.  ],\n",
       "       [764139.9 ],\n",
       "       [  3259.04]])"
      ]
     },
     "execution_count": 117,
     "metadata": {},
     "output_type": "execute_result"
    }
   ],
   "source": [
    "preco_contrato1(ids)"
   ]
  },
  {
   "cell_type": "code",
   "execution_count": 12,
   "id": "cb9c7a8d-da90-423d-9ef9-7d4439978c0e",
   "metadata": {},
   "outputs": [
    {
     "data": {
      "text/html": [
       "<table border=\"1\" class=\"dataframe\">\n",
       "  <thead>\n",
       "    <tr style=\"text-align: right;\">\n",
       "      <th>0</th>\n",
       "      <th>1</th>\n",
       "    </tr>\n",
       "  </thead>\n",
       "  <tbody>\n",
       "    <tr>\n",
       "      <td>MEDICAMENTOS</td>\n",
       "      <td>2446</td>\n",
       "    </tr>\n",
       "    <tr>\n",
       "      <td>VÁRIOS MEDICAMENTOS</td>\n",
       "      <td>444</td>\n",
       "    </tr>\n",
       "    <tr>\n",
       "      <td>REAGENTES</td>\n",
       "      <td>374</td>\n",
       "    </tr>\n",
       "    <tr>\n",
       "      <td>Vários Medicamentos</td>\n",
       "      <td>271</td>\n",
       "    </tr>\n",
       "    <tr>\n",
       "      <td>Fornecimento de eletricidade em regime de mercado livre para Portugal Continental</td>\n",
       "      <td>257</td>\n",
       "    </tr>\n",
       "    <tr>\n",
       "      <td>112/2022</td>\n",
       "      <td>238</td>\n",
       "    </tr>\n",
       "    <tr>\n",
       "      <td>P259-2022-028 - Convite ao abrigo do(s) acordo(s)-quadro CP 2021/6 - Medicamentos do Foro Oncológico e  Imunomoduladores,  CP 2020/61 - Medicamentos Diversos, CP 2019/55 - Medicamentos Diversos, CP 20</td>\n",
       "      <td>223</td>\n",
       "    </tr>\n",
       "    <tr>\n",
       "      <td>P259-2021-125-Convite ao abrigo do(s) acordo(s)-quadro 2021/6, 2020/5, 2020/61, 2019/40, 2021/47 e 2021/41</td>\n",
       "      <td>201</td>\n",
       "    </tr>\n",
       "    <tr>\n",
       "      <td>Convite ao abrigo dos acordos-quadro 2021/6, 2020/5, 2022/40, 2021/47, 2021/41 e 2021/55</td>\n",
       "      <td>198</td>\n",
       "    </tr>\n",
       "    <tr>\n",
       "      <td>Medicamentos</td>\n",
       "      <td>189</td>\n",
       "    </tr>\n",
       "  </tbody>\n",
       "</table>"
      ],
      "text/plain": [
       "<IPython.core.display.HTML object>"
      ]
     },
     "execution_count": 12,
     "metadata": {},
     "output_type": "execute_result"
    }
   ],
   "source": [
    "cur = conn.cursor()\n",
    "cur.execute('''\n",
    "        SELECT objecto_contrato, COUNT (objecto_contrato)\n",
    "        FROM \"CONTRACTS\"\n",
    "        GROUP BY \"objecto_contrato\"\n",
    "        ORDER BY COUNT(objecto_contrato) DESC;;''')\n",
    "\n",
    "df = (pd.DataFrame(cur.fetchmany(10)))\n",
    "HTML(df.to_html(index=False))"
   ]
  }
 ],
 "metadata": {
  "kernelspec": {
   "display_name": "Python 3 (ipykernel)",
   "language": "python",
   "name": "python3"
  },
  "language_info": {
   "codemirror_mode": {
    "name": "ipython",
    "version": 3
   },
   "file_extension": ".py",
   "mimetype": "text/x-python",
   "name": "python",
   "nbconvert_exporter": "python",
   "pygments_lexer": "ipython3",
   "version": "3.11.5"
  }
 },
 "nbformat": 4,
 "nbformat_minor": 5
}
