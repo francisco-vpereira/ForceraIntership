{
 "cells": [
  {
   "cell_type": "markdown",
   "id": "3f9ef647-97da-4fa0-83be-198962942401",
   "metadata": {},
   "source": [
    "# Bibliotecas"
   ]
  },
  {
   "cell_type": "code",
   "execution_count": 1,
   "id": "a043d2cf-de14-4cbd-a405-11832976a25e",
   "metadata": {},
   "outputs": [],
   "source": [
    "# Mudar diretório para chamar scripts com funções\n",
    "import os\n",
    "os.chdir('/home/francisco/MECAD/2º Ano/Estágio/forcera/scripts/scripts_py')\n",
    "\n",
    "# Importar funções e flags definidas em flags.py e functions.py\n",
    "from functions import *\n",
    "from flags import * \n",
    "\n",
    "import psycopg2\n",
    "from psycopg2 import OperationalError\n",
    "import pandas as pd\n",
    "import numpy as np\n",
    "import matplotlib.pylab as plt\n",
    "from scipy.optimize import curve_fit\n",
    "import seaborn as sns\n",
    "from IPython.display import HTML\n",
    "import webbrowser\n",
    "from collections import defaultdict\n",
    "import networkx as nx\n",
    "\n",
    "plt.rcParams['figure.figsize'] = (7,5)"
   ]
  },
  {
   "cell_type": "markdown",
   "id": "069e8e2b-b18c-47b6-901f-87ed7e975622",
   "metadata": {},
   "source": [
    "# Ligação à base de dados"
   ]
  },
  {
   "cell_type": "code",
   "execution_count": 2,
   "id": "76cd800b-5258-4177-a6b9-a48f577f2982",
   "metadata": {
    "editable": true,
    "slideshow": {
     "slide_type": ""
    },
    "tags": []
   },
   "outputs": [],
   "source": [
    "conn = psycopg2.connect(\n",
    "    host = \"contratos-base-gov1.cf87yxnqgph8.eu-central-1.rds.amazonaws.com\",\n",
    "    port = 5432,\n",
    "    #database = \"contratosbasegov\",\n",
    "    user = \"contratosbasegov\",\n",
    "    password = \"8n9nyeTBFUyCcLJShNrZdPUai2KQkue4\")\n",
    "\n",
    "cur = conn.cursor()"
   ]
  },
  {
   "cell_type": "markdown",
   "id": "807cb09a-1d80-4b91-8ed1-1feacec76885",
   "metadata": {},
   "source": [
    "# DataFrame"
   ]
  },
  {
   "cell_type": "code",
   "execution_count": 3,
   "id": "44844af6-8ae7-41cc-affd-355251d61116",
   "metadata": {
    "scrolled": true
   },
   "outputs": [],
   "source": [
    "# Filtrar contratos : ID's concursos públicos com CPV's começados por 72\n",
    "cpub = (cpv('72', 'Concurso público'))"
   ]
  },
  {
   "cell_type": "code",
   "execution_count": 4,
   "id": "12fb87ed-00a8-4ad2-aa6f-73907cd9ab8a",
   "metadata": {},
   "outputs": [],
   "source": [
    "# Dataframe referente ao conjuntos de contratos públicos celebrados no ramo de consultoria IT \n",
    "cp = contratos(cpub)"
   ]
  },
  {
   "cell_type": "code",
   "execution_count": 5,
   "id": "cfafb990-57c1-41c5-a2ff-2bd3477ac9f0",
   "metadata": {
    "scrolled": true
   },
   "outputs": [],
   "source": [
    "cp = cp.rename(columns={0:'ID', 1:'NrAnuncio', 2:'PrecoBase', 3:'Prazo', 16:'DataPub', 17:'DataCel', 18:'PrecoContratual',20:'Adjudicante', 22:'Adjudicatária' ,23:'EntConcorrentes', 59:'TotalEfecPrice'})"
   ]
  },
  {
   "cell_type": "code",
   "execution_count": 6,
   "id": "a93c9e96-9fe6-47c6-88c3-f21acf445e45",
   "metadata": {},
   "outputs": [],
   "source": [
    "cp.PrecoBase = cp.PrecoBase.replace('None',0).astype(float)\n",
    "cp.PrecoContratual = cp.PrecoContratual.replace('None',0).astype(float)\n",
    "cp.TotalEfecPrice = cp.TotalEfecPrice.replace('None',0).astype(float)"
   ]
  },
  {
   "cell_type": "code",
   "execution_count": 7,
   "id": "809bccb0-29ed-4559-ae18-452a97a8dc7b",
   "metadata": {},
   "outputs": [
    {
     "data": {
      "text/plain": [
       "array([  83,  110,  382,  392,  397,  420,  475,  479,  565,  574,  580,\n",
       "        592,  593,  604,  667,  677,  684,  685,  697,  698,  703,  708,\n",
       "        734,  736,  745,  788,  797,  807,  869,  909,  922,  923,  969,\n",
       "        970, 1049, 1078, 1081, 1085, 1086, 1087, 1092, 1095, 1096, 1097,\n",
       "       1112, 1128, 1129, 1132, 1133, 1162, 1168, 1169, 1171, 1172, 1180,\n",
       "       1181, 1182, 1184, 1185, 1186, 1187, 1188, 1189, 1198, 1207, 1208,\n",
       "       1249, 1251, 1289, 1294, 1297, 1298, 1307, 1333, 1354, 1356])"
      ]
     },
     "execution_count": 7,
     "metadata": {},
     "output_type": "execute_result"
    }
   ],
   "source": [
    "indices = np.where(cp.TotalEfecPrice > 0)[0]\n",
    "indices"
   ]
  },
  {
   "cell_type": "code",
   "execution_count": 16,
   "id": "ab992cf9-6720-471d-81f4-19da5b33ecc1",
   "metadata": {},
   "outputs": [
    {
     "data": {
      "text/plain": [
       "array([ 479,  909, 1128, 1129, 1251])"
      ]
     },
     "execution_count": 16,
     "metadata": {},
     "output_type": "execute_result"
    }
   ],
   "source": [
    "inds = indices[np.where(cp.PrecoContratual[indices] != cp.TotalEfecPrice[indices])[0]]\n",
    "inds"
   ]
  },
  {
   "cell_type": "code",
   "execution_count": 17,
   "id": "25cbf3b4-400e-45fb-ae87-7a777f187f89",
   "metadata": {},
   "outputs": [
    {
     "name": "stdout",
     "output_type": "stream",
     "text": [
      "\t\tPrecoContratual \t PrecoTotalEfetivo\n",
      "10005180 \t 102200.0 \t\t 30525.0\n",
      "9565472 \t 123830.0 \t\t 97257.93\n",
      "9497061 \t 146136.32 \t\t 19413.68\n",
      "9497053 \t 146136.32 \t\t 61630.56\n",
      "9317610 \t 65664.0 \t\t 20046.5\n"
     ]
    }
   ],
   "source": [
    "print('\\t\\tPrecoContratual \\t PrecoTotalEfetivo')\n",
    "for i in inds:\n",
    "    print(cp.ID[i], '\\t', cp.PrecoContratual[i], '\\t\\t', cp.TotalEfecPrice[i])"
   ]
  },
  {
   "cell_type": "code",
   "execution_count": 21,
   "id": "82068d3f-8b08-497d-9192-32edee4d927d",
   "metadata": {},
   "outputs": [],
   "source": [
    "def rf1(df):\n",
    "    \n",
    "    df = df.rename(columns={0:'ID', 1:'NrAnuncio', 2:'PrecoBase', 3:'Prazo', 16:'DataPub', 17:'DataCel', 18:'PrecoContratual',20:'Adjudicante', 22:'Adjudicatária' ,23:'EntConcorrentes', 59:'TotalEfecPrice'})\n",
    "    df.PrecoBase       = df.PrecoBase.replace('None',0).astype(float)\n",
    "    df.PrecoContratual = df.PrecoContratual.replace('None',0).astype(float)\n",
    "    df.TotalEfecPrice  = df.TotalEfecPrice.replace('None',0).astype(float)\n",
    "    \n",
    "    indices = np.where(df.TotalEfecPrice > 0)[0]\n",
    "    inds = indices[np.where(df.PrecoContratual[indices] != df.TotalEfecPrice[indices])[0]]\n",
    "\n",
    "    return list(df.ID[inds])"
   ]
  },
  {
   "cell_type": "code",
   "execution_count": 22,
   "id": "7b3eb82b-777c-490a-a607-21d8d828faa8",
   "metadata": {},
   "outputs": [
    {
     "data": {
      "text/plain": [
       "['10005180', '9565472', '9497061', '9497053', '9317610']"
      ]
     },
     "execution_count": 22,
     "metadata": {},
     "output_type": "execute_result"
    }
   ],
   "source": [
    "rf1(cp)"
   ]
  }
 ],
 "metadata": {
  "kernelspec": {
   "display_name": "Python 3 (ipykernel)",
   "language": "python",
   "name": "python3"
  },
  "language_info": {
   "codemirror_mode": {
    "name": "ipython",
    "version": 3
   },
   "file_extension": ".py",
   "mimetype": "text/x-python",
   "name": "python",
   "nbconvert_exporter": "python",
   "pygments_lexer": "ipython3",
   "version": "3.11.6"
  }
 },
 "nbformat": 4,
 "nbformat_minor": 5
}
