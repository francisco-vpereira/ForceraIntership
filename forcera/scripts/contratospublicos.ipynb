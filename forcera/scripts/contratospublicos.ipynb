{
 "cells": [
  {
   "cell_type": "markdown",
   "id": "109feed3-410b-49f0-a6dc-e054cadbd9a2",
   "metadata": {},
   "source": [
    "# Importar Bibliotecas"
   ]
  },
  {
   "cell_type": "code",
   "execution_count": 1,
   "id": "2a6302d4-cfbf-45e5-8545-5177f5529085",
   "metadata": {},
   "outputs": [],
   "source": [
    "# Mudar diretório para chamar scripts com funções\n",
    "import os\n",
    "os.chdir('/home/francisco/MECAD/2º Ano/Estágio/forcera/scripts/scripts_py')\n",
    "\n",
    "# Importar funções e flags definidas em flags.py e functions.py\n",
    "from functions import *\n",
    "from flags import * \n",
    "\n",
    "import psycopg2\n",
    "from psycopg2 import OperationalError\n",
    "import pandas as pd\n",
    "import numpy as np\n",
    "import matplotlib.pylab as plt\n",
    "import seaborn as sns\n",
    "from IPython.display import HTML\n",
    "import webbrowser\n",
    "from collections import defaultdict"
   ]
  },
  {
   "cell_type": "markdown",
   "id": "95310db9-06b0-4d14-9645-4d0d1f39abf7",
   "metadata": {},
   "source": [
    "# Ligação à base de dados"
   ]
  },
  {
   "cell_type": "code",
   "execution_count": 2,
   "id": "0aba7020-01de-429a-872f-3d8d32413d07",
   "metadata": {},
   "outputs": [],
   "source": [
    "conn = psycopg2.connect(\n",
    "    host = \"contratos-base-gov1.cf87yxnqgph8.eu-central-1.rds.amazonaws.com\",\n",
    "    port = 5432,\n",
    "    #database = \"contratosbasegov\",\n",
    "    user = \"contratosbasegov\",\n",
    "    password = \"8n9nyeTBFUyCcLJShNrZdPUai2KQkue4\")\n",
    "\n",
    "cur = conn.cursor()"
   ]
  },
  {
   "cell_type": "code",
   "execution_count": 3,
   "id": "1e6ccbde-5906-45b4-9d78-8c22cbcad146",
   "metadata": {},
   "outputs": [],
   "source": [
    "cur.execute('''ROLLBACK;''')"
   ]
  },
  {
   "cell_type": "code",
   "execution_count": 3,
   "id": "bac97fd8-5948-47cb-995e-1f6882355417",
   "metadata": {
    "scrolled": true
   },
   "outputs": [],
   "source": [
    "# Filtrar contratos : concursos públicos com CPV's começados por 72\n",
    "# É preciso colocá-los por ordem crescente para bater certo\n",
    "cpub = (cpv('72', 'Concurso público'))"
   ]
  },
  {
   "cell_type": "code",
   "execution_count": 4,
   "id": "0fd21058-a405-4d2a-a01d-9cf834ae06a8",
   "metadata": {},
   "outputs": [],
   "source": [
    "# Conjuntos de contratos públicos celebrados no ramo de consultoria IT \n",
    "cp = contratos(cpub)"
   ]
  },
  {
   "cell_type": "code",
   "execution_count": 5,
   "id": "12d98ba6-9652-4b70-8c1d-2f39d7909100",
   "metadata": {},
   "outputs": [
    {
     "data": {
      "text/html": [
       "<table border=\"1\" class=\"dataframe\">\n",
       "  <thead>\n",
       "    <tr style=\"text-align: right;\">\n",
       "      <th>ID</th>\n",
       "      <th>NrAnuncio</th>\n",
       "      <th>PrecoBase</th>\n",
       "      <th>3</th>\n",
       "      <th>4</th>\n",
       "      <th>5</th>\n",
       "      <th>6</th>\n",
       "      <th>7</th>\n",
       "      <th>8</th>\n",
       "      <th>9</th>\n",
       "      <th>10</th>\n",
       "      <th>11</th>\n",
       "      <th>12</th>\n",
       "      <th>13</th>\n",
       "      <th>14</th>\n",
       "      <th>15</th>\n",
       "      <th>16</th>\n",
       "      <th>17</th>\n",
       "      <th>PrecoContratual</th>\n",
       "      <th>19</th>\n",
       "      <th>20</th>\n",
       "      <th>21</th>\n",
       "      <th>22</th>\n",
       "      <th>23</th>\n",
       "      <th>24</th>\n",
       "      <th>25</th>\n",
       "      <th>26</th>\n",
       "      <th>27</th>\n",
       "      <th>28</th>\n",
       "      <th>29</th>\n",
       "      <th>30</th>\n",
       "      <th>31</th>\n",
       "      <th>32</th>\n",
       "      <th>33</th>\n",
       "      <th>34</th>\n",
       "      <th>35</th>\n",
       "      <th>36</th>\n",
       "      <th>37</th>\n",
       "      <th>38</th>\n",
       "      <th>39</th>\n",
       "      <th>40</th>\n",
       "      <th>41</th>\n",
       "      <th>42</th>\n",
       "      <th>43</th>\n",
       "      <th>44</th>\n",
       "      <th>45</th>\n",
       "      <th>46</th>\n",
       "      <th>47</th>\n",
       "      <th>48</th>\n",
       "      <th>49</th>\n",
       "      <th>50</th>\n",
       "      <th>51</th>\n",
       "      <th>52</th>\n",
       "      <th>53</th>\n",
       "      <th>54</th>\n",
       "      <th>55</th>\n",
       "      <th>56</th>\n",
       "      <th>57</th>\n",
       "      <th>58</th>\n",
       "      <th>59</th>\n",
       "      <th>60</th>\n",
       "    </tr>\n",
       "  </thead>\n",
       "  <tbody>\n",
       "    <tr>\n",
       "      <td>10323405</td>\n",
       "      <td>15555/2023</td>\n",
       "      <td>137670.00</td>\n",
       "      <td>6</td>\n",
       "      <td>False</td>\n",
       "      <td>6699898</td>\n",
       "      <td>13437191</td>\n",
       "      <td>2023-09-19</td>\n",
       "      <td>182</td>\n",
       "      <td>2</td>\n",
       "      <td>False</td>\n",
       "      <td>False</td>\n",
       "      <td>https://dre.pt/application/file/221829278</td>\n",
       "      <td>Anúncio de procedimento</td>\n",
       "      <td>Concurso público</td>\n",
       "      <td>Contratualização de uma Plataforma Educacional de Aprendizagem Digital</td>\n",
       "      <td>2023-11-02</td>\n",
       "      <td>2023-10-31</td>\n",
       "      <td>113524.80</td>\n",
       "      <td>332</td>\n",
       "      <td>Município de Santarém (505941350)(https://www.base.gov.pt/Base4/pt/detalhe/?type=entidades&amp;id=1785)</td>\n",
       "      <td>Artigo 20.º, n.º 1, alínea b) do Código dos Contratos Públicos</td>\n",
       "      <td>Porto Editora, S.A. (500221103)(https://www.base.gov.pt/Base4/pt/detalhe/?type=entidades&amp;id=585)</td>\n",
       "      <td>None</td>\n",
       "      <td>https://www.base.gov.pt/Base4/pt/detalhe/?type=anuncios&amp;id=356587</td>\n",
       "      <td>https://www.acingov.pt/acingovprod/2/zonaPublica/zona_publica_c/donwloadProcedurePiece/NjgwNTc4</td>\n",
       "      <td>https://www.base.gov.pt/Base4/pt/resultados/?type=doc_documentos&amp;id=2071168&amp;ext=.pdf</td>\n",
       "      <td>false</td>\n",
       "      <td>72212190-7</td>\n",
       "      <td>False</td>\n",
       "      <td>None</td>\n",
       "      <td>None</td>\n",
       "      <td>False</td>\n",
       "      <td>False</td>\n",
       "      <td>None</td>\n",
       "      <td>False</td>\n",
       "      <td>None</td>\n",
       "      <td>False</td>\n",
       "      <td>Aquisição de serviços</td>\n",
       "      <td>Serviços de desenvolvimento de software para ensino</td>\n",
       "      <td>Principal</td>\n",
       "      <td>113524.8</td>\n",
       "      <td>Contratualização de uma Plataforma Educacional de Aprendizagem Digital</td>\n",
       "      <td>Não aplicável</td>\n",
       "      <td>None</td>\n",
       "      <td>Portugal, Santarém, Santarém</td>\n",
       "      <td>Não aplicável.</td>\n",
       "      <td>Não aplicável.</td>\n",
       "      <td>None</td>\n",
       "      <td>False</td>\n",
       "      <td>False</td>\n",
       "      <td>None</td>\n",
       "      <td>None</td>\n",
       "      <td>False</td>\n",
       "      <td>None</td>\n",
       "      <td>True</td>\n",
       "      <td>None</td>\n",
       "      <td>Código dos Contratos Públicos (DL111-B/2017) e Lei n.º 30/2021, de 21.05</td>\n",
       "      <td>None</td>\n",
       "      <td>None</td>\n",
       "      <td>1699382733</td>\n",
       "    </tr>\n",
       "    <tr>\n",
       "      <td>10322139</td>\n",
       "      <td>13241/2023</td>\n",
       "      <td>592500.00</td>\n",
       "      <td>36</td>\n",
       "      <td>False</td>\n",
       "      <td>6640568</td>\n",
       "      <td>13311154</td>\n",
       "      <td>2023-08-04</td>\n",
       "      <td>151</td>\n",
       "      <td>2</td>\n",
       "      <td>False</td>\n",
       "      <td>False</td>\n",
       "      <td>https://dre.pt/application/file/216770781</td>\n",
       "      <td>Anúncio de procedimento</td>\n",
       "      <td>Concurso público</td>\n",
       "      <td>Concurso Público, com Publicidade Internacional, para a Aquisição de Serviços de instalação e manutenção de uma infraestrutura tecnológica em \"cloud\" de suporte ao sistema de informação aplicacional Oracle da LIPOR</td>\n",
       "      <td>2023-11-02</td>\n",
       "      <td>2023-11-02</td>\n",
       "      <td>521150.00</td>\n",
       "      <td>547</td>\n",
       "      <td>Associação de Municípios para a Gestão Sustentável de Resíduos do Grande Porto - LIPOR (501394192)(https://www.base.gov.pt/Base4/pt/detalhe/?type=entidades&amp;id=390)</td>\n",
       "      <td>Artigo 20.º, n.º 1, alínea a) do Código dos Contratos Públicos</td>\n",
       "      <td>OPTIMIZER – SERVIÇOS E CONSULTADORIA INFORMÁTICA, LDA. (504775936)(https://www.base.gov.pt/Base4/pt/detalhe/?type=entidades&amp;id=10540)</td>\n",
       "      <td>None</td>\n",
       "      <td>https://www.base.gov.pt/Base4/pt/detalhe/?type=anuncios&amp;id=353643</td>\n",
       "      <td>https://community.vortal.biz/PRODPublic/Tendering/OpportunityDetail/Index?noticeUID=PT1.NTC.2501553</td>\n",
       "      <td>https://www.base.gov.pt/Base4/pt/resultados/?type=doc_documentos&amp;id=2070929&amp;ext=.pdf</td>\n",
       "      <td>false</td>\n",
       "      <td>72300000-8</td>\n",
       "      <td>False</td>\n",
       "      <td>None</td>\n",
       "      <td>None</td>\n",
       "      <td>False</td>\n",
       "      <td>False</td>\n",
       "      <td>None</td>\n",
       "      <td>False</td>\n",
       "      <td>None</td>\n",
       "      <td>False</td>\n",
       "      <td>Aquisição de serviços</td>\n",
       "      <td>Serviços relacionados com dados</td>\n",
       "      <td>Principal</td>\n",
       "      <td>521150.0</td>\n",
       "      <td>Concurso Público, com Publicidade Internacional, para a Aquisição de Serviços de instalação e manutenção de uma infraestrutura tecnológica em \"cloud\" de suporte ao sistema de informação aplicacional Oracle da LIPOR</td>\n",
       "      <td>Não aplicável</td>\n",
       "      <td>None</td>\n",
       "      <td>Portugal, Porto, Gondomar</td>\n",
       "      <td>Não aplicável.</td>\n",
       "      <td>Não aplicável.</td>\n",
       "      <td>None</td>\n",
       "      <td>False</td>\n",
       "      <td>False</td>\n",
       "      <td>None</td>\n",
       "      <td>None</td>\n",
       "      <td>False</td>\n",
       "      <td>None</td>\n",
       "      <td>True</td>\n",
       "      <td>None</td>\n",
       "      <td>Código dos Contratos Públicos (DL111-B/2017) e Lei n.º 30/2021, de 21.05</td>\n",
       "      <td>None</td>\n",
       "      <td>None</td>\n",
       "      <td>1699384415</td>\n",
       "    </tr>\n",
       "  </tbody>\n",
       "</table>"
      ],
      "text/plain": [
       "<IPython.core.display.HTML object>"
      ]
     },
     "execution_count": 5,
     "metadata": {},
     "output_type": "execute_result"
    }
   ],
   "source": [
    "cp = cp.rename(columns={0:'ID', 1:'NrAnuncio', 2:'PrecoBase', 18:'PrecoContratual'})\n",
    "h(cp.head(2))"
   ]
  },
  {
   "cell_type": "code",
   "execution_count": 6,
   "id": "179a10b8-0aed-4601-a20b-d21885fa1551",
   "metadata": {},
   "outputs": [
    {
     "data": {
      "text/plain": [
       "(137670.0, 113524.8, ('9996682',))"
      ]
     },
     "execution_count": 6,
     "metadata": {},
     "output_type": "execute_result"
    }
   ],
   "source": [
    "# Preço Base e Preço Contratual de todos os contratos públicos realizados para CPV's começados por 72\n",
    "pb = preco_base3(cpub)\n",
    "pc = preco_contrato3(cpub)\n",
    "\n",
    "# O preço base e o preço contratual estão a ser obtidos de forma correta da base de dados\n",
    "# O problema é que o ID não corresponde ao contrato. Quando dou os ids como input à função contratos - sendo que estes ids são provenientes da função cpv() - ele ordena os contratos por ordem crescente de ID \n",
    "# Já funciona : foi necessário colocar os ids provenientes de cpv() por ordem crescente\n",
    "\n",
    "pb[0], pc[0], cpub[0]"
   ]
  },
  {
   "cell_type": "code",
   "execution_count": 7,
   "id": "6d719d09-661a-40bf-bfa4-a157547a5805",
   "metadata": {
    "scrolled": true
   },
   "outputs": [
    {
     "name": "stderr",
     "output_type": "stream",
     "text": [
      "/home/francisco/MECAD/2º Ano/Estágio/forcera/scripts/scripts_py/flags.py:76: RuntimeWarning: divide by zero encountered in scalar divide\n",
      "  ratio = pbase[i] / pcontr[i]\n",
      "/home/francisco/MECAD/2º Ano/Estágio/forcera/scripts/scripts_py/flags.py:87: RuntimeWarning: divide by zero encountered in divide\n",
      "  flags1 = np.where(pbase/pcontr > r)[0]\n",
      "/home/francisco/MECAD/2º Ano/Estágio/forcera/scripts/scripts_py/functions.py:582: RuntimeWarning: divide by zero encountered in scalar divide\n",
      "  div[i] = pbase[i]/pcont[i]\n"
     ]
    },
    {
     "data": {
      "text/plain": [
       "(('9996663',),\n",
       " ('9995991',),\n",
       " ('9995931',),\n",
       " ('9995605',),\n",
       " ('9997215',),\n",
       " ('9997144',),\n",
       " ('10007956',),\n",
       " ('10005180',),\n",
       " ('10004158',),\n",
       " ('10010576',),\n",
       " ('10010396',),\n",
       " ('10010325',),\n",
       " ('10035600',),\n",
       " ('10035372',),\n",
       " ('10035314',),\n",
       " ('10038045',),\n",
       " ('10044243',),\n",
       " ('10042376',),\n",
       " ('9904058',),\n",
       " ('9910863',),\n",
       " ('9915722',),\n",
       " ('9915245',),\n",
       " ('9915243',),\n",
       " ('9915241',),\n",
       " ('9913706',),\n",
       " ('9913506',),\n",
       " ('9913455',),\n",
       " ('9912692',),\n",
       " ('9912492',),\n",
       " ('9918061',),\n",
       " ('9917662',),\n",
       " ('9920329',),\n",
       " ('9919413',),\n",
       " ('9922151',),\n",
       " ('9923165',),\n",
       " ('9927888',),\n",
       " ('9925726',),\n",
       " ('9928759',),\n",
       " ('9934338',),\n",
       " ('9938937',),\n",
       " ('9937865',),\n",
       " ('9940763',),\n",
       " ('9942812',),\n",
       " ('9948386',),\n",
       " ('9949886',),\n",
       " ('9953348',),\n",
       " ('9952515',),\n",
       " ('9952476',),\n",
       " ('9953627',),\n",
       " ('9830294',),\n",
       " ('9829913',),\n",
       " ('9829868',),\n",
       " ('9837765',),\n",
       " ('9836891',),\n",
       " ('9840073',),\n",
       " ('9840931',),\n",
       " ('10324626',),\n",
       " ('10270922',),\n",
       " ('10271520',),\n",
       " ('10273801',),\n",
       " ('10285558',),\n",
       " ('10274928',),\n",
       " ('10332513',),\n",
       " ('10332117',),\n",
       " ('10331243',),\n",
       " ('10276724',),\n",
       " ('10281825',),\n",
       " ('10281770',),\n",
       " ('10281057',),\n",
       " ('10280297',),\n",
       " ('10279713',),\n",
       " ('10283551',),\n",
       " ('10286753',),\n",
       " ('10285595',),\n",
       " ('10291509',),\n",
       " ('10289573',),\n",
       " ('10292066',),\n",
       " ('10295857',),\n",
       " ('10295795',),\n",
       " ('10295337',),\n",
       " ('10295167',),\n",
       " ('10297408',),\n",
       " ('10297391',),\n",
       " ('10300884',),\n",
       " ('10300291',),\n",
       " ('10307567',),\n",
       " ('10307363',),\n",
       " ('10307301',),\n",
       " ('10309847',),\n",
       " ('10308597',),\n",
       " ('10307803',),\n",
       " ('10312468',),\n",
       " ('10312460',),\n",
       " ('10334216',),\n",
       " ('10335881',),\n",
       " ('10311809',),\n",
       " ('10335504',),\n",
       " ('10311506',),\n",
       " ('10310617',),\n",
       " ('10314211',),\n",
       " ('10313923',),\n",
       " ('10316944',),\n",
       " ('10318582',),\n",
       " ('10321490',),\n",
       " ('10338678',),\n",
       " ('10338639',),\n",
       " ('10222772',),\n",
       " ('10222767',),\n",
       " ('10224088',),\n",
       " ('10223896',),\n",
       " ('10223856',),\n",
       " ('10223362',),\n",
       " ('10223302',),\n",
       " ('10226605',),\n",
       " ('10225395',),\n",
       " ('10230712',),\n",
       " ('10230582',),\n",
       " ('10230288',),\n",
       " ('10228788',),\n",
       " ('10228504',),\n",
       " ('10228484',),\n",
       " ('10233183',),\n",
       " ('10230922',),\n",
       " ('10235677',),\n",
       " ('10236390',),\n",
       " ('10236316',),\n",
       " ('10236262',),\n",
       " ('10238348',),\n",
       " ('10238344',),\n",
       " ('10340573',),\n",
       " ('10241250',),\n",
       " ('10339365',),\n",
       " ('10240047',),\n",
       " ('10248639',),\n",
       " ('10247316',),\n",
       " ('10252068',),\n",
       " ('10250763',),\n",
       " ('10249994',),\n",
       " ('10253521',),\n",
       " ('10256156',),\n",
       " ('10257640',),\n",
       " ('10261946',),\n",
       " ('10261866',),\n",
       " ('10267345',),\n",
       " ('10266732',),\n",
       " ('10265100',),\n",
       " ('10269412',),\n",
       " ('10269082',),\n",
       " ('10268728',),\n",
       " ('10268560',),\n",
       " ('10170852',),\n",
       " ('10170815',),\n",
       " ('10170466',),\n",
       " ('10170369',),\n",
       " ('10170276',),\n",
       " ('10173057',),\n",
       " ('10172485',),\n",
       " ('10178626',),\n",
       " ('10179533',),\n",
       " ('10179132',),\n",
       " ('10184388',),\n",
       " ('10184639',),\n",
       " ('10188301',),\n",
       " ('10188270',),\n",
       " ('10190337',),\n",
       " ('10189294',),\n",
       " ('10343498',),\n",
       " ('10341282',),\n",
       " ('10196017',),\n",
       " ('10194751',),\n",
       " ('10196621',),\n",
       " ('10201547',),\n",
       " ('10201259',),\n",
       " ('10204545',),\n",
       " ('10207089',),\n",
       " ('10218236',),\n",
       " ('10104702',),\n",
       " ('10104331',),\n",
       " ('10103716',),\n",
       " ('10103391',),\n",
       " ('10106141',),\n",
       " ('10105051',),\n",
       " ('10109047',),\n",
       " ('10111070',),\n",
       " ('10113290',),\n",
       " ('10113260',),\n",
       " ('10113116',),\n",
       " ('10112951',),\n",
       " ('10116978',),\n",
       " ('10116728',),\n",
       " ('10119440',),\n",
       " ('10118819',),\n",
       " ('10118177',),\n",
       " ('10141405',),\n",
       " ('10141370',),\n",
       " ('10140732',),\n",
       " ('10143198',),\n",
       " ('10146094',),\n",
       " ('10144951',),\n",
       " ('10147015',),\n",
       " ('10146689',),\n",
       " ('10150418',),\n",
       " ('10151682',),\n",
       " ('10154388',),\n",
       " ('10156112',),\n",
       " ('10155359',),\n",
       " ('10162232',),\n",
       " ('10162178',),\n",
       " ('10162119',),\n",
       " ('10161854',),\n",
       " ('10168812',),\n",
       " ('10168757',),\n",
       " ('10168662',),\n",
       " ('10054158',),\n",
       " ('10052145',),\n",
       " ('10055820',),\n",
       " ('10054962',),\n",
       " ('10059125',),\n",
       " ('10059100',),\n",
       " ('10059039',),\n",
       " ('10058804',),\n",
       " ('10057589',),\n",
       " ('10059653',),\n",
       " ('10063214',),\n",
       " ('10062953',),\n",
       " ('10062907',),\n",
       " ('10063680',),\n",
       " ('10067473',),\n",
       " ('10070320',),\n",
       " ('10071148',),\n",
       " ('10075940',),\n",
       " ('10075162',),\n",
       " ('10079243',),\n",
       " ('10077563',),\n",
       " ('10081892',),\n",
       " ('10081618',),\n",
       " ('10080885',),\n",
       " ('10080707',),\n",
       " ('10089348',),\n",
       " ('10088495',),\n",
       " ('10094308',),\n",
       " ('10094141',),\n",
       " ('10093824',),\n",
       " ('10091751',),\n",
       " ('10097533',),\n",
       " ('10096841',),\n",
       " ('10096080',),\n",
       " ('10095637',),\n",
       " ('10099869',),\n",
       " ('10099668',),\n",
       " ('10099006',),\n",
       " ('10098866',),\n",
       " ('9958661',),\n",
       " ('10101458',),\n",
       " ('10101118',),\n",
       " ('10101046',),\n",
       " ('10101016',),\n",
       " ('10100889',),\n",
       " ('9960977',),\n",
       " ('9960114',),\n",
       " ('9959743',),\n",
       " ('9959212',),\n",
       " ('9961668',),\n",
       " ('9976434',),\n",
       " ('9976012',),\n",
       " ('9975624',),\n",
       " ('9974738',),\n",
       " ('9974557',),\n",
       " ('9974496',),\n",
       " ('9981411',),\n",
       " ('9981617',),\n",
       " ('9984980',),\n",
       " ('9988309',),\n",
       " ('9991194',),\n",
       " ('9990573',),\n",
       " ('9990308',),\n",
       " ('9993999',))"
      ]
     },
     "execution_count": 7,
     "metadata": {},
     "output_type": "execute_result"
    }
   ],
   "source": [
    "# Conjunto de flags disparadas para o conjunto de contratos em causa\n",
    "# Largura de 10% em torno do preço base - 0.1\n",
    "# Rácio máximo aceitável entre preço base e contratual de 10\n",
    "f = redflag(pb, pc, 0.1, cpub, 10,cp)\n",
    "f"
   ]
  },
  {
   "cell_type": "markdown",
   "id": "af8b0d09-3d4c-45db-b926-bc63dd5527c9",
   "metadata": {
    "jp-MarkdownHeadingCollapsed": true
   },
   "source": [
    "## Análise do preço base"
   ]
  },
  {
   "cell_type": "code",
   "execution_count": 16,
   "id": "a3fa4490-a75a-49ef-a626-0439c30f82ae",
   "metadata": {},
   "outputs": [
    {
     "name": "stderr",
     "output_type": "stream",
     "text": [
      "/home/francisco/MECAD/COMP/comp/lib/python3.11/site-packages/seaborn/_oldcore.py:1498: FutureWarning: is_categorical_dtype is deprecated and will be removed in a future version. Use isinstance(dtype, CategoricalDtype) instead\n",
      "  if pd.api.types.is_categorical_dtype(vector):\n",
      "/home/francisco/MECAD/COMP/comp/lib/python3.11/site-packages/seaborn/_oldcore.py:1119: FutureWarning: use_inf_as_na option is deprecated and will be removed in a future version. Convert inf values to NaN before operating instead.\n",
      "  with pd.option_context('mode.use_inf_as_na', True):\n"
     ]
    },
    {
     "data": {
      "text/plain": [
       "[]"
      ]
     },
     "execution_count": 16,
     "metadata": {},
     "output_type": "execute_result"
    },
    {
     "data": {
      "image/png": "[encoded data removed]",
      "text/plain": [
       "<Figure size 640x480 with 1 Axes>"
      ]
     },
     "metadata": {},
     "output_type": "display_data"
    }
   ],
   "source": [
    "sns.histplot(pb)\n",
    "plt.plot()"
   ]
  },
  {
   "cell_type": "markdown",
   "id": "faaff347-7884-47fd-8e21-c439d97747d5",
   "metadata": {
    "jp-MarkdownHeadingCollapsed": true
   },
   "source": [
    "## Análise do preço contratual"
   ]
  },
  {
   "cell_type": "code",
   "execution_count": 17,
   "id": "2d7079a8-c253-4aa3-b672-40aed57d5cfa",
   "metadata": {},
   "outputs": [
    {
     "name": "stderr",
     "output_type": "stream",
     "text": [
      "/home/francisco/MECAD/COMP/comp/lib/python3.11/site-packages/seaborn/_oldcore.py:1498: FutureWarning: is_categorical_dtype is deprecated and will be removed in a future version. Use isinstance(dtype, CategoricalDtype) instead\n",
      "  if pd.api.types.is_categorical_dtype(vector):\n",
      "/home/francisco/MECAD/COMP/comp/lib/python3.11/site-packages/seaborn/_oldcore.py:1119: FutureWarning: use_inf_as_na option is deprecated and will be removed in a future version. Convert inf values to NaN before operating instead.\n",
      "  with pd.option_context('mode.use_inf_as_na', True):\n"
     ]
    },
    {
     "data": {
      "text/plain": [
       "[]"
      ]
     },
     "execution_count": 17,
     "metadata": {},
     "output_type": "execute_result"
    },
    {
     "data": {
      "image/png": "[encoded data removed]",
      "text/plain": [
       "<Figure size 640x480 with 1 Axes>"
      ]
     },
     "metadata": {},
     "output_type": "display_data"
    }
   ],
   "source": [
    "sns.histplot(pc)\n",
    "plt.plot()"
   ]
  },
  {
   "cell_type": "code",
   "execution_count": 18,
   "id": "89b11a9e-a592-4ae1-ade7-48b30a104c04",
   "metadata": {},
   "outputs": [
    {
     "name": "stderr",
     "output_type": "stream",
     "text": [
      "/home/francisco/MECAD/COMP/comp/lib/python3.11/site-packages/seaborn/_oldcore.py:1498: FutureWarning: is_categorical_dtype is deprecated and will be removed in a future version. Use isinstance(dtype, CategoricalDtype) instead\n",
      "  if pd.api.types.is_categorical_dtype(vector):\n",
      "/home/francisco/MECAD/COMP/comp/lib/python3.11/site-packages/seaborn/_oldcore.py:1498: FutureWarning: is_categorical_dtype is deprecated and will be removed in a future version. Use isinstance(dtype, CategoricalDtype) instead\n",
      "  if pd.api.types.is_categorical_dtype(vector):\n",
      "/home/francisco/MECAD/COMP/comp/lib/python3.11/site-packages/seaborn/_oldcore.py:1498: FutureWarning: is_categorical_dtype is deprecated and will be removed in a future version. Use isinstance(dtype, CategoricalDtype) instead\n",
      "  if pd.api.types.is_categorical_dtype(vector):\n",
      "/home/francisco/MECAD/COMP/comp/lib/python3.11/site-packages/seaborn/_oldcore.py:1498: FutureWarning: is_categorical_dtype is deprecated and will be removed in a future version. Use isinstance(dtype, CategoricalDtype) instead\n",
      "  if pd.api.types.is_categorical_dtype(vector):\n",
      "/home/francisco/MECAD/COMP/comp/lib/python3.11/site-packages/seaborn/_oldcore.py:1498: FutureWarning: is_categorical_dtype is deprecated and will be removed in a future version. Use isinstance(dtype, CategoricalDtype) instead\n",
      "  if pd.api.types.is_categorical_dtype(vector):\n",
      "/home/francisco/MECAD/COMP/comp/lib/python3.11/site-packages/seaborn/_oldcore.py:1498: FutureWarning: is_categorical_dtype is deprecated and will be removed in a future version. Use isinstance(dtype, CategoricalDtype) instead\n",
      "  if pd.api.types.is_categorical_dtype(vector):\n"
     ]
    },
    {
     "data": {
      "image/png": "[encoded data removed]",
      "text/plain": [
       "<Figure size 1200x600 with 1 Axes>"
      ]
     },
     "metadata": {},
     "output_type": "display_data"
    }
   ],
   "source": [
    "# Plot do Preço Base vs Preço Contratual para ver diferenças entre ambos para um mesmo contrato\n",
    "df = contratos(cpub).iloc[:,[2,18]]\n",
    "df = df.rename(columns={2: 'PrecoBase', 18:'PrecoContratual'})\n",
    "df = df.astype('float')\n",
    "\n",
    "plt.figure(figsize=(12,6))\n",
    "sns.barplot(x = df.index, y = df.PrecoBase, color = 'skyblue')\n",
    "sns.barplot(x = df.index, y = df.PrecoContratual, color = 'lightgray', fill=0.1)\n",
    "plt.ylabel('Preço Contratual / Base')\n",
    "plt.show()"
   ]
  },
  {
   "cell_type": "code",
   "execution_count": 19,
   "id": "48a4a1f0-eaba-4f78-b597-c04e12bd4526",
   "metadata": {},
   "outputs": [
    {
     "name": "stderr",
     "output_type": "stream",
     "text": [
      "/tmp/ipykernel_7518/84178919.py:1: RuntimeWarning: divide by zero encountered in divide\n",
      "  sns.boxplot(pb/pc)\n"
     ]
    },
    {
     "data": {
      "image/png": "[encoded data removed]",
      "text/plain": [
       "<Figure size 640x480 with 1 Axes>"
      ]
     },
     "metadata": {},
     "output_type": "display_data"
    }
   ],
   "source": [
    "sns.boxplot(pb/pc)\n",
    "plt.show()"
   ]
  },
  {
   "cell_type": "code",
   "execution_count": 20,
   "id": "65dbe22f-2061-4345-b9a1-b68e3706ea17",
   "metadata": {},
   "outputs": [
    {
     "name": "stderr",
     "output_type": "stream",
     "text": [
      "/tmp/ipykernel_7518/3234519312.py:1: RuntimeWarning: divide by zero encountered in divide\n",
      "  sns.histplot(pb/pc)\n",
      "/home/francisco/MECAD/COMP/comp/lib/python3.11/site-packages/seaborn/_oldcore.py:1498: FutureWarning: is_categorical_dtype is deprecated and will be removed in a future version. Use isinstance(dtype, CategoricalDtype) instead\n",
      "  if pd.api.types.is_categorical_dtype(vector):\n",
      "/home/francisco/MECAD/COMP/comp/lib/python3.11/site-packages/seaborn/_oldcore.py:1119: FutureWarning: use_inf_as_na option is deprecated and will be removed in a future version. Convert inf values to NaN before operating instead.\n",
      "  with pd.option_context('mode.use_inf_as_na', True):\n"
     ]
    },
    {
     "data": {
      "image/png": "[encoded data removed]",
      "text/plain": [
       "<Figure size 640x480 with 1 Axes>"
      ]
     },
     "metadata": {},
     "output_type": "display_data"
    }
   ],
   "source": [
    "sns.histplot(pb/pc)\n",
    "plt.show()"
   ]
  },
  {
   "cell_type": "markdown",
   "id": "d78688f2-56bc-48d9-8384-c539a0166b48",
   "metadata": {},
   "source": [
    "# "
   ]
  },
  {
   "cell_type": "code",
   "execution_count": 21,
   "id": "f6bc9f79-3097-4400-9be5-b28fcb915f1b",
   "metadata": {},
   "outputs": [
    {
     "data": {
      "text/plain": [
       "(array([56]),)"
      ]
     },
     "execution_count": 21,
     "metadata": {},
     "output_type": "execute_result"
    }
   ],
   "source": [
    "# Índice com preço contratual nulo\n",
    "np.where(pc == 0)"
   ]
  },
  {
   "cell_type": "code",
   "execution_count": 22,
   "id": "38cd3c42-6179-4a71-8c2c-579a626a88b0",
   "metadata": {
    "scrolled": true
   },
   "outputs": [
    {
     "name": "stderr",
     "output_type": "stream",
     "text": [
      "/tmp/ipykernel_7518/2437271471.py:4: RuntimeWarning: divide by zero encountered in divide\n",
      "  (np.round(pb/pc, 4))\n"
     ]
    },
    {
     "data": {
      "text/plain": [
       "array([ 1.213,  1.137,  0.998,  1.433,  1.023,  1.   ,  1.593,  1.099,\n",
       "        1.   ,  1.068,  1.213,  1.257,  1.   ,  1.139,  1.169,  1.   ,\n",
       "        1.   ,  1.056,  1.003,  1.   ,  1.167,  1.471,  5.629,  1.268,\n",
       "        1.195,  3.248,  5.446,  2.607,  1.089,  3.358,  1.163,  1.111,\n",
       "        1.009,  2.835,  1.112,  1.2  ,  1.16 ,  1.023,  1.179,  1.   ,\n",
       "        1.151,  1.004,  1.05 , 32.779,  1.227,  1.051,  1.001,  1.   ,\n",
       "        1.007,  5.324,  1.   ,  1.794,  1.009,  1.   ,  1.024,  1.482,\n",
       "          inf,  1.311,  1.732,  4.152,  1.   ,  1.   ,  1.117, 13.114,\n",
       "        1.242,  1.084,  1.004,  2.273,  1.736,  1.534,  1.472,  1.   ,\n",
       "        1.   ,  1.221,  1.027,  1.462,  1.016,  1.465,  1.155,  5.214,\n",
       "        1.629,  1.065,  1.622,  1.412,  1.   ,  1.013,  1.027,  1.01 ,\n",
       "       13.813,  1.042,  1.006,  1.027,  1.006,  1.001,  1.   ,  3.603,\n",
       "        5.773,  1.421,  1.   ,  1.108,  6.991,  1.815,  1.   ,  3.023,\n",
       "        1.   ,  1.326,  1.121, 12.347,  1.885,  3.288,  1.   ,  4.39 ,\n",
       "        1.169,  1.219,  1.077,  1.   ,  3.136,  2.625,  3.278,  2.301,\n",
       "        4.613,  5.375,  7.996, 20.904,  4.941,  2.492,  1.002,  2.348,\n",
       "        2.348,  1.274,  1.339, 39.   ,  0.999, 13.165,  1.092,  1.089,\n",
       "        1.   ,  1.   ,  1.333,  1.008,  1.299,  1.002,  4.405,  2.403,\n",
       "        1.006,  1.005,  6.991,  1.848,  1.068,  1.153,  1.042,  1.086,\n",
       "        1.364,  1.115,  1.   ,  1.739,  1.026,  1.366,  1.027,  2.05 ,\n",
       "        1.066,  1.   ,  1.014,  1.   ,  1.356,  1.038,  1.   ,  1.021,\n",
       "       16.998,  2.059,  1.   ,  1.012,  1.006,  1.324,  2.135,  3.323,\n",
       "       25.295,  1.023,  1.   ,  1.001,  1.387,  1.072,  1.   ,  2.986,\n",
       "        5.73 ,  7.779,  2.973,  3.143,  4.688,  1.   ,  1.033,  1.328,\n",
       "        3.755,  1.005,  3.212,  1.007,  1.014,  1.   ,  1.164,  1.   ,\n",
       "        1.267,  1.687,  1.006,  3.732,  1.036,  1.083,  1.209,  1.067,\n",
       "        1.   ,  2.137,  4.673,  9.293,  2.299,  1.067,  1.   ,  1.102,\n",
       "        1.03 ,  1.515,  1.013,  1.478,  1.222,  1.   ,  1.   ,  5.055,\n",
       "        1.011, 40.503,  1.261,  1.004,  1.12 ,  1.   ,  2.053,  2.212,\n",
       "        4.906,  1.   ,  3.044,  2.869,  1.558,  1.055,  1.594,  1.081,\n",
       "        1.   , 37.36 ,  2.   , 28.361, 16.608,  1.   ,  1.002,  1.027,\n",
       "        2.207,  1.033,  1.03 ,  1.082,  1.155,  1.022,  1.372,  1.038,\n",
       "        3.216,  1.84 ,  2.966,  5.375, 13.382,  7.996,  8.593,  3.532,\n",
       "       16.608,  4.613,  1.742,  1.   ,  1.   ,  1.   ,  1.001,  1.196,\n",
       "        1.   ,  2.   ,  3.971,  2.023,  4.291,  1.   ,  1.671,  1.   ,\n",
       "        1.001,  1.566,  1.   ,  1.021,  1.085,  4.24 ,  2.835,  1.541,\n",
       "        1.   ,  1.   ,  1.058,  1.001,  1.   ,  2.041,  1.112,  1.407,\n",
       "        2.445,  1.474,  1.026,  1.   ,  1.   ,  1.412,  1.003,  1.002,\n",
       "        1.04 ,  1.193,  1.04 ,  1.25 ,  1.001,  1.429,  1.252,  1.   ,\n",
       "        1.   ,  1.002,  1.283,  1.154,  1.816,  1.   ,  1.387,  3.587,\n",
       "        2.542,  8.62 ,  2.713,  1.001,  1.066,  1.816,  1.   ,  1.843,\n",
       "        1.007,  1.01 ,  1.016,  1.   ,  2.085,  1.931, 11.177,  1.262,\n",
       "        3.242,  6.05 ,  1.385,  1.108,  1.064,  1.019,  1.049,  2.   ,\n",
       "        3.026,  2.637,  2.162,  4.181,  4.707,  2.808,  1.174,  1.188,\n",
       "        1.285,  1.004,  1.223,  1.307,  2.098,  1.4  ,  1.681,  1.229,\n",
       "        1.4  ,  1.25 ,  1.   ,  1.125,  1.   ,  1.002,  2.015,  1.491,\n",
       "        1.363,  1.006,  1.378,  1.152,  1.061,  1.146,  2.679,  1.391,\n",
       "        1.053,  1.254,  1.022,  1.004,  3.768,  1.13 ,  1.003,  1.32 ,\n",
       "        1.27 ,  1.04 ,  1.286, 11.602,  2.348,  1.   ,  1.444, 28.188,\n",
       "        1.035,  1.   ,  4.397,  1.085,  1.006,  1.323,  1.001,  1.465,\n",
       "        1.046,  1.   ,  7.157,  1.   ,  1.298,  1.002,  1.   ,  1.009,\n",
       "        2.041,  1.   ,  1.083,  1.333,  1.053,  1.   ,  1.   ,  2.087,\n",
       "        2.668,  1.601,  1.146,  1.115,  2.118,  1.032,  1.029,  2.569,\n",
       "        4.372,  1.703,  2.368,  1.77 ,  4.19 ,  1.053,  1.   ,  1.   ,\n",
       "        1.   ,  1.437,  1.77 ,  3.729,  3.768,  3.729,  2.989,  4.657,\n",
       "        4.804,  5.492,  7.143,  3.571,  5.699,  1.118,  1.   ,  1.   ,\n",
       "        1.01 ,  4.518,  1.952,  1.016,  1.053,  2.152,  1.   ,  1.047,\n",
       "        1.673, 11.35 ,  1.   ,  1.048,  1.305,  1.032, 14.232,  2.638,\n",
       "        1.306,  1.062,  1.786,  1.   ,  1.076,  1.232,  1.822,  1.004,\n",
       "        1.024, 10.789,  3.505,  1.987,  1.404,  1.   ,  1.   ,  2.132,\n",
       "       21.128,  8.028, 14.107, 11.323, 14.818,  5.521, 23.632,  1.028,\n",
       "        1.768,  2.002,  1.   ,  1.111,  1.349,  1.875,  1.   ,  1.   ,\n",
       "        1.107,  1.228,  1.   ,  2.137,  1.669,  1.006,  1.   ,  1.015,\n",
       "        1.   ,  7.   ,  3.286,  4.763,  2.664,  2.426,  2.215,  2.993,\n",
       "        2.644,  1.   ,  1.189,  1.008,  1.302,  1.022,  1.   ,  1.   ,\n",
       "        2.122,  1.001,  1.012,  1.234,  1.   ])"
      ]
     },
     "execution_count": 22,
     "metadata": {},
     "output_type": "execute_result"
    }
   ],
   "source": [
    "np.set_printoptions(precision=3)\n",
    "np.set_printoptions(suppress=True)\n",
    "\n",
    "(np.round(pb/pc, 4))"
   ]
  },
  {
   "cell_type": "markdown",
   "id": "47f46c7d-3dd8-4dfe-8189-216462d4a2cd",
   "metadata": {},
   "source": [
    "***\n",
    "\n",
    "<br>\n",
    "\n",
    "<br>\n",
    "\n",
    "Verificar a situação em que o preco base é muito maior do que o preço contratual\n",
    "\n",
    "1. pegar no maior valor do rácio pb/pc\n",
    "2. verificar pb e pc e verificar rácio\n",
    "4. obter id e verificar que bate certo usando o função contrato()\n",
    "5. obter o número de anúncio\n",
    "6. calcular o número de ocorrências do anúncio\n",
    "7. obter id's para o mesmo número de anúncio\n",
    "8. somar precos contratuais\n",
    "9. comparar novamente com o preço base\n",
    "\n",
    "\n",
    "**1.**"
   ]
  },
  {
   "cell_type": "code",
   "execution_count": 12,
   "id": "2b3e9776-28db-4fda-8b53-d4a17df7be1d",
   "metadata": {
    "scrolled": true
   },
   "outputs": [
    {
     "name": "stdout",
     "output_type": "stream",
     "text": [
      "(array([ 22,  26,  43,  49,  56,  63,  79,  88,  96, 100, 107, 121, 122,\n",
      "       123, 131, 133, 146, 168, 176, 184, 185, 211, 223, 225, 241, 243,\n",
      "       244, 259, 260, 261, 262, 264, 321, 334, 337, 387, 391, 402, 441,\n",
      "       442, 444, 457, 462, 473, 480, 481, 482, 483, 484, 485, 486, 505,\n",
      "       526, 527, 528, 538, 556]),) \n",
      "\n",
      " [ 5.62857143  5.44560487 32.77861826  5.32345324         inf 13.113612\n",
      "  5.21416667 13.81261621  5.77337355  6.99106145 12.34693878  5.37510373\n",
      "  7.9962963  20.90415648 39.         13.16450283  6.99106145 16.99761431\n",
      " 25.29526627  5.73025754  7.77891492  9.29339942  5.05540753 40.50319712\n",
      " 37.3603176  28.36080034 16.60769231  5.37510373 13.3822314   7.9962963\n",
      "  8.59323596 16.60769231  8.61981982 11.17657423  6.04988514 11.60215953\n",
      " 28.18757747  7.15674722  5.49249359  7.14285714  5.69908815 11.34965992\n",
      " 14.23251799 10.7886068  21.12748845  8.02794226 14.10734763 11.32270847\n",
      " 14.81830975  5.52102941 23.63159126  7.         25.68512721 10.20322963\n",
      "  5.64238707  6.40492687 37.41077888]\n",
      "\n",
      "\n",
      "\n",
      " Índice do maior rácio : [ 43  56 131 225 241 556]\n"
     ]
    },
    {
     "name": "stderr",
     "output_type": "stream",
     "text": [
      "/tmp/ipykernel_12575/2939907773.py:2: RuntimeWarning: divide by zero encountered in divide\n",
      "  rat = pb/pc\n"
     ]
    }
   ],
   "source": [
    "# Índice do contrato com maior rácio \n",
    "rat = pb/pc\n",
    "rat5 = np.where(rat > 5)[0]\n",
    "\n",
    "print(np.where(rat > 5), '\\n\\n', rat[np.where(rat > 5)])\n",
    "\n",
    "print('\\n\\n\\n Índice do maior rácio :', np.where(rat > 30)[0])"
   ]
  },
  {
   "cell_type": "markdown",
   "id": "d66e3e5e-3ae5-4fac-9c6d-933a6b6afc21",
   "metadata": {},
   "source": [
    "**2.**"
   ]
  },
  {
   "cell_type": "code",
   "execution_count": 13,
   "id": "8bdff43c-ae80-48dc-98a8-0fccb6d056b9",
   "metadata": {},
   "outputs": [
    {
     "data": {
      "text/plain": [
       "(138172.32, 3542.88, 39.0)"
      ]
     },
     "execution_count": 13,
     "metadata": {},
     "output_type": "execute_result"
    }
   ],
   "source": [
    "i = 131\n",
    "pb[i],pc[i], pb[i]/pc[i]"
   ]
  },
  {
   "cell_type": "markdown",
   "id": "08c8b928-b092-4144-b5c5-8ae03ff136ae",
   "metadata": {},
   "source": [
    "**3.**"
   ]
  },
  {
   "cell_type": "code",
   "execution_count": 14,
   "id": "594c3df5-bf85-4fda-b904-93c5d9fefbea",
   "metadata": {},
   "outputs": [
    {
     "data": {
      "text/html": [
       "<div>\n",
       "<style scoped>\n",
       "    .dataframe tbody tr th:only-of-type {\n",
       "        vertical-align: middle;\n",
       "    }\n",
       "\n",
       "    .dataframe tbody tr th {\n",
       "        vertical-align: top;\n",
       "    }\n",
       "\n",
       "    .dataframe thead th {\n",
       "        text-align: right;\n",
       "    }\n",
       "</style>\n",
       "<table border=\"1\" class=\"dataframe\">\n",
       "  <thead>\n",
       "    <tr style=\"text-align: right;\">\n",
       "      <th></th>\n",
       "      <th>0</th>\n",
       "      <th>1</th>\n",
       "      <th>2</th>\n",
       "      <th>3</th>\n",
       "      <th>4</th>\n",
       "      <th>5</th>\n",
       "      <th>6</th>\n",
       "      <th>7</th>\n",
       "      <th>8</th>\n",
       "      <th>9</th>\n",
       "      <th>...</th>\n",
       "      <th>51</th>\n",
       "      <th>52</th>\n",
       "      <th>53</th>\n",
       "      <th>54</th>\n",
       "      <th>55</th>\n",
       "      <th>56</th>\n",
       "      <th>57</th>\n",
       "      <th>58</th>\n",
       "      <th>59</th>\n",
       "      <th>60</th>\n",
       "    </tr>\n",
       "  </thead>\n",
       "  <tbody>\n",
       "    <tr>\n",
       "      <th>0</th>\n",
       "      <td>10230922</td>\n",
       "      <td>11771/2023</td>\n",
       "      <td>138172.32</td>\n",
       "      <td>15</td>\n",
       "      <td>False</td>\n",
       "      <td>6612945</td>\n",
       "      <td>13246654</td>\n",
       "      <td>2023-07-13</td>\n",
       "      <td>135</td>\n",
       "      <td>2</td>\n",
       "      <td>...</td>\n",
       "      <td>None</td>\n",
       "      <td>None</td>\n",
       "      <td>False</td>\n",
       "      <td>None</td>\n",
       "      <td>True</td>\n",
       "      <td>None</td>\n",
       "      <td>Código dos Contratos Públicos (DL111-B/2017) e...</td>\n",
       "      <td>None</td>\n",
       "      <td>None</td>\n",
       "      <td>1700010896</td>\n",
       "    </tr>\n",
       "  </tbody>\n",
       "</table>\n",
       "<p>1 rows × 61 columns</p>\n",
       "</div>"
      ],
      "text/plain": [
       "         0           1          2   3      4        5         6           7   \\\n",
       "0  10230922  11771/2023  138172.32  15  False  6612945  13246654  2023-07-13   \n",
       "\n",
       "    8  9   ...    51    52     53    54    55    56  \\\n",
       "0  135  2  ...  None  None  False  None  True  None   \n",
       "\n",
       "                                                  57    58    59          60  \n",
       "0  Código dos Contratos Públicos (DL111-B/2017) e...  None  None  1700010896  \n",
       "\n",
       "[1 rows x 61 columns]"
      ]
     },
     "execution_count": 14,
     "metadata": {},
     "output_type": "execute_result"
    }
   ],
   "source": [
    "j = (cpub[i])[0]\n",
    "\n",
    "Cc = contrato(j)\n",
    "Cc"
   ]
  },
  {
   "cell_type": "markdown",
   "id": "1c8bf2be-cfc5-435f-819c-2ff2e9817110",
   "metadata": {},
   "source": [
    "**4**"
   ]
  },
  {
   "cell_type": "code",
   "execution_count": 15,
   "id": "7aa25f91-61da-4b60-83e3-9982bb29cacc",
   "metadata": {},
   "outputs": [
    {
     "data": {
      "text/plain": [
       "'11771/2023'"
      ]
     },
     "execution_count": 15,
     "metadata": {},
     "output_type": "execute_result"
    }
   ],
   "source": [
    "n_anuncio = Cc.iloc[:,1][0]\n",
    "n_anuncio"
   ]
  },
  {
   "cell_type": "markdown",
   "id": "ea32b732-f828-43e7-b58a-fd07ca3a7222",
   "metadata": {},
   "source": [
    "**5.**"
   ]
  },
  {
   "cell_type": "code",
   "execution_count": 16,
   "id": "0f7fbfa9-4748-44a5-9821-d18bc62d8a8a",
   "metadata": {},
   "outputs": [
    {
     "data": {
      "text/plain": [
       "(array([131, 156]),)"
      ]
     },
     "execution_count": 16,
     "metadata": {},
     "output_type": "execute_result"
    }
   ],
   "source": [
    "np.where(cp.NrAnuncio == n_anuncio) "
   ]
  },
  {
   "cell_type": "code",
   "execution_count": 18,
   "id": "b1fa5d25-7d55-420f-8eab-ef5266b92443",
   "metadata": {},
   "outputs": [
    {
     "data": {
      "text/html": [
       "<div>\n",
       "<style scoped>\n",
       "    .dataframe tbody tr th:only-of-type {\n",
       "        vertical-align: middle;\n",
       "    }\n",
       "\n",
       "    .dataframe tbody tr th {\n",
       "        vertical-align: top;\n",
       "    }\n",
       "\n",
       "    .dataframe thead th {\n",
       "        text-align: right;\n",
       "    }\n",
       "</style>\n",
       "<table border=\"1\" class=\"dataframe\">\n",
       "  <thead>\n",
       "    <tr style=\"text-align: right;\">\n",
       "      <th></th>\n",
       "      <th>0</th>\n",
       "      <th>1</th>\n",
       "      <th>2</th>\n",
       "      <th>3</th>\n",
       "      <th>4</th>\n",
       "      <th>5</th>\n",
       "      <th>6</th>\n",
       "      <th>7</th>\n",
       "      <th>8</th>\n",
       "      <th>9</th>\n",
       "      <th>...</th>\n",
       "      <th>51</th>\n",
       "      <th>52</th>\n",
       "      <th>53</th>\n",
       "      <th>54</th>\n",
       "      <th>55</th>\n",
       "      <th>56</th>\n",
       "      <th>57</th>\n",
       "      <th>58</th>\n",
       "      <th>59</th>\n",
       "      <th>60</th>\n",
       "    </tr>\n",
       "  </thead>\n",
       "  <tbody>\n",
       "    <tr>\n",
       "      <th>0</th>\n",
       "      <td>10230922</td>\n",
       "      <td>11771/2023</td>\n",
       "      <td>138172.32</td>\n",
       "      <td>15</td>\n",
       "      <td>False</td>\n",
       "      <td>6612945</td>\n",
       "      <td>13246654</td>\n",
       "      <td>2023-07-13</td>\n",
       "      <td>135</td>\n",
       "      <td>2</td>\n",
       "      <td>...</td>\n",
       "      <td>None</td>\n",
       "      <td>None</td>\n",
       "      <td>False</td>\n",
       "      <td>None</td>\n",
       "      <td>True</td>\n",
       "      <td>None</td>\n",
       "      <td>Código dos Contratos Públicos (DL111-B/2017) e...</td>\n",
       "      <td>None</td>\n",
       "      <td>None</td>\n",
       "      <td>1700010896</td>\n",
       "    </tr>\n",
       "  </tbody>\n",
       "</table>\n",
       "<p>1 rows × 61 columns</p>\n",
       "</div>"
      ],
      "text/plain": [
       "         0           1          2   3      4        5         6           7   \\\n",
       "0  10230922  11771/2023  138172.32  15  False  6612945  13246654  2023-07-13   \n",
       "\n",
       "    8  9   ...    51    52     53    54    55    56  \\\n",
       "0  135  2  ...  None  None  False  None  True  None   \n",
       "\n",
       "                                                  57    58    59          60  \n",
       "0  Código dos Contratos Públicos (DL111-B/2017) e...  None  None  1700010896  \n",
       "\n",
       "[1 rows x 61 columns]"
      ]
     },
     "execution_count": 18,
     "metadata": {},
     "output_type": "execute_result"
    }
   ],
   "source": [
    "contrato(cpub[131])"
   ]
  },
  {
   "cell_type": "code",
   "execution_count": 20,
   "id": "2fe47320-7c1f-4b6c-9ed1-46722299475d",
   "metadata": {},
   "outputs": [
    {
     "data": {
      "text/html": [
       "<div>\n",
       "<style scoped>\n",
       "    .dataframe tbody tr th:only-of-type {\n",
       "        vertical-align: middle;\n",
       "    }\n",
       "\n",
       "    .dataframe tbody tr th {\n",
       "        vertical-align: top;\n",
       "    }\n",
       "\n",
       "    .dataframe thead th {\n",
       "        text-align: right;\n",
       "    }\n",
       "</style>\n",
       "<table border=\"1\" class=\"dataframe\">\n",
       "  <thead>\n",
       "    <tr style=\"text-align: right;\">\n",
       "      <th></th>\n",
       "      <th>0</th>\n",
       "      <th>1</th>\n",
       "      <th>2</th>\n",
       "      <th>3</th>\n",
       "      <th>4</th>\n",
       "      <th>5</th>\n",
       "      <th>6</th>\n",
       "      <th>7</th>\n",
       "      <th>8</th>\n",
       "      <th>9</th>\n",
       "      <th>...</th>\n",
       "      <th>51</th>\n",
       "      <th>52</th>\n",
       "      <th>53</th>\n",
       "      <th>54</th>\n",
       "      <th>55</th>\n",
       "      <th>56</th>\n",
       "      <th>57</th>\n",
       "      <th>58</th>\n",
       "      <th>59</th>\n",
       "      <th>60</th>\n",
       "    </tr>\n",
       "  </thead>\n",
       "  <tbody>\n",
       "    <tr>\n",
       "      <th>0</th>\n",
       "      <td>10252068</td>\n",
       "      <td>11771/2023</td>\n",
       "      <td>138172.32</td>\n",
       "      <td>15</td>\n",
       "      <td>False</td>\n",
       "      <td>6612945</td>\n",
       "      <td>13246654</td>\n",
       "      <td>2023-07-13</td>\n",
       "      <td>135</td>\n",
       "      <td>2</td>\n",
       "      <td>...</td>\n",
       "      <td>None</td>\n",
       "      <td>None</td>\n",
       "      <td>False</td>\n",
       "      <td>None</td>\n",
       "      <td>True</td>\n",
       "      <td>None</td>\n",
       "      <td>Código dos Contratos Públicos (DL111-B/2017) e...</td>\n",
       "      <td>None</td>\n",
       "      <td>None</td>\n",
       "      <td>1700039280</td>\n",
       "    </tr>\n",
       "  </tbody>\n",
       "</table>\n",
       "<p>1 rows × 61 columns</p>\n",
       "</div>"
      ],
      "text/plain": [
       "         0           1          2   3      4        5         6           7   \\\n",
       "0  10252068  11771/2023  138172.32  15  False  6612945  13246654  2023-07-13   \n",
       "\n",
       "    8  9   ...    51    52     53    54    55    56  \\\n",
       "0  135  2  ...  None  None  False  None  True  None   \n",
       "\n",
       "                                                  57    58    59          60  \n",
       "0  Código dos Contratos Públicos (DL111-B/2017) e...  None  None  1700039280  \n",
       "\n",
       "[1 rows x 61 columns]"
      ]
     },
     "execution_count": 20,
     "metadata": {},
     "output_type": "execute_result"
    }
   ],
   "source": [
    "contrato(cpub[156])"
   ]
  }
 ],
 "metadata": {
  "kernelspec": {
   "display_name": "Python 3 (ipykernel)",
   "language": "python",
   "name": "python3"
  },
  "language_info": {
   "codemirror_mode": {
    "name": "ipython",
    "version": 3
   },
   "file_extension": ".py",
   "mimetype": "text/x-python",
   "name": "python",
   "nbconvert_exporter": "python",
   "pygments_lexer": "ipython3",
   "version": "3.11.5"
  }
 },
 "nbformat": 4,
 "nbformat_minor": 5
}
