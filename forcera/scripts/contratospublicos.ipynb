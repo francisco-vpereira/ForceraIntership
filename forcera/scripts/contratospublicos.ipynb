{
 "cells": [
  {
   "cell_type": "code",
   "execution_count": 1,
   "id": "2a6302d4-cfbf-45e5-8545-5177f5529085",
   "metadata": {},
   "outputs": [],
   "source": [
    "import os\n",
    "os.chdir('/home/francisco/MECAD/2º Ano/Estágio/forcera/scripts/scripts_py')\n",
    "\n",
    "from functions import *\n",
    "from flags import * \n",
    "\n",
    "import psycopg2\n",
    "from psycopg2 import OperationalError\n",
    "import pandas as pd\n",
    "import numpy as np\n",
    "import matplotlib.pylab as plt\n",
    "import seaborn as sns\n",
    "from IPython.display import HTML\n",
    "import webbrowser"
   ]
  },
  {
   "cell_type": "code",
   "execution_count": 2,
   "id": "0aba7020-01de-429a-872f-3d8d32413d07",
   "metadata": {},
   "outputs": [],
   "source": [
    "conn = psycopg2.connect(\n",
    "    host = \"contratos-base-gov1.cf87yxnqgph8.eu-central-1.rds.amazonaws.com\",\n",
    "    port = 5432,\n",
    "    #database = \"contratosbasegov\",\n",
    "    user = \"contratosbasegov\",\n",
    "    password = \"8n9nyeTBFUyCcLJShNrZdPUai2KQkue4\")\n",
    "\n",
    "cur = conn.cursor()"
   ]
  },
  {
   "cell_type": "code",
   "execution_count": 3,
   "id": "1e6ccbde-5906-45b4-9d78-8c22cbcad146",
   "metadata": {},
   "outputs": [],
   "source": [
    "cur.execute('''ROLLBACK;''')"
   ]
  },
  {
   "cell_type": "code",
   "execution_count": 4,
   "id": "5844d3e3-e811-4578-8811-91454e444063",
   "metadata": {},
   "outputs": [],
   "source": [
    "def contratos(ide):\n",
    "    '''\n",
    "    Função que retorna contratos referentes a um conjunto de ids\n",
    "\n",
    "    Parâmetros :\n",
    "        ide : tuplo de id's de anúncios\n",
    "\n",
    "    return:\n",
    "        dataframe com contratos\n",
    "    '''\n",
    "        \n",
    "    cur = conn.cursor()\n",
    "    cur.execute('''\n",
    "        SELECT *\n",
    "        FROM \"contratos\"\n",
    "        WHERE id IN %s; ''', (tuple(ide),))\n",
    "    return pd.DataFrame(cur.fetchall())"
   ]
  },
  {
   "cell_type": "code",
   "execution_count": 5,
   "id": "bac97fd8-5948-47cb-995e-1f6882355417",
   "metadata": {
    "scrolled": true
   },
   "outputs": [],
   "source": [
    "# Filtrar contratos : concursos públicos com CPV's começados por 72\n",
    "cpub = sorted(cpv('72', 'Concurso público'))"
   ]
  },
  {
   "cell_type": "code",
   "execution_count": 6,
   "id": "0fd21058-a405-4d2a-a01d-9cf834ae06a8",
   "metadata": {},
   "outputs": [],
   "source": [
    "cp = contratos(cpub)"
   ]
  },
  {
   "cell_type": "code",
   "execution_count": 7,
   "id": "12d98ba6-9652-4b70-8c1d-2f39d7909100",
   "metadata": {},
   "outputs": [
    {
     "data": {
      "text/html": [
       "<table border=\"1\" class=\"dataframe\">\n",
       "  <thead>\n",
       "    <tr style=\"text-align: right;\">\n",
       "      <th>ID</th>\n",
       "      <th>NrAnuncio</th>\n",
       "      <th>PrecoBase</th>\n",
       "      <th>3</th>\n",
       "      <th>4</th>\n",
       "      <th>5</th>\n",
       "      <th>6</th>\n",
       "      <th>7</th>\n",
       "      <th>8</th>\n",
       "      <th>9</th>\n",
       "      <th>10</th>\n",
       "      <th>11</th>\n",
       "      <th>12</th>\n",
       "      <th>13</th>\n",
       "      <th>14</th>\n",
       "      <th>15</th>\n",
       "      <th>16</th>\n",
       "      <th>17</th>\n",
       "      <th>PrecoContratual</th>\n",
       "      <th>19</th>\n",
       "      <th>20</th>\n",
       "      <th>21</th>\n",
       "      <th>22</th>\n",
       "      <th>23</th>\n",
       "      <th>24</th>\n",
       "      <th>25</th>\n",
       "      <th>26</th>\n",
       "      <th>27</th>\n",
       "      <th>28</th>\n",
       "      <th>29</th>\n",
       "      <th>30</th>\n",
       "      <th>31</th>\n",
       "      <th>32</th>\n",
       "      <th>33</th>\n",
       "      <th>34</th>\n",
       "      <th>35</th>\n",
       "      <th>36</th>\n",
       "      <th>37</th>\n",
       "      <th>38</th>\n",
       "      <th>39</th>\n",
       "      <th>40</th>\n",
       "      <th>41</th>\n",
       "      <th>42</th>\n",
       "      <th>43</th>\n",
       "      <th>44</th>\n",
       "      <th>45</th>\n",
       "      <th>46</th>\n",
       "      <th>47</th>\n",
       "      <th>48</th>\n",
       "      <th>49</th>\n",
       "      <th>50</th>\n",
       "      <th>51</th>\n",
       "      <th>52</th>\n",
       "      <th>53</th>\n",
       "      <th>54</th>\n",
       "      <th>55</th>\n",
       "      <th>56</th>\n",
       "      <th>57</th>\n",
       "      <th>58</th>\n",
       "      <th>59</th>\n",
       "      <th>60</th>\n",
       "    </tr>\n",
       "  </thead>\n",
       "  <tbody>\n",
       "    <tr>\n",
       "      <td>10052145</td>\n",
       "      <td>2926/2023</td>\n",
       "      <td>114735.85</td>\n",
       "      <td>6</td>\n",
       "      <td>False</td>\n",
       "      <td>6365075</td>\n",
       "      <td>12741885</td>\n",
       "      <td>2023-02-28</td>\n",
       "      <td>42</td>\n",
       "      <td>2</td>\n",
       "      <td>False</td>\n",
       "      <td>False</td>\n",
       "      <td>https://dre.pt/application/file/207943081</td>\n",
       "      <td>Anúncio de procedimento</td>\n",
       "      <td>Concurso público</td>\n",
       "      <td>Concurso Público - Prestação De Serviços - Licenciamento Microsoft</td>\n",
       "      <td>2023-06-01</td>\n",
       "      <td>2023-05-31</td>\n",
       "      <td>107819.58</td>\n",
       "      <td>366</td>\n",
       "      <td>Município de Lagoa (506804240)(https://www.base.gov.pt/Base4/pt/detalhe/?type=entidades&amp;id=1693)</td>\n",
       "      <td>Artigo 20.º, n.º 1, alínea b) do Código dos Contratos Públicos</td>\n",
       "      <td>INETUM ESPAÑA  SA (980079659)(https://www.base.gov.pt/Base4/pt/detalhe/?type=entidades&amp;id=1629)</td>\n",
       "      <td>None</td>\n",
       "      <td>https://www.base.gov.pt/Base4/pt/detalhe/?type=anuncios&amp;id=341151</td>\n",
       "      <td>https://community.vortal.biz/PRODPublic/Tendering/OpportunityDetail/Index?noticeUID=PT1.NTC.2285441</td>\n",
       "      <td>https://www.base.gov.pt/Base4/pt/resultados/?type=doc_documentos&amp;id=2008842&amp;ext=.pdf</td>\n",
       "      <td>false</td>\n",
       "      <td>72500000-0</td>\n",
       "      <td>False</td>\n",
       "      <td>None</td>\n",
       "      <td>None</td>\n",
       "      <td>False</td>\n",
       "      <td>False</td>\n",
       "      <td>None</td>\n",
       "      <td>False</td>\n",
       "      <td>None</td>\n",
       "      <td>False</td>\n",
       "      <td>Aquisição de serviços</td>\n",
       "      <td>Serviços relacionados com a informática</td>\n",
       "      <td>Principal</td>\n",
       "      <td>107819.58</td>\n",
       "      <td>Concurso Público - Prestação De Serviços - Licenciamento Microsoft</td>\n",
       "      <td>Não aplicável</td>\n",
       "      <td>None</td>\n",
       "      <td>Portugal, Faro, Lagoa</td>\n",
       "      <td>Não aplicável.</td>\n",
       "      <td>Não aplicável.</td>\n",
       "      <td>None</td>\n",
       "      <td>False</td>\n",
       "      <td>False</td>\n",
       "      <td>None</td>\n",
       "      <td>None</td>\n",
       "      <td>False</td>\n",
       "      <td>None</td>\n",
       "      <td>True</td>\n",
       "      <td>None</td>\n",
       "      <td>Código dos Contratos Públicos (DL111-B/2017) e Lei n.º 30/2021, de 21.05</td>\n",
       "      <td>None</td>\n",
       "      <td>None</td>\n",
       "      <td>1700240926</td>\n",
       "    </tr>\n",
       "    <tr>\n",
       "      <td>10054158</td>\n",
       "      <td>3047/2023</td>\n",
       "      <td>689280.00</td>\n",
       "      <td>30</td>\n",
       "      <td>False</td>\n",
       "      <td>6368398</td>\n",
       "      <td>12749634</td>\n",
       "      <td>2023-03-01</td>\n",
       "      <td>43</td>\n",
       "      <td>2</td>\n",
       "      <td>False</td>\n",
       "      <td>False</td>\n",
       "      <td>https://dre.pt/application/file/208006516</td>\n",
       "      <td>Anúncio de procedimento</td>\n",
       "      <td>Concurso público</td>\n",
       "      <td>Aquisição de serviços de Gestão e Administração Soluções Tecnologia Microsoft para anos 2023 a 2025.</td>\n",
       "      <td>2023-06-01</td>\n",
       "      <td>2023-06-01</td>\n",
       "      <td>622075.20</td>\n",
       "      <td>976</td>\n",
       "      <td>Instituto de Informática, I. P. (504322915)(https://www.base.gov.pt/Base4/pt/detalhe/?type=entidades&amp;id=1957)</td>\n",
       "      <td>Artigo 20.º, n.º 1, alínea a) do Código dos Contratos Públicos</td>\n",
       "      <td>IGNIT PEOPLE , S.A. (515777048)(https://www.base.gov.pt/Base4/pt/detalhe/?type=entidades&amp;id=3696569)</td>\n",
       "      <td>Real Life Technologies (508535166)</td>\n",
       "      <td>https://www.base.gov.pt/Base4/pt/detalhe/?type=anuncios&amp;id=341299</td>\n",
       "      <td>https://www.acingov.pt/acingovprod/2/zonaPublica/zona_publica_c/donwloadProcedurePiece/NjE1Nzg5</td>\n",
       "      <td>https://www.base.gov.pt/Base4/pt/resultados/?type=doc_documentos&amp;id=2009382&amp;ext=.pdf</td>\n",
       "      <td>false</td>\n",
       "      <td>72590000-7</td>\n",
       "      <td>False</td>\n",
       "      <td>None</td>\n",
       "      <td>None</td>\n",
       "      <td>False</td>\n",
       "      <td>False</td>\n",
       "      <td>None</td>\n",
       "      <td>False</td>\n",
       "      <td>None</td>\n",
       "      <td>False</td>\n",
       "      <td>Aquisição de serviços</td>\n",
       "      <td>Serviços de informática prestados por profissionais</td>\n",
       "      <td>Principal</td>\n",
       "      <td>622075.2</td>\n",
       "      <td>Aquisição de serviços de Gestão e Administração Soluções Tecnologia Microsoft para anos 2023 a 2025.</td>\n",
       "      <td>Não aplicável</td>\n",
       "      <td>None</td>\n",
       "      <td>Portugal, Lisboa, Oeiras</td>\n",
       "      <td>Não aplicável.</td>\n",
       "      <td>Não aplicável.</td>\n",
       "      <td>None</td>\n",
       "      <td>False</td>\n",
       "      <td>False</td>\n",
       "      <td>None</td>\n",
       "      <td>None</td>\n",
       "      <td>False</td>\n",
       "      <td>None</td>\n",
       "      <td>True</td>\n",
       "      <td>None</td>\n",
       "      <td>Código dos Contratos Públicos (DL111-B/2017) e Lei n.º 30/2021, de 21.05</td>\n",
       "      <td>None</td>\n",
       "      <td>None</td>\n",
       "      <td>1700237848</td>\n",
       "    </tr>\n",
       "  </tbody>\n",
       "</table>"
      ],
      "text/plain": [
       "<IPython.core.display.HTML object>"
      ]
     },
     "execution_count": 7,
     "metadata": {},
     "output_type": "execute_result"
    }
   ],
   "source": [
    "cp = cp.rename(columns={0:'ID', 1:'NrAnuncio', 2:'PrecoBase', 18:'PrecoContratual'})\n",
    "h(cp.head(2))"
   ]
  },
  {
   "cell_type": "code",
   "execution_count": 8,
   "id": "179a10b8-0aed-4601-a20b-d21885fa1551",
   "metadata": {},
   "outputs": [
    {
     "data": {
      "text/plain": [
       "(689280.0, 622075.2, ('10054158',))"
      ]
     },
     "execution_count": 8,
     "metadata": {},
     "output_type": "execute_result"
    }
   ],
   "source": [
    "# Preço Base e Preço Contratual de todos os contratos públicos realizados para CPV's começados por 72\n",
    "pb = preco_base3(cpub)\n",
    "pc = preco_contrato3(cpub)\n",
    "\n",
    "# O preço base e o preço contratual estão a ser obtidos de forma correta da base de dados\n",
    "# O problema é que o ID não corresponde ao contrato. Quando dou os ids como input à função contratos - sendo que estes ids são provenientes da função cpv() - ele ordena os contratos por ordem crescente de ID \n",
    "# Já funciona : foi necessário colocar os ids provenientes de cpv() por ordem crescente\n",
    "\n",
    "pb[1], pc[1], cpub[1]"
   ]
  },
  {
   "cell_type": "code",
   "execution_count": 9,
   "id": "6d719d09-661a-40bf-bfa4-a157547a5805",
   "metadata": {
    "scrolled": true
   },
   "outputs": [
    {
     "name": "stderr",
     "output_type": "stream",
     "text": [
      "/home/francisco/MECAD/2º Ano/Estágio/forcera/scripts/scripts_py/flags.py:75: RuntimeWarning: divide by zero encountered in scalar divide\n",
      "  ratio = pbase[i] / pcontr[i]\n"
     ]
    }
   ],
   "source": [
    "f = redflag(pb, pc, 0.1, cpub, 20)"
   ]
  },
  {
   "cell_type": "code",
   "execution_count": 11,
   "id": "89b11a9e-a592-4ae1-ade7-48b30a104c04",
   "metadata": {},
   "outputs": [
    {
     "name": "stderr",
     "output_type": "stream",
     "text": [
      "/home/francisco/MECAD/COMP/comp/lib/python3.11/site-packages/seaborn/_oldcore.py:1498: FutureWarning: is_categorical_dtype is deprecated and will be removed in a future version. Use isinstance(dtype, CategoricalDtype) instead\n",
      "  if pd.api.types.is_categorical_dtype(vector):\n",
      "/home/francisco/MECAD/COMP/comp/lib/python3.11/site-packages/seaborn/_oldcore.py:1498: FutureWarning: is_categorical_dtype is deprecated and will be removed in a future version. Use isinstance(dtype, CategoricalDtype) instead\n",
      "  if pd.api.types.is_categorical_dtype(vector):\n",
      "/home/francisco/MECAD/COMP/comp/lib/python3.11/site-packages/seaborn/_oldcore.py:1498: FutureWarning: is_categorical_dtype is deprecated and will be removed in a future version. Use isinstance(dtype, CategoricalDtype) instead\n",
      "  if pd.api.types.is_categorical_dtype(vector):\n",
      "/home/francisco/MECAD/COMP/comp/lib/python3.11/site-packages/seaborn/_oldcore.py:1498: FutureWarning: is_categorical_dtype is deprecated and will be removed in a future version. Use isinstance(dtype, CategoricalDtype) instead\n",
      "  if pd.api.types.is_categorical_dtype(vector):\n",
      "/home/francisco/MECAD/COMP/comp/lib/python3.11/site-packages/seaborn/_oldcore.py:1498: FutureWarning: is_categorical_dtype is deprecated and will be removed in a future version. Use isinstance(dtype, CategoricalDtype) instead\n",
      "  if pd.api.types.is_categorical_dtype(vector):\n",
      "/home/francisco/MECAD/COMP/comp/lib/python3.11/site-packages/seaborn/_oldcore.py:1498: FutureWarning: is_categorical_dtype is deprecated and will be removed in a future version. Use isinstance(dtype, CategoricalDtype) instead\n",
      "  if pd.api.types.is_categorical_dtype(vector):\n"
     ]
    },
    {
     "data": {
      "image/png": "[encoded data removed]",
      "text/plain": [
       "<Figure size 1700x800 with 1 Axes>"
      ]
     },
     "metadata": {},
     "output_type": "display_data"
    }
   ],
   "source": [
    "# Plot do Preço Base vs Preço Contratual para ver diferenças entre ambos para um mesmo contrato\n",
    "df = contratos(cpub).iloc[:,[2,18]]\n",
    "df = df.rename(columns={2: 'PrecoBase', 18:'PrecoContratual'})\n",
    "df = df.astype('float')\n",
    "\n",
    "plt.figure(figsize=(17,8))\n",
    "sns.barplot(x = df.index, y = df.PrecoBase, color = 'skyblue')\n",
    "sns.barplot(x = df.index, y = df.PrecoContratual, color = 'lightgray', fill=0.1)\n",
    "plt.ylabel('Preço Contratual / Base')\n",
    "plt.show()"
   ]
  },
  {
   "cell_type": "code",
   "execution_count": 12,
   "id": "f6bc9f79-3097-4400-9be5-b28fcb915f1b",
   "metadata": {},
   "outputs": [
    {
     "data": {
      "text/plain": [
       "(array([376]),)"
      ]
     },
     "execution_count": 12,
     "metadata": {},
     "output_type": "execute_result"
    }
   ],
   "source": [
    "# Índice com preço contratual nulo\n",
    "np.where(pc == 0)"
   ]
  },
  {
   "cell_type": "code",
   "execution_count": 13,
   "id": "38cd3c42-6179-4a71-8c2c-579a626a88b0",
   "metadata": {},
   "outputs": [
    {
     "name": "stderr",
     "output_type": "stream",
     "text": [
      "/tmp/ipykernel_2710/2437271471.py:4: RuntimeWarning: divide by zero encountered in divide\n",
      "  (np.round(pb/pc, 4))\n"
     ]
    },
    {
     "data": {
      "text/plain": [
       "array([ 1.064,  1.108,  2.   ,  1.049,  1.019,  1.004,  1.285,  1.174,\n",
       "        1.188,  2.808,  4.707,  4.181,  2.162,  2.637,  3.026,  1.307,\n",
       "        1.223,  1.4  ,  1.229,  1.681,  1.4  ,  2.098,  1.25 ,  1.002,\n",
       "        1.   ,  1.125,  1.   ,  1.152,  1.378,  1.006,  1.363,  1.491,\n",
       "        2.015,  1.146,  1.061,  1.391,  2.679,  1.022,  1.254,  1.053,\n",
       "        1.32 ,  1.003,  1.13 ,  3.768,  1.004,  2.348, 11.602,  1.286,\n",
       "        1.04 ,  1.27 ,  1.035, 28.188,  1.444,  1.   ,  1.001,  1.323,\n",
       "        1.006,  1.085,  4.397,  1.   ,  1.046,  1.465,  1.   ,  7.157,\n",
       "        1.   ,  1.   ,  2.041,  1.009,  1.   ,  1.002,  1.298,  1.032,\n",
       "        2.118,  1.115,  1.146,  1.601,  2.668,  2.087,  1.   ,  1.   ,\n",
       "        1.053,  1.333,  1.083,  1.   ,  1.   ,  1.   ,  1.053,  4.19 ,\n",
       "        1.77 ,  2.368,  1.703,  4.372,  2.569,  5.699,  3.571,  7.143,\n",
       "        5.492,  4.804,  4.657,  2.989,  3.729,  3.768,  3.729,  1.77 ,\n",
       "        1.082,  3.532,  8.593,  7.996, 13.382,  5.375,  2.966,  1.84 ,\n",
       "        3.216,  1.038,  1.372,  1.022,  1.155,  1.742,  4.613, 16.608,\n",
       "        1.   ,  1.   ,  1.   ,  1.196,  1.001,  1.   ,  1.671,  1.   ,\n",
       "        4.291,  2.023,  3.971,  2.   ,  1.   ,  1.   ,  1.566,  1.001,\n",
       "        1.541,  2.835,  4.24 ,  1.085,  1.021,  1.001,  1.058,  1.   ,\n",
       "        1.   ,  2.041,  1.   ,  1.407,  1.112,  1.   ,  1.026,  1.474,\n",
       "        2.445,  1.   ,  1.412,  1.193,  1.04 ,  1.002,  1.003,  1.04 ,\n",
       "        1.252,  1.429,  1.001,  1.25 ,  1.816,  1.154,  1.843,  1.   ,\n",
       "        1.816,  1.066,  1.001,  2.713,  8.62 ,  2.542,  3.587,  1.387,\n",
       "        1.   ,  1.01 ,  1.007,  1.   ,  1.016,  1.385,  6.05 ,  3.242,\n",
       "        1.262, 11.177,  1.931,  2.085,  1.328,  1.033,  1.   ,  4.688,\n",
       "        3.143,  2.973,  7.779,  5.73 ,  2.986,  1.   ,  1.072,  1.007,\n",
       "        3.212,  1.005,  3.755,  1.014,  1.267,  1.   ,  1.164,  1.   ,\n",
       "        1.036,  3.732,  1.006,  1.687,  1.209,  1.083,  2.299,  9.293,\n",
       "        4.673,  2.137,  1.   ,  1.067,  1.03 ,  1.102,  1.   ,  1.067,\n",
       "        1.   ,  1.   ,  1.222,  1.478,  1.004,  1.261, 40.503,  1.011,\n",
       "        5.055,  1.   ,  1.12 ,  1.594,  1.055,  1.558,  2.869,  3.044,\n",
       "        1.   ,  4.906,  2.212,  2.053, 16.608, 28.361,  2.   , 37.36 ,\n",
       "        1.   ,  1.081,  1.002,  1.   ,  1.027,  1.033,  2.207,  1.03 ,\n",
       "        1.   ,  1.815,  1.   ,  3.288,  1.885, 12.347,  1.121,  1.326,\n",
       "        1.   ,  3.023,  1.219,  1.169,  4.39 ,  2.348,  2.348,  1.002,\n",
       "        2.492,  4.941, 20.904,  7.996,  5.375,  4.613,  2.301,  3.278,\n",
       "        2.625,  3.136,  1.   ,  1.077, 39.   ,  1.339,  1.274,  0.999,\n",
       "        1.089,  1.092, 13.165,  1.333,  1.   ,  1.   ,  1.068,  1.005,\n",
       "        1.006,  1.002,  1.042,  1.153,  1.086,  1.739,  1.   ,  1.115,\n",
       "        1.364,  1.027,  1.366,  1.026,  1.066,  2.05 ,  1.   ,  1.038,\n",
       "        1.356,  1.   ,  1.014,  1.   ,  1.021,  1.   ,  2.059, 16.998,\n",
       "       25.295,  3.323,  2.135,  1.324,  1.006,  1.012,  1.387,  1.001,\n",
       "        1.   ,  1.023,  1.   ,  1.   ,  1.433,  1.   ,  1.213,  1.257,\n",
       "        1.068,  1.003,  1.056,  1.   ,  1.   ,  1.169,  1.139,  1.167,\n",
       "        1.195,  2.835,  1.009,  1.111,  1.163,  3.358,  1.089,  2.607,\n",
       "        5.446,  3.248,  1.16 ,  1.2  ,  1.112,  1.   ,  1.   ,  1.179,\n",
       "        1.023,  1.004,  1.151,  1.227, 32.779,  1.05 ,  1.001,  1.051,\n",
       "        1.794,  1.   ,  5.324,  1.007,  1.   ,  1.024,  1.   ,  1.009,\n",
       "          inf,  1.482,  1.311,  1.117,  1.   ,  1.   ,  4.152,  1.732,\n",
       "        1.004,  1.084,  1.242, 13.114,  1.   ,  1.412,  1.622,  1.155,\n",
       "        1.534,  1.736,  2.273,  1.462,  1.042, 13.813,  1.01 ,  1.027,\n",
       "        1.013,  1.027,  1.006,  1.006,  1.   ,  1.001,  1.137,  1.213,\n",
       "        0.998,  1.023,  1.099,  1.593,  1.268,  5.629,  1.471,  1.027,\n",
       "        1.221,  1.   ,  1.   ,  1.472,  1.065,  1.629,  5.214,  1.465,\n",
       "        1.016,  6.991,  1.108,  1.   ,  1.421,  5.773,  3.603,  1.848,\n",
       "        6.991,  2.403,  4.405,  1.299,  1.008,  1.013,  1.515,  1.283,\n",
       "        1.002,  1.   ,  1.   ,  1.029,  1.437,  1.01 ,  1.   ,  1.   ,\n",
       "        1.118,  1.053,  1.016,  1.952,  4.518,  1.   , 11.35 ,  1.673,\n",
       "        1.047,  1.   ,  2.152,  1.032,  1.305,  1.048,  1.306,  2.638,\n",
       "       14.232,  1.786,  1.062,  1.822,  1.232,  1.076,  1.   ,  1.024,\n",
       "        1.004,  1.   ,  1.   ,  1.404,  1.987,  3.505, 10.789,  2.132,\n",
       "        1.028, 23.632,  5.521, 14.818, 11.323, 14.107,  8.028, 21.128])"
      ]
     },
     "execution_count": 13,
     "metadata": {},
     "output_type": "execute_result"
    }
   ],
   "source": [
    "np.set_printoptions(precision=3)\n",
    "np.set_printoptions(suppress=True)\n",
    "\n",
    "(np.round(pb/pc, 4))"
   ]
  },
  {
   "cell_type": "code",
   "execution_count": null,
   "id": "1fb1d1ff-ddff-4067-bcf9-f485a808e4be",
   "metadata": {},
   "outputs": [],
   "source": []
  },
  {
   "cell_type": "code",
   "execution_count": 14,
   "id": "65dbe22f-2061-4345-b9a1-b68e3706ea17",
   "metadata": {},
   "outputs": [
    {
     "name": "stderr",
     "output_type": "stream",
     "text": [
      "/tmp/ipykernel_2710/3234519312.py:1: RuntimeWarning: divide by zero encountered in divide\n",
      "  sns.histplot(pb/pc)\n",
      "/home/francisco/MECAD/COMP/comp/lib/python3.11/site-packages/seaborn/_oldcore.py:1498: FutureWarning: is_categorical_dtype is deprecated and will be removed in a future version. Use isinstance(dtype, CategoricalDtype) instead\n",
      "  if pd.api.types.is_categorical_dtype(vector):\n",
      "/home/francisco/MECAD/COMP/comp/lib/python3.11/site-packages/seaborn/_oldcore.py:1119: FutureWarning: use_inf_as_na option is deprecated and will be removed in a future version. Convert inf values to NaN before operating instead.\n",
      "  with pd.option_context('mode.use_inf_as_na', True):\n"
     ]
    },
    {
     "data": {
      "image/png": "[encoded data removed]",
      "text/plain": [
       "<Figure size 640x480 with 1 Axes>"
      ]
     },
     "metadata": {},
     "output_type": "display_data"
    }
   ],
   "source": [
    "sns.histplot(pb/pc)\n",
    "plt.show()"
   ]
  },
  {
   "cell_type": "markdown",
   "id": "47f46c7d-3dd8-4dfe-8189-216462d4a2cd",
   "metadata": {},
   "source": [
    "***\n",
    "\n",
    "<br>\n",
    "\n",
    "<br>\n",
    "\n",
    "Verificar a situação em que o preco base é muito maior do que o preço contratual\n",
    "\n",
    "1. pegar no maior valor do rácio pb/pc\n",
    "2. verificar pb e pc e verificar rácio\n",
    "4. obter id e verificar que bate certo usando o função contrato()\n",
    "5. obter o número de anúncio\n",
    "6. calcular o número de ocorrências do anúncio\n",
    "7. obter id's para o mesmo número de anúncio\n",
    "8. somar precos contratuais\n",
    "9. comparar novamente com o preço base\n",
    "\n",
    "\n",
    "**1.**"
   ]
  },
  {
   "cell_type": "code",
   "execution_count": 27,
   "id": "2b3e9776-28db-4fda-8b53-d4a17df7be1d",
   "metadata": {},
   "outputs": [
    {
     "name": "stdout",
     "output_type": "stream",
     "text": [
      "(array([ 46,  51,  63,  93,  95,  96, 106, 107, 108, 109, 119, 172, 182,\n",
      "       185, 194, 195, 215, 230, 232, 244, 245, 247, 261, 274, 275, 276,\n",
      "       284, 290, 319, 320, 352, 364, 370, 376, 387, 397, 413, 422, 425,\n",
      "       429, 432, 454, 464, 478, 481, 482, 483, 484, 485, 486, 487]),) \n",
      "\n",
      " [11.602 28.188  7.157  5.699  7.143  5.492  8.593  7.996 13.382  5.375\n",
      " 16.608  8.62   6.05  11.177  7.779  5.73   9.293 40.503  5.055 16.608\n",
      " 28.361 37.36  12.347 20.904  7.996  5.375 39.    13.165 16.998 25.295\n",
      "  5.446 32.779  5.323    inf 13.114 13.813  5.629  5.214  6.991  5.773\n",
      "  6.991 11.35  14.233 10.789 23.632  5.521 14.818 11.323 14.107  8.028\n",
      " 21.127]\n",
      "\n",
      "\n",
      "\n",
      " Índice do maior rácio : [230 247 284 364 376]\n"
     ]
    },
    {
     "name": "stderr",
     "output_type": "stream",
     "text": [
      "/tmp/ipykernel_2710/2939907773.py:2: RuntimeWarning: divide by zero encountered in divide\n",
      "  rat = pb/pc\n"
     ]
    }
   ],
   "source": [
    "# Índice do contrato com maior rácio \n",
    "rat = pb/pc\n",
    "rat5 = np.where(rat > 5)[0]\n",
    "\n",
    "print(np.where(rat > 5), '\\n\\n', rat[np.where(rat > 5)])\n",
    "\n",
    "print('\\n\\n\\n Índice do maior rácio :', np.where(rat > 30)[0])"
   ]
  },
  {
   "cell_type": "markdown",
   "id": "d66e3e5e-3ae5-4fac-9c6d-933a6b6afc21",
   "metadata": {},
   "source": [
    "**2.**"
   ]
  },
  {
   "cell_type": "code",
   "execution_count": 32,
   "id": "8bdff43c-ae80-48dc-98a8-0fccb6d056b9",
   "metadata": {},
   "outputs": [
    {
     "data": {
      "text/plain": [
       "(138172.32, 3542.88, 39.0)"
      ]
     },
     "execution_count": 32,
     "metadata": {},
     "output_type": "execute_result"
    }
   ],
   "source": [
    "i = 284\n",
    "pb[i],pc[i], pb[i]/pc[i]"
   ]
  },
  {
   "cell_type": "markdown",
   "id": "08c8b928-b092-4144-b5c5-8ae03ff136ae",
   "metadata": {},
   "source": [
    "**3.**"
   ]
  },
  {
   "cell_type": "code",
   "execution_count": 33,
   "id": "594c3df5-bf85-4fda-b904-93c5d9fefbea",
   "metadata": {},
   "outputs": [
    {
     "data": {
      "text/html": [
       "<div>\n",
       "<style scoped>\n",
       "    .dataframe tbody tr th:only-of-type {\n",
       "        vertical-align: middle;\n",
       "    }\n",
       "\n",
       "    .dataframe tbody tr th {\n",
       "        vertical-align: top;\n",
       "    }\n",
       "\n",
       "    .dataframe thead th {\n",
       "        text-align: right;\n",
       "    }\n",
       "</style>\n",
       "<table border=\"1\" class=\"dataframe\">\n",
       "  <thead>\n",
       "    <tr style=\"text-align: right;\">\n",
       "      <th></th>\n",
       "      <th>0</th>\n",
       "      <th>1</th>\n",
       "      <th>2</th>\n",
       "      <th>3</th>\n",
       "      <th>4</th>\n",
       "      <th>5</th>\n",
       "      <th>6</th>\n",
       "      <th>7</th>\n",
       "      <th>8</th>\n",
       "      <th>9</th>\n",
       "      <th>...</th>\n",
       "      <th>51</th>\n",
       "      <th>52</th>\n",
       "      <th>53</th>\n",
       "      <th>54</th>\n",
       "      <th>55</th>\n",
       "      <th>56</th>\n",
       "      <th>57</th>\n",
       "      <th>58</th>\n",
       "      <th>59</th>\n",
       "      <th>60</th>\n",
       "    </tr>\n",
       "  </thead>\n",
       "  <tbody>\n",
       "    <tr>\n",
       "      <th>0</th>\n",
       "      <td>10230922</td>\n",
       "      <td>11771/2023</td>\n",
       "      <td>138172.32</td>\n",
       "      <td>15</td>\n",
       "      <td>False</td>\n",
       "      <td>6612945</td>\n",
       "      <td>13246654</td>\n",
       "      <td>2023-07-13</td>\n",
       "      <td>135</td>\n",
       "      <td>2</td>\n",
       "      <td>...</td>\n",
       "      <td>None</td>\n",
       "      <td>None</td>\n",
       "      <td>False</td>\n",
       "      <td>None</td>\n",
       "      <td>True</td>\n",
       "      <td>None</td>\n",
       "      <td>Código dos Contratos Públicos (DL111-B/2017) e...</td>\n",
       "      <td>None</td>\n",
       "      <td>None</td>\n",
       "      <td>1700010896</td>\n",
       "    </tr>\n",
       "  </tbody>\n",
       "</table>\n",
       "<p>1 rows × 61 columns</p>\n",
       "</div>"
      ],
      "text/plain": [
       "         0           1          2   3      4        5         6           7   \\\n",
       "0  10230922  11771/2023  138172.32  15  False  6612945  13246654  2023-07-13   \n",
       "\n",
       "    8  9   ...    51    52     53    54    55    56  \\\n",
       "0  135  2  ...  None  None  False  None  True  None   \n",
       "\n",
       "                                                  57    58    59          60  \n",
       "0  Código dos Contratos Públicos (DL111-B/2017) e...  None  None  1700010896  \n",
       "\n",
       "[1 rows x 61 columns]"
      ]
     },
     "execution_count": 33,
     "metadata": {},
     "output_type": "execute_result"
    }
   ],
   "source": [
    "j = (cpub[i])[0]\n",
    "\n",
    "Cc = contrato(j)\n",
    "Cc"
   ]
  },
  {
   "cell_type": "markdown",
   "id": "1c8bf2be-cfc5-435f-819c-2ff2e9817110",
   "metadata": {},
   "source": [
    "**4**"
   ]
  },
  {
   "cell_type": "code",
   "execution_count": 34,
   "id": "7aa25f91-61da-4b60-83e3-9982bb29cacc",
   "metadata": {},
   "outputs": [
    {
     "data": {
      "text/plain": [
       "'11771/2023'"
      ]
     },
     "execution_count": 34,
     "metadata": {},
     "output_type": "execute_result"
    }
   ],
   "source": [
    "n_anuncio = Cc.iloc[:,1][0]\n",
    "n_anuncio"
   ]
  },
  {
   "cell_type": "markdown",
   "id": "ea32b732-f828-43e7-b58a-fd07ca3a7222",
   "metadata": {},
   "source": [
    "**5.**"
   ]
  },
  {
   "cell_type": "code",
   "execution_count": 35,
   "id": "0f7fbfa9-4748-44a5-9821-d18bc62d8a8a",
   "metadata": {},
   "outputs": [
    {
     "data": {
      "text/plain": [
       "(array([284, 307]),)"
      ]
     },
     "execution_count": 35,
     "metadata": {},
     "output_type": "execute_result"
    }
   ],
   "source": [
    "np.where(cp.NrAnuncio == n_anuncio)"
   ]
  },
  {
   "cell_type": "code",
   "execution_count": 37,
   "id": "b1fa5d25-7d55-420f-8eab-ef5266b92443",
   "metadata": {},
   "outputs": [
    {
     "data": {
      "text/html": [
       "<div>\n",
       "<style scoped>\n",
       "    .dataframe tbody tr th:only-of-type {\n",
       "        vertical-align: middle;\n",
       "    }\n",
       "\n",
       "    .dataframe tbody tr th {\n",
       "        vertical-align: top;\n",
       "    }\n",
       "\n",
       "    .dataframe thead th {\n",
       "        text-align: right;\n",
       "    }\n",
       "</style>\n",
       "<table border=\"1\" class=\"dataframe\">\n",
       "  <thead>\n",
       "    <tr style=\"text-align: right;\">\n",
       "      <th></th>\n",
       "      <th>0</th>\n",
       "      <th>1</th>\n",
       "      <th>2</th>\n",
       "      <th>3</th>\n",
       "      <th>4</th>\n",
       "      <th>5</th>\n",
       "      <th>6</th>\n",
       "      <th>7</th>\n",
       "      <th>8</th>\n",
       "      <th>9</th>\n",
       "      <th>...</th>\n",
       "      <th>51</th>\n",
       "      <th>52</th>\n",
       "      <th>53</th>\n",
       "      <th>54</th>\n",
       "      <th>55</th>\n",
       "      <th>56</th>\n",
       "      <th>57</th>\n",
       "      <th>58</th>\n",
       "      <th>59</th>\n",
       "      <th>60</th>\n",
       "    </tr>\n",
       "  </thead>\n",
       "  <tbody>\n",
       "    <tr>\n",
       "      <th>0</th>\n",
       "      <td>10230922</td>\n",
       "      <td>11771/2023</td>\n",
       "      <td>138172.32</td>\n",
       "      <td>15</td>\n",
       "      <td>False</td>\n",
       "      <td>6612945</td>\n",
       "      <td>13246654</td>\n",
       "      <td>2023-07-13</td>\n",
       "      <td>135</td>\n",
       "      <td>2</td>\n",
       "      <td>...</td>\n",
       "      <td>None</td>\n",
       "      <td>None</td>\n",
       "      <td>False</td>\n",
       "      <td>None</td>\n",
       "      <td>True</td>\n",
       "      <td>None</td>\n",
       "      <td>Código dos Contratos Públicos (DL111-B/2017) e...</td>\n",
       "      <td>None</td>\n",
       "      <td>None</td>\n",
       "      <td>1700010896</td>\n",
       "    </tr>\n",
       "  </tbody>\n",
       "</table>\n",
       "<p>1 rows × 61 columns</p>\n",
       "</div>"
      ],
      "text/plain": [
       "         0           1          2   3      4        5         6           7   \\\n",
       "0  10230922  11771/2023  138172.32  15  False  6612945  13246654  2023-07-13   \n",
       "\n",
       "    8  9   ...    51    52     53    54    55    56  \\\n",
       "0  135  2  ...  None  None  False  None  True  None   \n",
       "\n",
       "                                                  57    58    59          60  \n",
       "0  Código dos Contratos Públicos (DL111-B/2017) e...  None  None  1700010896  \n",
       "\n",
       "[1 rows x 61 columns]"
      ]
     },
     "execution_count": 37,
     "metadata": {},
     "output_type": "execute_result"
    }
   ],
   "source": [
    "contrato(cpub[284])"
   ]
  },
  {
   "cell_type": "code",
   "execution_count": 38,
   "id": "2fe47320-7c1f-4b6c-9ed1-46722299475d",
   "metadata": {},
   "outputs": [
    {
     "data": {
      "text/html": [
       "<div>\n",
       "<style scoped>\n",
       "    .dataframe tbody tr th:only-of-type {\n",
       "        vertical-align: middle;\n",
       "    }\n",
       "\n",
       "    .dataframe tbody tr th {\n",
       "        vertical-align: top;\n",
       "    }\n",
       "\n",
       "    .dataframe thead th {\n",
       "        text-align: right;\n",
       "    }\n",
       "</style>\n",
       "<table border=\"1\" class=\"dataframe\">\n",
       "  <thead>\n",
       "    <tr style=\"text-align: right;\">\n",
       "      <th></th>\n",
       "      <th>0</th>\n",
       "      <th>1</th>\n",
       "      <th>2</th>\n",
       "      <th>3</th>\n",
       "      <th>4</th>\n",
       "      <th>5</th>\n",
       "      <th>6</th>\n",
       "      <th>7</th>\n",
       "      <th>8</th>\n",
       "      <th>9</th>\n",
       "      <th>...</th>\n",
       "      <th>51</th>\n",
       "      <th>52</th>\n",
       "      <th>53</th>\n",
       "      <th>54</th>\n",
       "      <th>55</th>\n",
       "      <th>56</th>\n",
       "      <th>57</th>\n",
       "      <th>58</th>\n",
       "      <th>59</th>\n",
       "      <th>60</th>\n",
       "    </tr>\n",
       "  </thead>\n",
       "  <tbody>\n",
       "    <tr>\n",
       "      <th>0</th>\n",
       "      <td>10252068</td>\n",
       "      <td>11771/2023</td>\n",
       "      <td>138172.32</td>\n",
       "      <td>15</td>\n",
       "      <td>False</td>\n",
       "      <td>6612945</td>\n",
       "      <td>13246654</td>\n",
       "      <td>2023-07-13</td>\n",
       "      <td>135</td>\n",
       "      <td>2</td>\n",
       "      <td>...</td>\n",
       "      <td>None</td>\n",
       "      <td>None</td>\n",
       "      <td>False</td>\n",
       "      <td>None</td>\n",
       "      <td>True</td>\n",
       "      <td>None</td>\n",
       "      <td>Código dos Contratos Públicos (DL111-B/2017) e...</td>\n",
       "      <td>None</td>\n",
       "      <td>None</td>\n",
       "      <td>1700039280</td>\n",
       "    </tr>\n",
       "  </tbody>\n",
       "</table>\n",
       "<p>1 rows × 61 columns</p>\n",
       "</div>"
      ],
      "text/plain": [
       "         0           1          2   3      4        5         6           7   \\\n",
       "0  10252068  11771/2023  138172.32  15  False  6612945  13246654  2023-07-13   \n",
       "\n",
       "    8  9   ...    51    52     53    54    55    56  \\\n",
       "0  135  2  ...  None  None  False  None  True  None   \n",
       "\n",
       "                                                  57    58    59          60  \n",
       "0  Código dos Contratos Públicos (DL111-B/2017) e...  None  None  1700039280  \n",
       "\n",
       "[1 rows x 61 columns]"
      ]
     },
     "execution_count": 38,
     "metadata": {},
     "output_type": "execute_result"
    }
   ],
   "source": [
    "contrato(cpub[307])"
   ]
  },
  {
   "cell_type": "code",
   "execution_count": null,
   "id": "c8eee5ed-86a7-4965-ac83-871db27e2f8b",
   "metadata": {},
   "outputs": [],
   "source": []
  }
 ],
 "metadata": {
  "kernelspec": {
   "display_name": "Python 3 (ipykernel)",
   "language": "python",
   "name": "python3"
  },
  "language_info": {
   "codemirror_mode": {
    "name": "ipython",
    "version": 3
   },
   "file_extension": ".py",
   "mimetype": "text/x-python",
   "name": "python",
   "nbconvert_exporter": "python",
   "pygments_lexer": "ipython3",
   "version": "3.11.5"
  }
 },
 "nbformat": 4,
 "nbformat_minor": 5
}
