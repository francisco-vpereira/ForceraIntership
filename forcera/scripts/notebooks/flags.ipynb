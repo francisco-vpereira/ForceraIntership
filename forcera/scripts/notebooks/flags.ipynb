{
 "cells": [
  {
   "cell_type": "markdown",
   "id": "b13f2fe0-ed34-4634-b4aa-57c9f3dc123a",
   "metadata": {},
   "source": [
    "# Bibliotecas"
   ]
  },
  {
   "cell_type": "code",
   "execution_count": 7,
   "id": "a4d11fc8-997a-4a73-a7f3-c6d1c921fe95",
   "metadata": {},
   "outputs": [],
   "source": [
    "import psycopg2\n",
    "from psycopg2 import OperationalError\n",
    "import pandas as pd\n",
    "import numpy as np\n",
    "import matplotlib.pylab as plt\n",
    "import seaborn as sns\n",
    "from IPython.display import HTML\n",
    "import webbrowser"
   ]
  },
  {
   "cell_type": "markdown",
   "id": "95f994c4-d4dd-4f1d-a984-1c050ffc215e",
   "metadata": {},
   "source": [
    "# Ligar à base de dados\n"
   ]
  },
  {
   "cell_type": "code",
   "execution_count": 3,
   "id": "8298d207-ad9c-48e9-aa04-f1f5f431c5ee",
   "metadata": {},
   "outputs": [],
   "source": [
    "conn = psycopg2.connect(\n",
    "    host = \"contratos-base-gov1.cf87yxnqgph8.eu-central-1.rds.amazonaws.com\",\n",
    "    port = 5432,\n",
    "    #database = \"contratosbasegov\",\n",
    "    user = \"contratosbasegov\",\n",
    "    password = \"8n9nyeTBFUyCcLJShNrZdPUai2KQkue4\")\n",
    "\n",
    "cur = conn.cursor()"
   ]
  },
  {
   "cell_type": "markdown",
   "id": "f15d880d-0128-4fd7-8e76-03ce1ab804e1",
   "metadata": {},
   "source": [
    "# Funções para cada flag"
   ]
  },
  {
   "cell_type": "markdown",
   "id": "8b05b951-a7da-4a25-89c3-613d0cb7cf82",
   "metadata": {},
   "source": [
    "**Flag 1**"
   ]
  },
  {
   "cell_type": "code",
   "execution_count": 9,
   "id": "cfab0c74-362a-463d-9332-2eaba7c2a1f0",
   "metadata": {},
   "outputs": [],
   "source": [
    "def redflag(pbase, pcontr, tol, ids, r):\n",
    "    \n",
    "    \"\"\"\n",
    "    Função que calcula a diferença entre o preço base e preço contratual de um contrato realizado\n",
    "    Se o preço contratual estiver contido num intervalo em torno do preço base é levantada um flag\n",
    "    O intervalo é definido pelo parâmetro tolerância e é definido como : [preço_base - preço_base*tolerância, preço_base + preço_base*tolerância]\n",
    "    Se o preço base não estiver definido, é levantada uma flag também \n",
    "\n",
    "    Parâmetros de entrada : \n",
    "        pbase : array com os preços base\n",
    "        pcontr : array com os preços contratuas\n",
    "        tol : valor da tolerância. Só pode tomar valores entre 0 e 1\n",
    "        ids : id's dos contratos em questão\n",
    "        r : ratio máximo permitido entre preço base / preço contratual\n",
    "\n",
    "    Return : \n",
    "        f : tuplo com os id's dos contratos com flag associada\n",
    "    \"\"\"\n",
    "\n",
    "    # Garantir que dimensão dos arrays com os preços é igual\n",
    "    if len(pbase) != len(pcontr):\n",
    "        return \"Error : dim pbase != dim pcontr\"\n",
    "\n",
    "    # Garantir que tolerância é um numero entre 0 e 1\n",
    "    if tol < 0 or tol > 1 :\n",
    "        return \"Error : tolerance must belong between 0 and 1\"\n",
    "\n",
    "    # Número de preços base\n",
    "    n = len(pbase)\n",
    "\n",
    "    # Array que guarda ocorrência - ou não - de uma flag\n",
    "    flags = np.zeros(n)\n",
    "\n",
    "    for i in range(n):\n",
    "\n",
    "        # Definir limites superior e inferior, respetivamente\n",
    "        up_lim = pbase[i] * (1 + tol)\n",
    "        lo_lim = pbase[i] * (1 - tol)\n",
    "        ratio = pbase[i] / pcontr[i]\n",
    "        \n",
    "        if lo_lim < pcontr[i] < up_lim :\n",
    "            flags[i] = 1\n",
    "            \n",
    "        if pbase[i] == 0 :\n",
    "            flags[i] = 1    \n",
    "\n",
    "        if pcontr[i] == 0:\n",
    "            flags[i] = 1\n",
    "            \n",
    "        if  ratio > r :\n",
    "            flags[i] = 1\n",
    "\n",
    "    # Conversão do tuplo de ids num array de uma coluna\n",
    "    ids = np.array(ids).reshape((n,))\n",
    "\n",
    "    # Contratos com ocorrência de uma flag\n",
    "    pos = np.where(flags != 0)\n",
    "\n",
    "    # Selecionar contratos onde ocorre flag\n",
    "    f = ids[pos]\n",
    "\n",
    "    # Conversão do conjunto de contratos em tuplo para poder usar como input nas funções que têm como input id's de contratos\n",
    "    f = f.reshape((len(f),1))\n",
    "    f = tuple(map(tuple,f))\n",
    "    \n",
    "    return f"
   ]
  },
  {
   "cell_type": "markdown",
   "id": "bebad016-6170-40c7-912d-f7a64b618d65",
   "metadata": {},
   "source": [
    "<br>\n",
    "\n",
    "**Flag 2**"
   ]
  },
  {
   "cell_type": "code",
   "execution_count": 4,
   "id": "76a29d68-b461-4210-9ad0-67c14a82e8d2",
   "metadata": {},
   "outputs": [],
   "source": [
    "def redflag2(t,ids):\n",
    "    \n",
    "    \"\"\"\n",
    "    Função que verifica, dentro dos ajustes diretos, se o preço contratual é superior a 20.000€\n",
    "    Só funciona para Aquisição de Serviços\n",
    "\n",
    "    Parâmetros : \n",
    "        t : dataframe com todos os ajustes diretos. Esta dataframe é o  output da função 'contratos'\n",
    "        ids : id's dos contratos que dizem respeito aos ajustes diretos. Estes id's são dados pelo output da função CPV\n",
    "\n",
    "    Return :\n",
    "        tuplo : f é o conjunto de contratos onde é disparada uma flag\n",
    "    \"\"\"\n",
    "\n",
    "    n = len(t)\n",
    "\n",
    "    c = t.TipoProcedimento.unique()\n",
    "    #print(c)\n",
    "    \n",
    "    flags = np.zeros(n)\n",
    "    \n",
    "    #for i in range(n):\n",
    "    #    if t.TipoProcedimento[i] == 'Aquisição de serviços':\n",
    "    #        if t.PrecoContratual[i] > 20000:\n",
    "    #            flags[i] = 1\n",
    "\n",
    "    prices = t.PrecoContratual\n",
    "    flags[np.where(prices > 20000)] = 1\n",
    "\n",
    "    fundamento = t.iloc[:,21]\n",
    "    flags[np.where(fundamento == \"\")] = 1\n",
    "    \n",
    "    # Conversão do tuplo de ids num array de uma coluna\n",
    "    ids = np.array(ids).reshape((n,))\n",
    "\n",
    "    # Contratos com ocorrência de uma flag\n",
    "    pos = np.where(flags != 0)\n",
    "\n",
    "    # Selecionar contratos onde ocorre flag\n",
    "    f = ids[pos]\n",
    "\n",
    "    # Conversão do conjunto de contratos em tuplo para poder usar como input nas funções que têm como input id's de contratos\n",
    "    f = f.reshape((len(f),1))\n",
    "    f = tuple(map(tuple,f))\n",
    "\n",
    "    return f"
   ]
  },
  {
   "cell_type": "code",
   "execution_count": null,
   "id": "fc75f8e4-f7be-4c92-88e7-3b2f19f450b5",
   "metadata": {},
   "outputs": [],
   "source": []
  }
 ],
 "metadata": {
  "kernelspec": {
   "display_name": "Python 3 (ipykernel)",
   "language": "python",
   "name": "python3"
  },
  "language_info": {
   "codemirror_mode": {
    "name": "ipython",
    "version": 3
   },
   "file_extension": ".py",
   "mimetype": "text/x-python",
   "name": "python",
   "nbconvert_exporter": "python",
   "pygments_lexer": "ipython3",
   "version": "3.11.5"
  }
 },
 "nbformat": 4,
 "nbformat_minor": 5
}
