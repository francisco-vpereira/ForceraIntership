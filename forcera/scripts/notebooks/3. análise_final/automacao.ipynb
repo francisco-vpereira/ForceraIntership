{
 "cells": [
  {
   "cell_type": "code",
   "execution_count": 20,
   "id": "ed10fd89-c2db-483a-90df-580e22d51f67",
   "metadata": {},
   "outputs": [],
   "source": [
    "import psycopg2\n",
    "from psycopg2 import OperationalError\n",
    "from psycopg2 import sql\n",
    "import pandas as pd\n",
    "import numpy as np\n",
    "import matplotlib.pylab as plt\n",
    "from scipy.optimize import curve_fit\n",
    "import seaborn as sns\n",
    "from IPython.display import HTML\n",
    "import webbrowser\n",
    "from collections import defaultdict\n",
    "import networkx as nx\n",
    "import csv\n",
    "import os\n",
    "from datetime import datetime, timedelta\n",
    "\n",
    "os.chdir('/home/francisco/MECAD/2º Ano/Estágio/forcera/scripts/scripts_py')\n",
    "\n",
    "\n",
    "# LIGAÇÃO À BASE DE DADOS\n",
    "conn = psycopg2.connect(\n",
    "    host = \"contratos-base-gov1.cf87yxnqgph8.eu-central-1.rds.amazonaws.com\",\n",
    "    port = 5432,\n",
    "    #database = \"contratosbasegov\",\n",
    "    user = \"contratosbasegov\",\n",
    "    password = \"8n9nyeTBFUyCcLJShNrZdPUai2KQkue4\")\n",
    "cur = conn.cursor()"
   ]
  },
  {
   "cell_type": "code",
   "execution_count": 30,
   "id": "dcf791bc-8d32-4069-8918-500adcaaa1e4",
   "metadata": {},
   "outputs": [],
   "source": [
    "cur.execute('''ROLLBACK;''')"
   ]
  },
  {
   "cell_type": "markdown",
   "id": "adcf4360-51bf-467e-be6d-c31ea213294d",
   "metadata": {},
   "source": [
    "***\n",
    "\n",
    "**1.** Printar ids dos concursos públicos entre os dias 1 e 4 de janeiro de 2024\n",
    "\n",
    "***"
   ]
  },
  {
   "cell_type": "code",
   "execution_count": 21,
   "id": "85c24c6b-27fe-46cc-b47f-5c149d12f60f",
   "metadata": {},
   "outputs": [
    {
     "name": "stdout",
     "output_type": "stream",
     "text": [
      "[(10424267,), (10424266,), (10424264,), (10424263,), (10424262,)] \n",
      "\n",
      "\n",
      "[(10424689,), (10424672,), (10424653,), (10424639,), (10424328,), (10424326,), (10424324,), (10424321,), (10424320,), (10424316,), (10424315,), (10424314,), (10424306,), (10424304,)] \n",
      "\n",
      "\n"
     ]
    }
   ],
   "source": [
    "dias = np.arange(1,3,1, dtype = int)\n",
    "\n",
    "for i in dias:\n",
    "    cur = conn.cursor()\n",
    "    cur.execute('''\n",
    "                SELECT id\n",
    "                FROM contratos_basegov\n",
    "                WHERE data_publicacao = '2024-01-%s' AND tipo_procedimento = 'Concurso público'\n",
    "                ;''', (int(i),))\n",
    "    \n",
    "    dt = cur.fetchall()\n",
    "    print(dt, '\\n\\n')"
   ]
  },
  {
   "cell_type": "markdown",
   "id": "13fd25da-07c5-4981-8340-43396a7b3cd8",
   "metadata": {},
   "source": [
    "***\n",
    "\n",
    "**2.** Printar dia de hoje e ontem no formato ANO-MES-DIA\n",
    "\n",
    "***"
   ]
  },
  {
   "cell_type": "code",
   "execution_count": 22,
   "id": "cdd02b61-92b5-4a88-af6d-bfbe0dfdf7e3",
   "metadata": {},
   "outputs": [
    {
     "name": "stdout",
     "output_type": "stream",
     "text": [
      "2024-02-13 2024-02-12\n"
     ]
    }
   ],
   "source": [
    "hoje = datetime.today().strftime('%Y-%m-%d')\n",
    "\n",
    "yesterday = datetime.now() - timedelta(1)\n",
    "ontem = datetime.strftime(yesterday, '%Y-%m-%d')\n",
    "\n",
    "print(hoje, ontem)"
   ]
  },
  {
   "cell_type": "markdown",
   "id": "39379292-5062-4cdc-ac98-10278d2d3c68",
   "metadata": {},
   "source": [
    "***\n",
    "\n",
    "**3.** Printar ids dos concursos públicos de ontem\n",
    "\n",
    "***"
   ]
  },
  {
   "cell_type": "code",
   "execution_count": 23,
   "id": "e0758239-ff3d-422f-bca8-88c25300aae7",
   "metadata": {},
   "outputs": [
    {
     "name": "stdout",
     "output_type": "stream",
     "text": [
      "[(10555963,), (10555962,), (10555961,), (10555960,), (10555957,), (10555954,), (10555926,), (10555925,), (10555921,), (10555917,), (10555916,), (10555913,), (10555912,), (10555900,), (10555873,), (10555867,), (10555847,), (10555842,), (10555800,), (10555782,), (10555721,), (10555666,), (10555661,), (10555644,), (10555642,), (10555609,), (10555598,), (10555587,), (10555549,), (10555476,), (10555398,), (10555372,), (10555364,), (10555335,), (10555313,), (10555294,), (10555279,), (10555239,), (10555225,), (10555214,), (10555170,), (10555106,), (10555094,), (10555083,), (10555033,), (10555025,), (10555022,), (10554959,), (10554950,), (10554947,), (10554944,), (10554932,), (10554924,), (10554907,), (10554900,), (10554831,), (10554824,), (10554792,), (10554708,), (10554703,), (10554697,), (10554681,), (10554670,), (10554661,), (10554630,), (10554556,), (10554516,), (10554502,), (10554478,), (10554474,), (10554444,), (10554438,), (10554333,), (10554302,), (10554291,), (10554232,), (10554287,), (10554226,), (10554161,), (10554158,), (10554123,), (10554102,), (10554058,), (10554026,), (10554023,), (10553945,), (10553920,), (10553902,), (10553878,), (10553868,), (10553811,), (10553731,), (10553728,), (10553721,), (10553718,), (10553716,), (10553710,), (10553649,), (10553647,), (10553646,), (10553643,), (10553641,), (10553636,), (10553633,), (10553619,)] \n",
      "\n",
      "\n"
     ]
    }
   ],
   "source": [
    "cur = conn.cursor()\n",
    "cur.execute('''\n",
    "            SELECT id\n",
    "            FROM contratos_basegov\n",
    "            WHERE data_publicacao = %s AND tipo_procedimento = 'Concurso público'\n",
    "            ;''', (ontem,))\n",
    "\n",
    "dt = cur.fetchall()\n",
    "print(dt, '\\n\\n')"
   ]
  },
  {
   "cell_type": "markdown",
   "id": "46112e98-58d3-42e6-b808-29a8db05b31d",
   "metadata": {},
   "source": [
    "***\n",
    "\n",
    "**4.** Printar ids dos concursos públicos de ontem que haja apenas uma entidade concorrente\n",
    "\n",
    "***"
   ]
  },
  {
   "cell_type": "code",
   "execution_count": 24,
   "id": "03ca768b-8a65-4698-81e6-9d64f20be445",
   "metadata": {},
   "outputs": [
    {
     "name": "stdout",
     "output_type": "stream",
     "text": [
      "[] \n",
      "\n",
      "\n"
     ]
    }
   ],
   "source": [
    "cur = conn.cursor()\n",
    "cur.execute('''\n",
    "            SELECT contratos_basegov.\"id\"\n",
    "            FROM contratos_basegov\n",
    "            JOIN concursos_publicos ON contratos_basegov.\"id\" = concursos_publicos.\"id\"\n",
    "            WHERE data_publicacao = %s AND tipo_procedimento = 'Concurso público' AND concursos_publicos.\"nr_entidadesconcorrentes\" = 1\n",
    "            ''', (ontem,))\n",
    "\n",
    "d = cur.fetchall()\n",
    "print(d, '\\n\\n')"
   ]
  },
  {
   "cell_type": "markdown",
   "id": "1edd039a-017c-47f5-b927-9d092106dff9",
   "metadata": {},
   "source": [
    "***\n",
    "\n",
    "**5.** Escrever **IDs** e **data de publicacao** dos concursos públicos de ontem na tabela *table_temp*\n",
    "\n",
    "***"
   ]
  },
  {
   "cell_type": "code",
   "execution_count": 34,
   "id": "a44e846c-69c2-414a-b99c-e190ee9d396d",
   "metadata": {},
   "outputs": [
    {
     "name": "stdout",
     "output_type": "stream",
     "text": [
      "[(10555963,), (10555962,), (10555961,), (10555960,), (10555957,), (10555954,), (10555926,), (10555925,), (10555921,), (10555917,), (10555916,), (10555913,), (10555912,), (10555900,), (10555873,), (10555867,), (10555847,), (10555842,), (10555800,), (10555782,), (10555721,), (10555666,), (10555661,), (10555644,), (10555642,), (10555609,), (10555598,), (10555587,), (10555549,), (10555476,), (10555398,), (10555372,), (10555364,), (10555335,), (10555313,), (10555294,), (10555279,), (10555239,), (10555225,), (10555214,), (10555170,), (10555106,), (10555094,), (10555083,), (10555033,), (10555025,), (10555022,), (10554959,), (10554950,), (10554947,), (10554944,), (10554932,), (10554924,), (10554907,), (10554900,), (10554831,), (10554824,), (10554792,), (10554708,), (10554703,), (10554697,), (10554681,), (10554670,), (10554661,), (10554630,), (10554556,), (10554516,), (10554502,), (10554478,), (10554474,), (10554444,), (10554438,), (10554333,), (10554302,), (10554291,), (10554232,), (10554287,), (10554226,), (10554161,), (10554158,), (10554123,), (10554102,), (10554058,), (10554026,), (10554023,), (10553945,), (10553920,), (10553902,), (10553878,), (10553868,), (10553811,), (10553731,), (10553728,), (10553721,), (10553718,), (10553716,), (10553710,), (10553649,), (10553647,), (10553646,), (10553643,), (10553641,), (10553636,), (10553633,), (10553619,)] \n",
      "\n",
      "\n"
     ]
    }
   ],
   "source": [
    "cur = conn.cursor()\n",
    "cur.execute('''\n",
    "            SELECT id\n",
    "            FROM contratos_basegov\n",
    "            WHERE data_publicacao = %s AND tipo_procedimento = 'Concurso público'\n",
    "            ;''', (ontem,))\n",
    "\n",
    "#t = [item[0] for item in cur.fetchall()]\n",
    "t = cur.fetchall()\n",
    "print(t, '\\n\\n')"
   ]
  },
  {
   "cell_type": "code",
   "execution_count": 35,
   "id": "6c082a18-f62d-40dd-852a-95875d0383e7",
   "metadata": {},
   "outputs": [],
   "source": [
    "cur = conn.cursor()\n",
    "\n",
    "for i in t:\n",
    "    cur.execute('''INSERT INTO table_temp(id, data) VALUES (%s, %s);''', (i,ontem)) \n",
    "\n",
    "conn.commit() "
   ]
  }
 ],
 "metadata": {
  "kernelspec": {
   "display_name": "Python 3 (ipykernel)",
   "language": "python",
   "name": "python3"
  },
  "language_info": {
   "codemirror_mode": {
    "name": "ipython",
    "version": 3
   },
   "file_extension": ".py",
   "mimetype": "text/x-python",
   "name": "python",
   "nbconvert_exporter": "python",
   "pygments_lexer": "ipython3",
   "version": "3.11.6"
  }
 },
 "nbformat": 4,
 "nbformat_minor": 5
}
