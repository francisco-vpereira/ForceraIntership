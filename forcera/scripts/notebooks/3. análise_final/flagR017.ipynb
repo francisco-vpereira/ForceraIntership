{
 "cells": [
  {
   "cell_type": "code",
   "execution_count": 1,
   "id": "5902fe97-c474-4afb-b507-e94d86c60603",
   "metadata": {},
   "outputs": [],
   "source": [
    "import psycopg2\n",
    "from psycopg2 import OperationalError\n",
    "from psycopg2 import sql\n",
    "import pandas as pd\n",
    "import numpy as np\n",
    "import matplotlib.pylab as plt\n",
    "from scipy.optimize import curve_fit\n",
    "import seaborn as sns\n",
    "from IPython.display import HTML\n",
    "import webbrowser\n",
    "from collections import defaultdict\n",
    "import networkx as nx\n",
    "import csv\n",
    "import os\n",
    "os.chdir('/home/francisco/MECAD/2º Ano/Estágio/forcera/scripts/scripts_py')\n",
    "\n",
    "\n",
    "\n",
    "# LIGAÇÃO À BASE DE DADOS\n",
    "conn = psycopg2.connect(\n",
    "    host = \"contratos-base-gov1.cf87yxnqgph8.eu-central-1.rds.amazonaws.com\",\n",
    "    port = 5432,\n",
    "    #database = \"contratosbasegov\",\n",
    "    user = \"contratosbasegov\",\n",
    "    password = \"8n9nyeTBFUyCcLJShNrZdPUai2KQkue4\")\n",
    "cur = conn.cursor()"
   ]
  },
  {
   "cell_type": "code",
   "execution_count": 2,
   "id": "cd1a18fa-35b7-4371-b940-4a9758b64e74",
   "metadata": {},
   "outputs": [],
   "source": [
    "cur = conn.cursor()\n",
    "cur.execute('''\n",
    "                SELECT cpv, concursospublicos.\"id\", preco_contratual\n",
    "                FROM concursospublicos\n",
    "                ORDER BY cpv2 DESC;''')\n",
    "\n",
    "data = pd.DataFrame(cur.fetchall())"
   ]
  },
  {
   "cell_type": "markdown",
   "id": "2560dfe4-5ae0-4bf7-bfb4-e8d27127f4c2",
   "metadata": {},
   "source": [
    "## Inserir indicadores estatísticos na tabela <i>precoc_stat</i>"
   ]
  },
  {
   "cell_type": "code",
   "execution_count": 4,
   "id": "64598a32-e972-46ec-b6df-43492c7a6298",
   "metadata": {},
   "outputs": [],
   "source": [
    "# GUARDAR TODAS AS COMBINAÇÕES DE CPVs COM OS 3 PRIMEIROS DÍGITOS\n",
    "cur = conn.cursor()\n",
    "cur.execute('''\n",
    "            SELECT DISTINCT(SUBSTRING(cpv,1,3)) \n",
    "            FROM concursospublicos;''')\n",
    "cpv3 = [item[0] for item in cur.fetchall()]"
   ]
  },
  {
   "cell_type": "code",
   "execution_count": 10,
   "id": "281d6c23-8dd1-40d9-acf7-f4bd6b7314c1",
   "metadata": {},
   "outputs": [],
   "source": [
    "table_name = 'precoc_stat'\n",
    "column_names = ['cpv3', 'preco_total', 'count', 'mean', 'std', 'min', 'q1', 'q2', 'q3', 'max']\n",
    "\n",
    "for i in cpv3:\n",
    "    cur.execute('''\n",
    "                SELECT preco_contratual\n",
    "                FROM concursospublicos\n",
    "                WHERE SUBSTRING(cpv,1,3) = %s AND preco_contratual > 0;\n",
    "                ''', (i,))\n",
    "    \n",
    "    result = pd.DataFrame(cur.fetchall())\n",
    "\n",
    "    if len(result) > 1:\n",
    "        row = list((i,result.iloc[:,0].values.sum()))\n",
    "        row.extend(list(result.iloc[:, 0].describe().values))\n",
    "        \n",
    "        insert_query = sql.SQL(\"INSERT INTO {} ({}) VALUES ({});\").format(\n",
    "            sql.Identifier(table_name),\n",
    "            sql.SQL(',').join(sql.Identifier(name) for name in column_names),\n",
    "            sql.SQL(',').join(sql.Literal(value) for value in row)\n",
    "        )\n",
    "        cur.execute(insert_query)\n",
    "\n",
    "conn.commit()"
   ]
  },
  {
   "cell_type": "code",
   "execution_count": null,
   "id": "d4e7a52d-f09d-4b20-81c0-5797205d49a8",
   "metadata": {},
   "outputs": [],
   "source": []
  }
 ],
 "metadata": {
  "kernelspec": {
   "display_name": "Python 3 (ipykernel)",
   "language": "python",
   "name": "python3"
  },
  "language_info": {
   "codemirror_mode": {
    "name": "ipython",
    "version": 3
   },
   "file_extension": ".py",
   "mimetype": "text/x-python",
   "name": "python",
   "nbconvert_exporter": "python",
   "pygments_lexer": "ipython3",
   "version": "3.11.6"
  }
 },
 "nbformat": 4,
 "nbformat_minor": 5
}
