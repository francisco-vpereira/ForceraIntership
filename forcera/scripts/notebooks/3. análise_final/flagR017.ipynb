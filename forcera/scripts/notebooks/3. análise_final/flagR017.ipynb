{
 "cells": [
  {
   "cell_type": "markdown",
   "id": "f0acf721-047e-4ac7-a609-28e8636b5eed",
   "metadata": {},
   "source": [
    "# R017 : Unreasonably high or low line item. The difference between an item value and its expected value is above a threshold"
   ]
  },
  {
   "cell_type": "code",
   "execution_count": 3,
   "id": "5902fe97-c474-4afb-b507-e94d86c60603",
   "metadata": {},
   "outputs": [],
   "source": [
    "import psycopg2\n",
    "from psycopg2 import OperationalError\n",
    "from psycopg2 import sql\n",
    "import pandas as pd\n",
    "import numpy as np\n",
    "import matplotlib.pylab as plt\n",
    "from scipy.optimize import curve_fit\n",
    "import seaborn as sns\n",
    "from IPython.display import HTML\n",
    "import webbrowser\n",
    "from collections import defaultdict\n",
    "import networkx as nx\n",
    "import csv\n",
    "import os\n",
    "from datetime import datetime\n",
    "from statsmodels.stats.stattools import medcouple \n",
    "\n",
    "\n",
    "os.chdir('/home/francisco/MECAD/2º Ano/Estágio/forcera/scripts/scripts_py')\n",
    "\n",
    "\n",
    "\n",
    "# LIGAÇÃO À BASE DE DADOS\n",
    "conn = psycopg2.connect(\n",
    "    host = \"contratos-base-gov1.cf87yxnqgph8.eu-central-1.rds.amazonaws.com\",\n",
    "    port = 5432,\n",
    "    #database = \"contratosbasegov\",\n",
    "    user = \"contratosbasegov\",\n",
    "    password = \"8n9nyeTBFUyCcLJShNrZdPUai2KQkue4\")\n",
    "cur = conn.cursor()"
   ]
  },
  {
   "cell_type": "code",
   "execution_count": 22,
   "id": "40654d17-0299-4717-824f-c4a026745f1f",
   "metadata": {},
   "outputs": [],
   "source": [
    "cur.execute('''ROLLBACK;''')"
   ]
  },
  {
   "cell_type": "markdown",
   "id": "2712a865-bb59-49d6-8ab0-0e26ff33c1ff",
   "metadata": {},
   "source": [
    "# 1. Análise para situação em que se consideram os 3 primeiros dígitos do CPV"
   ]
  },
  {
   "cell_type": "code",
   "execution_count": 2,
   "id": "cd1a18fa-35b7-4371-b940-4a9758b64e74",
   "metadata": {},
   "outputs": [],
   "source": [
    "cur = conn.cursor()\n",
    "cur.execute('''\n",
    "            SELECT SUBSTRING(contratos_basegov.\"cpv\",1,3) , id, preco_contratual\n",
    "            FROM contratos_basegov\n",
    "            WHERE tipo_procedimento = 'Concurso público' AND preco_contratual > 0;\n",
    "            ''')\n",
    "\n",
    "data = pd.DataFrame(cur.fetchall())"
   ]
  },
  {
   "cell_type": "code",
   "execution_count": 3,
   "id": "2c755bfd-af1c-4b38-bdc2-15a57ecfd288",
   "metadata": {},
   "outputs": [],
   "source": [
    "data = data.rename(columns={0:'cpv', 1:'id', 2:'preco_contratual'})\n",
    "\n",
    "cpv = (data.iloc[:,0].unique())\n",
    "cpv = np.delete(cpv, np.where(cpv == ''))"
   ]
  },
  {
   "cell_type": "markdown",
   "id": "2560dfe4-5ae0-4bf7-bfb4-e8d27127f4c2",
   "metadata": {},
   "source": [
    "## 1.1 Inserir indicadores estatísticos na tabela <i>precoc_stat</i>"
   ]
  },
  {
   "cell_type": "code",
   "execution_count": 4,
   "id": "64598a32-e972-46ec-b6df-43492c7a6298",
   "metadata": {},
   "outputs": [],
   "source": [
    "# GUARDAR TODAS AS COMBINAÇÕES DE CPVs COM OS 3 PRIMEIROS DÍGITOS\n",
    "cur = conn.cursor()\n",
    "cur.execute('''\n",
    "            SELECT DISTINCT(SUBSTRING(cpv,1,3)) \n",
    "            FROM contratos_basegov;''')\n",
    "cpv3 = [item[0] for item in cur.fetchall()]"
   ]
  },
  {
   "cell_type": "code",
   "execution_count": 5,
   "id": "281d6c23-8dd1-40d9-acf7-f4bd6b7314c1",
   "metadata": {},
   "outputs": [],
   "source": [
    "table_name = 'precoc_stat'\n",
    "column_names = ['cpv', 'preco_total', 'count', 'mean', 'std', 'min', 'q1', 'q2', 'q3', 'max']\n",
    "\n",
    "#for i in cpv3:\n",
    "#    cur.execute('''\n",
    "#                SELECT preco_contratual\n",
    "#                FROM contratos_basegov\n",
    "#                WHERE SUBSTRING(cpv,1,3) = %s AND preco_contratual > 0;\n",
    "#                ''', (i,))\n",
    "#    \n",
    "#    result = pd.DataFrame(cur.fetchall())\n",
    "#\n",
    "#    if len(result) > 1:\n",
    "#        row = list((i,result.iloc[:,0].values.sum()))\n",
    "#        row.extend(list(result.iloc[:, 0].describe().values))\n",
    "#        \n",
    "#        insert_query = sql.SQL(\"INSERT INTO {} ({}) VALUES ({});\").format(\n",
    "#            sql.Identifier(table_name),\n",
    "#            sql.SQL(',').join(sql.Identifier(name) for name in column_names),\n",
    "#            sql.SQL(',').join(sql.Literal(value) for value in row)\n",
    "#        )\n",
    "#        cur.execute(insert_query)\n",
    "#\n",
    "#conn.commit()"
   ]
  },
  {
   "cell_type": "markdown",
   "id": "7419037c-d471-4f47-b336-2cb411c45259",
   "metadata": {},
   "source": [
    "## 1.2 Cálculo da constante de Medcouple"
   ]
  },
  {
   "cell_type": "code",
   "execution_count": 6,
   "id": "fa3c2cff-921a-47d0-870b-c4fd17283fbc",
   "metadata": {
    "scrolled": true
   },
   "outputs": [],
   "source": [
    "cur = conn.cursor()\n",
    "\n",
    "for i in cpv:\n",
    "\n",
    "    df = data.loc[data[\"cpv\"] == i, \"preco_contratual\"].values\n",
    "    \n",
    "    if 1 < len(df) < 12000:\n",
    "    \n",
    "        const = float(medcouple(df))\n",
    "        cur.execute('''\n",
    "                    UPDATE precoc_stat SET medcouple_constant = %s WHERE precoc_stat.\"cpv\" = %s;\n",
    "                   ''', (const, str(i)))\n",
    "    else : \n",
    "        cur.execute('''\n",
    "                    UPDATE precoc_stat SET medcouple_constant = COALESCE(medcouple_constant, 0);\n",
    "                   ''')\n",
    "        \n",
    "\n",
    "conn.commit()"
   ]
  },
  {
   "cell_type": "markdown",
   "id": "2ab6364b-50ba-46ce-8fa5-87daf98aedeb",
   "metadata": {},
   "source": [
    "## 1.3 Cálculo da *lower_fence* e *upper_fence*"
   ]
  },
  {
   "cell_type": "code",
   "execution_count": 5,
   "id": "9f89f79c-457f-48aa-a60a-ef3d8ec7d146",
   "metadata": {
    "scrolled": true
   },
   "outputs": [],
   "source": [
    "valores_add = list()\n",
    "\n",
    "cur = conn.cursor()\n",
    "\n",
    "for i in list(np.sort(cpv)):\n",
    "    \n",
    "    cur.execute('''\n",
    "               SELECT q1, q3, dq, medcouple_constant\n",
    "               FROM precoc_stat\n",
    "               WHERE precoc_stat.\"cpv\" = %s;\n",
    "              ''', (i,))\n",
    "\n",
    "    q1,q3,iqr,mc =(cur.fetchall()[0])\n",
    "\n",
    "    \n",
    "    if mc != 0: \n",
    "       lf = q1 - 1.5*np.exp(-4*mc)*iqr\n",
    "       uf = q3 + 1.5*np.exp(3*mc)*iqr\n",
    "       valores_add.append([i,lf,uf])\n",
    "\n",
    "    \n",
    "    else :\n",
    "       lf = q1 - 1.5*iqr\n",
    "       uf = q3 + 1.5*iqr\n",
    "       valores_add.append([i,lf,uf])\n",
    "\n",
    "conn.commit()"
   ]
  },
  {
   "cell_type": "code",
   "execution_count": 6,
   "id": "42d77dd3-0c8a-41af-93e9-e9af29cd61fd",
   "metadata": {},
   "outputs": [],
   "source": [
    "cur = conn.cursor()\n",
    "\n",
    "for i in valores_add:\n",
    "    cpv, lf, uf = i\n",
    "\n",
    "    cur.execute('''\n",
    "                UPDATE precoc_stat\n",
    "                SET lower_fence = %s, upper_fence = %s\n",
    "                WHERE precoc_stat.\"cpv\" = %s;\n",
    "                ''', (lf, uf, str(cpv)))\n",
    "\n",
    "conn.commit()"
   ]
  },
  {
   "cell_type": "markdown",
   "id": "dc526255-def1-4d71-9d42-cb75ec78979c",
   "metadata": {},
   "source": [
    "# 2. Análise para situação em que se consideram os 2 primeiros dígitos do CPV\n",
    "\n",
    "Vai demorar muito a correr por causa do cálculo da constante de Medcouple"
   ]
  },
  {
   "cell_type": "code",
   "execution_count": 13,
   "id": "5a04ccc8-9d05-4a47-aaf4-23fbfa083856",
   "metadata": {},
   "outputs": [],
   "source": [
    "cur = conn.cursor()\n",
    "cur.execute('''\n",
    "            SELECT SUBSTRING(contratos_basegov.\"cpv\",1,2) , id, preco_contratual\n",
    "            FROM contratos_basegov\n",
    "            WHERE tipo_procedimento = 'Concurso público' AND preco_contratual > 0;\n",
    "            ''')\n",
    "\n",
    "data1 = pd.DataFrame(cur.fetchall())"
   ]
  },
  {
   "cell_type": "code",
   "execution_count": 17,
   "id": "2b735467-7947-4184-9c5a-3947833cd638",
   "metadata": {},
   "outputs": [],
   "source": [
    "data1 = data1.rename(columns={0:'cpv', 1:'id', 2:'preco_contratual'})"
   ]
  },
  {
   "cell_type": "code",
   "execution_count": 7,
   "id": "aba37ef1-ae4f-4156-aab7-f7d2370c5eee",
   "metadata": {},
   "outputs": [],
   "source": [
    "# GUARDAR TODAS AS COMBINAÇÕES DE CPVs COM OS 2 PRIMEIROS DÍGITOS\n",
    "cur = conn.cursor()\n",
    "cur.execute('''\n",
    "            SELECT DISTINCT(SUBSTRING(cpv,1,2)) \n",
    "            FROM contratos_basegov;''')\n",
    "cpv2 = [item[0] for item in cur.fetchall()]"
   ]
  },
  {
   "cell_type": "code",
   "execution_count": 9,
   "id": "91b915ad-84cb-43d4-837c-d1543e52db5b",
   "metadata": {},
   "outputs": [],
   "source": [
    "table_name = 'precoc_stat_v2'\n",
    "column_names = ['cpv', 'preco_total', 'count', 'mean', 'std', 'min', 'q1', 'q2', 'q3', 'max']\n",
    "\n",
    "for i in cpv2:\n",
    "    cur.execute('''\n",
    "                SELECT preco_contratual\n",
    "                FROM contratos_basegov\n",
    "                WHERE SUBSTRING(cpv,1,2) = %s AND preco_contratual > 0;\n",
    "                ''', (i,))\n",
    "    \n",
    "    result = pd.DataFrame(cur.fetchall())\n",
    "\n",
    "    if len(result) > 1:\n",
    "        row = list((i,result.iloc[:,0].values.sum()))\n",
    "        row.extend(list(result.iloc[:, 0].describe().values))\n",
    "        \n",
    "        insert_query = sql.SQL(\"INSERT INTO {} ({}) VALUES ({});\").format(\n",
    "            sql.Identifier(table_name),\n",
    "            sql.SQL(',').join(sql.Identifier(name) for name in column_names),\n",
    "            sql.SQL(',').join(sql.Literal(value) for value in row)\n",
    "        )\n",
    "        cur.execute(insert_query)\n",
    "\n",
    "conn.commit()"
   ]
  },
  {
   "cell_type": "code",
   "execution_count": null,
   "id": "50b9965b-5979-41f5-821d-296bcae9b41b",
   "metadata": {},
   "outputs": [
    {
     "name": "stdout",
     "output_type": "stream",
     "text": [
      " 7 0.8487228308402546\n",
      "03 810 0.4311948536837307\n",
      "09 2754 0.5543987778033209\n",
      "14 290 0.3566439359761087\n",
      "15 5786 0.5596127017825334\n",
      "16 206 0.21412429378531073\n",
      "18 1193 0.4633155781877255\n",
      "19 371 0.4470860557661274\n",
      "22 641 0.4545781476700614\n",
      "24 1000 0.5539358516601871\n",
      "30 5090 0.6481538460984491\n",
      "31 849 0.5270033257860847\n",
      "32 1179 0.3982499280969277\n"
     ]
    }
   ],
   "source": [
    "cur = conn.cursor()\n",
    "\n",
    "for i in cpv2:\n",
    "\n",
    "    df = data1.loc[data1[\"cpv\"] == i, \"preco_contratual\"].values\n",
    "\n",
    "    #if len(df) > 1:\n",
    "    #\n",
    "    #    const = float(medcouple(df))\n",
    "    #    print(i, len(df), const)\n",
    "    #    cur.execute('''\n",
    "    #                UPDATE precoc_stat SET medcouple_constant = %s WHERE precoc_stat.\"cpv\" = %s;\n",
    "    #               ''', (const, str(i)))\n",
    "    #else : \n",
    "    #    cur.execute('''\n",
    "    #                UPDATE precoc_stat SET medcouple_constant = COALESCE(medcouple_constant, 0);\n",
    "    #               ''')\n",
    "        \n",
    "\n",
    "conn.commit()"
   ]
  },
  {
   "cell_type": "markdown",
   "id": "53bce5b4-445d-41c4-985c-aec9680aad3e",
   "metadata": {},
   "source": [
    "ver irregularidades/flags por ano e por cpv\n",
    "considerar pandemia\n",
    "\n",
    "\n",
    "ver nr de flags alertadas por ano e para os diferentes cpvs\n",
    "\n",
    "nr de contratos por ano e por cpv\n",
    "\n",
    "\n",
    "diferença entre valor contratal e base : ver quais sao os cpvs com difs mais próximas e distantes"
   ]
  },
  {
   "cell_type": "code",
   "execution_count": 32,
   "id": "879d78e0-3d77-4613-89ba-5a5833fc68fc",
   "metadata": {},
   "outputs": [],
   "source": [
    "def lastid():\n",
    "    \"\"\"\n",
    "    Função que retorna o último ID copiado para a tabela auxiliar 'concursos_publicos'\n",
    "    \"\"\"\n",
    "    cur = conn.cursor()\n",
    "    cur.execute('''\n",
    "                SELECT concursos_publicos.\"id\"\n",
    "                FROM concursos_publicos\n",
    "                ORDER BY data_publicacao DESC, concursos_publicos.\"id\" DESC\n",
    "                LIMIT 1;\n",
    "                ''')\n",
    "    return(cur.fetchone()[0])\n",
    "    \n",
    "\n",
    "\n",
    "a = (null_verification())"
   ]
  },
  {
   "cell_type": "code",
   "execution_count": 33,
   "id": "a996506d-6ce6-4823-95f4-e0f9150cd49b",
   "metadata": {},
   "outputs": [
    {
     "data": {
      "text/plain": [
       "0"
      ]
     },
     "execution_count": 33,
     "metadata": {},
     "output_type": "execute_result"
    }
   ],
   "source": [
    "a"
   ]
  },
  {
   "cell_type": "code",
   "execution_count": null,
   "id": "93c90a1e-8b5d-4d7e-858f-093ab75e4278",
   "metadata": {},
   "outputs": [],
   "source": []
  }
 ],
 "metadata": {
  "kernelspec": {
   "display_name": "Python 3 (ipykernel)",
   "language": "python",
   "name": "python3"
  },
  "language_info": {
   "codemirror_mode": {
    "name": "ipython",
    "version": 3
   },
   "file_extension": ".py",
   "mimetype": "text/x-python",
   "name": "python",
   "nbconvert_exporter": "python",
   "pygments_lexer": "ipython3",
   "version": "3.11.7"
  }
 },
 "nbformat": 4,
 "nbformat_minor": 5
}
